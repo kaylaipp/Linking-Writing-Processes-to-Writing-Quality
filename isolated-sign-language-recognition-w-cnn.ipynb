{
 "cells": [
  {
   "cell_type": "markdown",
   "id": "02aeefd2",
   "metadata": {
    "papermill": {
     "duration": 0.012802,
     "end_time": "2024-08-28T04:20:39.017578",
     "exception": false,
     "start_time": "2024-08-28T04:20:39.004776",
     "status": "completed"
    },
    "tags": []
   },
   "source": [
    "# <font color='289C4E'>Table of contents<font><a class='anchor' id='top'></a>\n",
    "1. [Introduction](#intro)\n",
    "2. [Defining imports](#imports)\n",
    "3. [Exploring the data](#explore)\n",
    "4. [Defining pre-processing / utilities](#utilis)\n",
    "5. [Defining model](#models)\n",
    "6. [Training the model(s)](#m)\n",
    "7. [Plot evaluations](#background)\n",
    "8. [Viewing output](#alerts)\n",
    "9. [Creating final submission](#tf_lite)\n",
    "10. [Future work](#future_work)\n",
    "11. [References](#references)"
   ]
  },
  {
   "cell_type": "markdown",
   "id": "03f7eca0",
   "metadata": {
    "papermill": {
     "duration": 0.011254,
     "end_time": "2024-08-28T04:20:39.040383",
     "exception": false,
     "start_time": "2024-08-28T04:20:39.029129",
     "status": "completed"
    },
    "tags": []
   },
   "source": [
    "# <font color='289C4E'>1. Introduction <font><a class='anchor' id='intro'></a> [↑](#top)\n",
    "    \n",
    "    \n",
    "The following notebook will define a base neural network model with Tensorflow to classify ASL gestures, and continutelly tweak the model to see how we can improve overall validation accuracy. "
   ]
  },
  {
   "cell_type": "markdown",
   "id": "2385906b",
   "metadata": {
    "papermill": {
     "duration": 0.011058,
     "end_time": "2024-08-28T04:20:39.062763",
     "exception": false,
     "start_time": "2024-08-28T04:20:39.051705",
     "status": "completed"
    },
    "tags": []
   },
   "source": [
    "# <font color='289C4E'>2. Defining imports <font><a class='anchor' id='imports'></a> [↑](#top)"
   ]
  },
  {
   "cell_type": "code",
   "execution_count": 1,
   "id": "7b8fcd7a",
   "metadata": {
    "_cell_guid": "b1076dfc-b9ad-4769-8c92-a6c4dae69d19",
    "_uuid": "8f2839f25d086af736a60e9eeb907d3b93b6e0e5",
    "execution": {
     "iopub.execute_input": "2024-08-28T04:20:39.088323Z",
     "iopub.status.busy": "2024-08-28T04:20:39.087844Z",
     "iopub.status.idle": "2024-08-28T04:20:51.586685Z",
     "shell.execute_reply": "2024-08-28T04:20:51.585395Z"
    },
    "papermill": {
     "duration": 12.515083,
     "end_time": "2024-08-28T04:20:51.589734",
     "exception": false,
     "start_time": "2024-08-28T04:20:39.074651",
     "status": "completed"
    },
    "tags": []
   },
   "outputs": [],
   "source": [
    "import os\n",
    "import json\n",
    "import gc\n",
    "import pickle\n",
    "import torch\n",
    "import torch.nn as nn\n",
    "import numpy as np\n",
    "import pandas as pd\n",
    "# import zipfile\n",
    "import pyarrow.parquet as pq\n",
    "import matplotlib.pyplot as plt\n",
    "import multiprocessing as mp\n",
    "from tqdm import tqdm\n",
    "import imgaug.augmenters as iaa\n",
    "from PIL import Image\n",
    "\n",
    "import tensorflow as tf\n",
    "from tensorflow.keras import layers, optimizers\n",
    "import tensorflow.keras.models as models\n",
    "\n",
    "from sklearn.preprocessing import LabelBinarizer\n",
    "from sklearn.model_selection import train_test_split\n",
    "from sklearn.metrics import accuracy_score\n",
    "\n",
    "from keras.models import Sequential\n",
    "from keras.utils.vis_utils import plot_model\n",
    "from keras.layers import Conv3D, BatchNormalization, Activation, MaxPooling3D, Flatten, Dense, Dropout, Conv2D, MaxPooling2D, Reshape\n",
    "\n",
    "from tensorflow.keras.layers import LeakyReLU\n",
    "from tensorflow.keras.initializers import Constant\n",
    "from tensorflow.keras import regularizers\n",
    "pd.options.display.max_rows = 9999"
   ]
  },
  {
   "cell_type": "markdown",
   "id": "65df85e6",
   "metadata": {
    "papermill": {
     "duration": 0.01067,
     "end_time": "2024-08-28T04:20:51.611369",
     "exception": false,
     "start_time": "2024-08-28T04:20:51.600699",
     "status": "completed"
    },
    "tags": []
   },
   "source": [
    "something I found really helpful during this process is utlizing a GPU! It's available for use if you click the 3 dots in the top right and click \"accelerator\"\n",
    "\n",
    "I was not familar with how to use one prior nor did I realize it was available - the following code just checks if you are using a GPU or not"
   ]
  },
  {
   "cell_type": "code",
   "execution_count": 2,
   "id": "3dcfc966",
   "metadata": {
    "execution": {
     "iopub.execute_input": "2024-08-28T04:20:51.635189Z",
     "iopub.status.busy": "2024-08-28T04:20:51.634322Z",
     "iopub.status.idle": "2024-08-28T04:20:56.759314Z",
     "shell.execute_reply": "2024-08-28T04:20:56.757865Z"
    },
    "papermill": {
     "duration": 5.140405,
     "end_time": "2024-08-28T04:20:56.762432",
     "exception": false,
     "start_time": "2024-08-28T04:20:51.622027",
     "status": "completed"
    },
    "tags": []
   },
   "outputs": [
    {
     "name": "stdout",
     "output_type": "stream",
     "text": [
      "Found GPU at: /device:GPU:0\n"
     ]
    }
   ],
   "source": [
    "device_name = tf.test.gpu_device_name()\n",
    "if \"GPU\" not in device_name:\n",
    "    print(\"GPU device not found\")\n",
    "else:\n",
    "    print('Found GPU at: {}'.format(device_name))"
   ]
  },
  {
   "cell_type": "markdown",
   "id": "cf961967",
   "metadata": {
    "papermill": {
     "duration": 0.011039,
     "end_time": "2024-08-28T04:20:56.785038",
     "exception": false,
     "start_time": "2024-08-28T04:20:56.773999",
     "status": "completed"
    },
    "tags": []
   },
   "source": [
    "# <font color='289C4E'>3. Exploring the data <font><a class='anchor' id='explore'></a> [↑](#top)"
   ]
  },
  {
   "cell_type": "code",
   "execution_count": 3,
   "id": "8703264c",
   "metadata": {
    "execution": {
     "iopub.execute_input": "2024-08-28T04:20:56.808862Z",
     "iopub.status.busy": "2024-08-28T04:20:56.808459Z",
     "iopub.status.idle": "2024-08-28T04:20:56.814126Z",
     "shell.execute_reply": "2024-08-28T04:20:56.812981Z"
    },
    "papermill": {
     "duration": 0.02045,
     "end_time": "2024-08-28T04:20:56.816534",
     "exception": false,
     "start_time": "2024-08-28T04:20:56.796084",
     "status": "completed"
    },
    "tags": []
   },
   "outputs": [],
   "source": [
    "# file paths for given input files \n",
    "TRAIN = \"/kaggle/input/asl-signs/train.csv\"\n",
    "DATA_PATH = '../input/asl-signs/'\n",
    "MAPPINGS = \"../input/asl-signs/sign_to_prediction_index_map.json\"\n",
    "AGGREGATED_DATA_PATH = '../input/isolated-sign-language-aggregation-dataset/'"
   ]
  },
  {
   "cell_type": "markdown",
   "id": "ef128b6c",
   "metadata": {
    "papermill": {
     "duration": 0.010713,
     "end_time": "2024-08-28T04:20:56.838481",
     "exception": false,
     "start_time": "2024-08-28T04:20:56.827768",
     "status": "completed"
    },
    "tags": []
   },
   "source": [
    "### <font color='289C4E'> 3.1. Example of data landmark <font><a class='anchor' id='explore'></a>\n",
    "\n",
    "This is just taken from the competition guidelines, but putting it here for easy reference\n",
    "\n",
    "Landmark data should not be used to identify or re-identify an individual. Landmark data is not intended to enable any form of identity recognition or store any unique biometric identification.\n",
    "\n",
    "- Landmark data (ex face, right hand etc) is stored under `train_landmark_files` directory with the following naming convention: \n",
    "`train_landmark_files/[participant_id]/[sequence_id].parquet`\n",
    "- `frame` - The frame number in the raw video.\n",
    "- `row_id` - A unique identifier for the row.\n",
    "- `type` - The type of landmark. One of ['face', 'left_hand', 'pose', 'right_hand'].\n",
    "- `landmark_index` - The landmark index number. Details of the hand landmark locations can be found here.\n",
    "- `[x/y/z]` - The normalized spatial coordinates of the landmark. These are the only columns that will be provided to your submitted model\n",
    "for inference. The MediaPipe model is not fully trained to predict depth so you may wish to ignore the z values."
   ]
  },
  {
   "cell_type": "code",
   "execution_count": 4,
   "id": "7f244f50",
   "metadata": {
    "execution": {
     "iopub.execute_input": "2024-08-28T04:20:56.862660Z",
     "iopub.status.busy": "2024-08-28T04:20:56.861720Z",
     "iopub.status.idle": "2024-08-28T04:20:57.036281Z",
     "shell.execute_reply": "2024-08-28T04:20:57.035077Z"
    },
    "papermill": {
     "duration": 0.189568,
     "end_time": "2024-08-28T04:20:57.039108",
     "exception": false,
     "start_time": "2024-08-28T04:20:56.849540",
     "status": "completed"
    },
    "tags": []
   },
   "outputs": [
    {
     "data": {
      "text/html": [
       "<div>\n",
       "<style scoped>\n",
       "    .dataframe tbody tr th:only-of-type {\n",
       "        vertical-align: middle;\n",
       "    }\n",
       "\n",
       "    .dataframe tbody tr th {\n",
       "        vertical-align: top;\n",
       "    }\n",
       "\n",
       "    .dataframe thead th {\n",
       "        text-align: right;\n",
       "    }\n",
       "</style>\n",
       "<table border=\"1\" class=\"dataframe\">\n",
       "  <thead>\n",
       "    <tr style=\"text-align: right;\">\n",
       "      <th></th>\n",
       "      <th>frame</th>\n",
       "      <th>row_id</th>\n",
       "      <th>type</th>\n",
       "      <th>landmark_index</th>\n",
       "      <th>x</th>\n",
       "      <th>y</th>\n",
       "      <th>z</th>\n",
       "    </tr>\n",
       "  </thead>\n",
       "  <tbody>\n",
       "    <tr>\n",
       "      <th>0</th>\n",
       "      <td>0</td>\n",
       "      <td>0-face-0</td>\n",
       "      <td>face</td>\n",
       "      <td>0</td>\n",
       "      <td>0.536712</td>\n",
       "      <td>0.421679</td>\n",
       "      <td>-0.054983</td>\n",
       "    </tr>\n",
       "    <tr>\n",
       "      <th>1</th>\n",
       "      <td>0</td>\n",
       "      <td>0-face-1</td>\n",
       "      <td>face</td>\n",
       "      <td>1</td>\n",
       "      <td>0.532607</td>\n",
       "      <td>0.388884</td>\n",
       "      <td>-0.064112</td>\n",
       "    </tr>\n",
       "    <tr>\n",
       "      <th>2</th>\n",
       "      <td>0</td>\n",
       "      <td>0-face-2</td>\n",
       "      <td>face</td>\n",
       "      <td>2</td>\n",
       "      <td>0.535190</td>\n",
       "      <td>0.405216</td>\n",
       "      <td>-0.043147</td>\n",
       "    </tr>\n",
       "    <tr>\n",
       "      <th>3</th>\n",
       "      <td>0</td>\n",
       "      <td>0-face-3</td>\n",
       "      <td>face</td>\n",
       "      <td>3</td>\n",
       "      <td>0.515270</td>\n",
       "      <td>0.369050</td>\n",
       "      <td>-0.034260</td>\n",
       "    </tr>\n",
       "    <tr>\n",
       "      <th>4</th>\n",
       "      <td>0</td>\n",
       "      <td>0-face-4</td>\n",
       "      <td>face</td>\n",
       "      <td>4</td>\n",
       "      <td>0.530208</td>\n",
       "      <td>0.380113</td>\n",
       "      <td>-0.063684</td>\n",
       "    </tr>\n",
       "    <tr>\n",
       "      <th>5</th>\n",
       "      <td>0</td>\n",
       "      <td>0-face-5</td>\n",
       "      <td>face</td>\n",
       "      <td>5</td>\n",
       "      <td>0.527388</td>\n",
       "      <td>0.371860</td>\n",
       "      <td>-0.053191</td>\n",
       "    </tr>\n",
       "    <tr>\n",
       "      <th>6</th>\n",
       "      <td>0</td>\n",
       "      <td>0-face-6</td>\n",
       "      <td>face</td>\n",
       "      <td>6</td>\n",
       "      <td>0.521091</td>\n",
       "      <td>0.354423</td>\n",
       "      <td>-0.005393</td>\n",
       "    </tr>\n",
       "    <tr>\n",
       "      <th>7</th>\n",
       "      <td>0</td>\n",
       "      <td>0-face-7</td>\n",
       "      <td>face</td>\n",
       "      <td>7</td>\n",
       "      <td>0.438529</td>\n",
       "      <td>0.376151</td>\n",
       "      <td>0.035212</td>\n",
       "    </tr>\n",
       "    <tr>\n",
       "      <th>8</th>\n",
       "      <td>0</td>\n",
       "      <td>0-face-8</td>\n",
       "      <td>face</td>\n",
       "      <td>8</td>\n",
       "      <td>0.515626</td>\n",
       "      <td>0.336895</td>\n",
       "      <td>0.014367</td>\n",
       "    </tr>\n",
       "    <tr>\n",
       "      <th>9</th>\n",
       "      <td>0</td>\n",
       "      <td>0-face-9</td>\n",
       "      <td>face</td>\n",
       "      <td>9</td>\n",
       "      <td>0.512473</td>\n",
       "      <td>0.325666</td>\n",
       "      <td>0.020026</td>\n",
       "    </tr>\n",
       "  </tbody>\n",
       "</table>\n",
       "</div>"
      ],
      "text/plain": [
       "   frame    row_id  type  landmark_index         x         y         z\n",
       "0      0  0-face-0  face               0  0.536712  0.421679 -0.054983\n",
       "1      0  0-face-1  face               1  0.532607  0.388884 -0.064112\n",
       "2      0  0-face-2  face               2  0.535190  0.405216 -0.043147\n",
       "3      0  0-face-3  face               3  0.515270  0.369050 -0.034260\n",
       "4      0  0-face-4  face               4  0.530208  0.380113 -0.063684\n",
       "5      0  0-face-5  face               5  0.527388  0.371860 -0.053191\n",
       "6      0  0-face-6  face               6  0.521091  0.354423 -0.005393\n",
       "7      0  0-face-7  face               7  0.438529  0.376151  0.035212\n",
       "8      0  0-face-8  face               8  0.515626  0.336895  0.014367\n",
       "9      0  0-face-9  face               9  0.512473  0.325666  0.020026"
      ]
     },
     "execution_count": 4,
     "metadata": {},
     "output_type": "execute_result"
    }
   ],
   "source": [
    "sample_data = pd.read_parquet(\"/kaggle/input/asl-signs/train_landmark_files/36257/3762317508.parquet\")\n",
    "sample_data.describe()\n",
    "sample_data.head(10)"
   ]
  },
  {
   "cell_type": "markdown",
   "id": "9e73ca59",
   "metadata": {
    "papermill": {
     "duration": 0.011242,
     "end_time": "2024-08-28T04:20:57.063235",
     "exception": false,
     "start_time": "2024-08-28T04:20:57.051993",
     "status": "completed"
    },
    "tags": []
   },
   "source": [
    "### <font color='289C4E'> 3.2. Example of training data <font><a class='anchor' id='explore'></a>\n",
    "\n",
    "Again, this is just taken from the competition guidelines, but putting it here for easy reference\n",
    "\n",
    "\n",
    "- `path` - The path to the landmark file.\n",
    "- `participant_id` - A unique identifier for the data contributor.\n",
    "- `sequence_id` - A unique identifier for the landmark sequence.\n",
    "- `sign` - The label for the landmark sequence."
   ]
  },
  {
   "cell_type": "code",
   "execution_count": 5,
   "id": "f7822286",
   "metadata": {
    "execution": {
     "iopub.execute_input": "2024-08-28T04:20:57.088037Z",
     "iopub.status.busy": "2024-08-28T04:20:57.087166Z",
     "iopub.status.idle": "2024-08-28T04:20:57.322058Z",
     "shell.execute_reply": "2024-08-28T04:20:57.320757Z"
    },
    "papermill": {
     "duration": 0.250252,
     "end_time": "2024-08-28T04:20:57.324637",
     "exception": false,
     "start_time": "2024-08-28T04:20:57.074385",
     "status": "completed"
    },
    "tags": []
   },
   "outputs": [
    {
     "name": "stdout",
     "output_type": "stream",
     "text": [
      "train shape (94477, 4)\n"
     ]
    },
    {
     "data": {
      "text/html": [
       "<div>\n",
       "<style scoped>\n",
       "    .dataframe tbody tr th:only-of-type {\n",
       "        vertical-align: middle;\n",
       "    }\n",
       "\n",
       "    .dataframe tbody tr th {\n",
       "        vertical-align: top;\n",
       "    }\n",
       "\n",
       "    .dataframe thead th {\n",
       "        text-align: right;\n",
       "    }\n",
       "</style>\n",
       "<table border=\"1\" class=\"dataframe\">\n",
       "  <thead>\n",
       "    <tr style=\"text-align: right;\">\n",
       "      <th></th>\n",
       "      <th>path</th>\n",
       "      <th>participant_id</th>\n",
       "      <th>sequence_id</th>\n",
       "      <th>sign</th>\n",
       "    </tr>\n",
       "  </thead>\n",
       "  <tbody>\n",
       "    <tr>\n",
       "      <th>0</th>\n",
       "      <td>train_landmark_files/26734/1000035562.parquet</td>\n",
       "      <td>26734</td>\n",
       "      <td>1000035562</td>\n",
       "      <td>blow</td>\n",
       "    </tr>\n",
       "    <tr>\n",
       "      <th>1</th>\n",
       "      <td>train_landmark_files/28656/1000106739.parquet</td>\n",
       "      <td>28656</td>\n",
       "      <td>1000106739</td>\n",
       "      <td>wait</td>\n",
       "    </tr>\n",
       "    <tr>\n",
       "      <th>2</th>\n",
       "      <td>train_landmark_files/16069/100015657.parquet</td>\n",
       "      <td>16069</td>\n",
       "      <td>100015657</td>\n",
       "      <td>cloud</td>\n",
       "    </tr>\n",
       "    <tr>\n",
       "      <th>3</th>\n",
       "      <td>train_landmark_files/25571/1000210073.parquet</td>\n",
       "      <td>25571</td>\n",
       "      <td>1000210073</td>\n",
       "      <td>bird</td>\n",
       "    </tr>\n",
       "    <tr>\n",
       "      <th>4</th>\n",
       "      <td>train_landmark_files/62590/1000240708.parquet</td>\n",
       "      <td>62590</td>\n",
       "      <td>1000240708</td>\n",
       "      <td>owie</td>\n",
       "    </tr>\n",
       "  </tbody>\n",
       "</table>\n",
       "</div>"
      ],
      "text/plain": [
       "                                            path  participant_id  sequence_id  \\\n",
       "0  train_landmark_files/26734/1000035562.parquet           26734   1000035562   \n",
       "1  train_landmark_files/28656/1000106739.parquet           28656   1000106739   \n",
       "2   train_landmark_files/16069/100015657.parquet           16069    100015657   \n",
       "3  train_landmark_files/25571/1000210073.parquet           25571   1000210073   \n",
       "4  train_landmark_files/62590/1000240708.parquet           62590   1000240708   \n",
       "\n",
       "    sign  \n",
       "0   blow  \n",
       "1   wait  \n",
       "2  cloud  \n",
       "3   bird  \n",
       "4   owie  "
      ]
     },
     "execution_count": 5,
     "metadata": {},
     "output_type": "execute_result"
    }
   ],
   "source": [
    "train_data = pd.read_csv(TRAIN)\n",
    "print('train shape', train_data.shape)\n",
    "train_data.head()"
   ]
  },
  {
   "cell_type": "markdown",
   "id": "2c266e86",
   "metadata": {
    "papermill": {
     "duration": 0.012073,
     "end_time": "2024-08-28T04:20:57.349051",
     "exception": false,
     "start_time": "2024-08-28T04:20:57.336978",
     "status": "completed"
    },
    "tags": []
   },
   "source": [
    "### <font color='289C4E'> 3.3. Distribution of signs <font><a class='anchor' id='explore'></a>"
   ]
  },
  {
   "cell_type": "code",
   "execution_count": 6,
   "id": "4316c069",
   "metadata": {
    "execution": {
     "iopub.execute_input": "2024-08-28T04:20:57.376268Z",
     "iopub.status.busy": "2024-08-28T04:20:57.375415Z",
     "iopub.status.idle": "2024-08-28T04:21:00.848688Z",
     "shell.execute_reply": "2024-08-28T04:21:00.847552Z"
    },
    "papermill": {
     "duration": 3.491463,
     "end_time": "2024-08-28T04:21:00.853116",
     "exception": false,
     "start_time": "2024-08-28T04:20:57.361653",
     "status": "completed"
    },
    "tags": []
   },
   "outputs": [
    {
     "data": {
      "image/png": "[encoded data removed]",
      "text/plain": [
       "<Figure size 1500x1000 with 1 Axes>"
      ]
     },
     "metadata": {},
     "output_type": "display_data"
    }
   ],
   "source": [
    "# Count the number of occurrences of each sign\n",
    "counts = train_data['sign'].value_counts()\n",
    "\n",
    "# Plot a bar graph\n",
    "fig, ax = plt.subplots(figsize=(15, 10))\n",
    "train_data['sign'].value_counts().plot(kind='bar', ax=ax)\n",
    "\n",
    "# Set title and labels\n",
    "ax.set_title('Distribution of Signs')\n",
    "ax.set_xlabel('Signs')\n",
    "ax.set_ylabel('Count')\n",
    "\n",
    "# Show the plot\n",
    "plt.show()"
   ]
  },
  {
   "cell_type": "markdown",
   "id": "1f1e9757",
   "metadata": {
    "papermill": {
     "duration": 0.014249,
     "end_time": "2024-08-28T04:21:00.882411",
     "exception": false,
     "start_time": "2024-08-28T04:21:00.868162",
     "status": "completed"
    },
    "tags": []
   },
   "source": [
    "### <font color='289C4E'> 3.3. Example of sign prediction index map <font><a class='anchor' id='explore'></a>\n"
   ]
  },
  {
   "cell_type": "code",
   "execution_count": 7,
   "id": "4ea0c36d",
   "metadata": {
    "execution": {
     "iopub.execute_input": "2024-08-28T04:21:00.913436Z",
     "iopub.status.busy": "2024-08-28T04:21:00.912566Z",
     "iopub.status.idle": "2024-08-28T04:21:00.999797Z",
     "shell.execute_reply": "2024-08-28T04:21:00.998719Z"
    },
    "papermill": {
     "duration": 0.105923,
     "end_time": "2024-08-28T04:21:01.002562",
     "exception": false,
     "start_time": "2024-08-28T04:21:00.896639",
     "status": "completed"
    },
    "tags": []
   },
   "outputs": [
    {
     "data": {
      "text/html": [
       "<div>\n",
       "<style scoped>\n",
       "    .dataframe tbody tr th:only-of-type {\n",
       "        vertical-align: middle;\n",
       "    }\n",
       "\n",
       "    .dataframe tbody tr th {\n",
       "        vertical-align: top;\n",
       "    }\n",
       "\n",
       "    .dataframe thead th {\n",
       "        text-align: right;\n",
       "    }\n",
       "</style>\n",
       "<table border=\"1\" class=\"dataframe\">\n",
       "  <thead>\n",
       "    <tr style=\"text-align: right;\">\n",
       "      <th></th>\n",
       "      <th>TV</th>\n",
       "      <th>after</th>\n",
       "      <th>airplane</th>\n",
       "      <th>all</th>\n",
       "      <th>alligator</th>\n",
       "      <th>animal</th>\n",
       "      <th>another</th>\n",
       "      <th>any</th>\n",
       "      <th>apple</th>\n",
       "      <th>arm</th>\n",
       "      <th>...</th>\n",
       "      <th>why</th>\n",
       "      <th>will</th>\n",
       "      <th>wolf</th>\n",
       "      <th>yellow</th>\n",
       "      <th>yes</th>\n",
       "      <th>yesterday</th>\n",
       "      <th>yourself</th>\n",
       "      <th>yucky</th>\n",
       "      <th>zebra</th>\n",
       "      <th>zipper</th>\n",
       "    </tr>\n",
       "  </thead>\n",
       "  <tbody>\n",
       "    <tr>\n",
       "      <th>0</th>\n",
       "      <td>0</td>\n",
       "      <td>1</td>\n",
       "      <td>2</td>\n",
       "      <td>3</td>\n",
       "      <td>4</td>\n",
       "      <td>5</td>\n",
       "      <td>6</td>\n",
       "      <td>7</td>\n",
       "      <td>8</td>\n",
       "      <td>9</td>\n",
       "      <td>...</td>\n",
       "      <td>240</td>\n",
       "      <td>241</td>\n",
       "      <td>242</td>\n",
       "      <td>243</td>\n",
       "      <td>244</td>\n",
       "      <td>245</td>\n",
       "      <td>246</td>\n",
       "      <td>247</td>\n",
       "      <td>248</td>\n",
       "      <td>249</td>\n",
       "    </tr>\n",
       "  </tbody>\n",
       "</table>\n",
       "<p>1 rows × 250 columns</p>\n",
       "</div>"
      ],
      "text/plain": [
       "   TV  after  airplane  all  alligator  animal  another  any  apple  arm  ...  \\\n",
       "0   0      1         2    3          4       5        6    7      8    9  ...   \n",
       "\n",
       "   why  will  wolf  yellow  yes  yesterday  yourself  yucky  zebra  zipper  \n",
       "0  240   241   242     243  244        245       246    247    248     249  \n",
       "\n",
       "[1 rows x 250 columns]"
      ]
     },
     "execution_count": 7,
     "metadata": {},
     "output_type": "execute_result"
    }
   ],
   "source": [
    "sign_prediction_index_map = pd.read_json(MAPPINGS, lines=True, orient='columns')\n",
    "sign_prediction_index_map.head()"
   ]
  },
  {
   "cell_type": "markdown",
   "id": "4744d1e0",
   "metadata": {
    "papermill": {
     "duration": 0.015748,
     "end_time": "2024-08-28T04:21:01.033221",
     "exception": false,
     "start_time": "2024-08-28T04:21:01.017473",
     "status": "completed"
    },
    "tags": []
   },
   "source": [
    "### <font color='289C4E'> 3.4. Sign column examination <font><a class='anchor' id='explore'></a>\n",
    "    \n",
    "- 94477 rows of data\n",
    "- 250 unique signs\n",
    "- \"listen\" is the most frequent sign\n",
    "- \"415\" is the max number of samples for one sign"
   ]
  },
  {
   "cell_type": "code",
   "execution_count": 8,
   "id": "46813909",
   "metadata": {
    "execution": {
     "iopub.execute_input": "2024-08-28T04:21:01.064853Z",
     "iopub.status.busy": "2024-08-28T04:21:01.064098Z",
     "iopub.status.idle": "2024-08-28T04:21:01.100482Z",
     "shell.execute_reply": "2024-08-28T04:21:01.099374Z"
    },
    "papermill": {
     "duration": 0.054901,
     "end_time": "2024-08-28T04:21:01.103100",
     "exception": false,
     "start_time": "2024-08-28T04:21:01.048199",
     "status": "completed"
    },
    "tags": []
   },
   "outputs": [
    {
     "data": {
      "text/html": [
       "<div>\n",
       "<style scoped>\n",
       "    .dataframe tbody tr th:only-of-type {\n",
       "        vertical-align: middle;\n",
       "    }\n",
       "\n",
       "    .dataframe tbody tr th {\n",
       "        vertical-align: top;\n",
       "    }\n",
       "\n",
       "    .dataframe thead th {\n",
       "        text-align: right;\n",
       "    }\n",
       "</style>\n",
       "<table border=\"1\" class=\"dataframe\">\n",
       "  <thead>\n",
       "    <tr style=\"text-align: right;\">\n",
       "      <th></th>\n",
       "      <th>count</th>\n",
       "      <th>unique</th>\n",
       "      <th>top</th>\n",
       "      <th>freq</th>\n",
       "    </tr>\n",
       "  </thead>\n",
       "  <tbody>\n",
       "    <tr>\n",
       "      <th>sign</th>\n",
       "      <td>94477</td>\n",
       "      <td>250</td>\n",
       "      <td>listen</td>\n",
       "      <td>415</td>\n",
       "    </tr>\n",
       "  </tbody>\n",
       "</table>\n",
       "</div>"
      ],
      "text/plain": [
       "      count unique     top freq\n",
       "sign  94477    250  listen  415"
      ]
     },
     "metadata": {},
     "output_type": "display_data"
    }
   ],
   "source": [
    "display(train_data[\"sign\"].describe().to_frame().T)"
   ]
  },
  {
   "cell_type": "markdown",
   "id": "abc4ad68",
   "metadata": {
    "papermill": {
     "duration": 0.014195,
     "end_time": "2024-08-28T04:21:01.131863",
     "exception": false,
     "start_time": "2024-08-28T04:21:01.117668",
     "status": "completed"
    },
    "tags": []
   },
   "source": [
    "### <font color='289C4E'> 3.5. Participant column examination <font><a class='anchor' id='explore'></a>\n",
    "    \n",
    "- 94477 rows of data\n",
    "- 21 unique participants"
   ]
  },
  {
   "cell_type": "code",
   "execution_count": 9,
   "id": "e5c4c47b",
   "metadata": {
    "execution": {
     "iopub.execute_input": "2024-08-28T04:21:01.162863Z",
     "iopub.status.busy": "2024-08-28T04:21:01.162056Z",
     "iopub.status.idle": "2024-08-28T04:21:01.305487Z",
     "shell.execute_reply": "2024-08-28T04:21:01.304352Z"
    },
    "papermill": {
     "duration": 0.161953,
     "end_time": "2024-08-28T04:21:01.308050",
     "exception": false,
     "start_time": "2024-08-28T04:21:01.146097",
     "status": "completed"
    },
    "tags": []
   },
   "outputs": [
    {
     "data": {
      "text/html": [
       "<div>\n",
       "<style scoped>\n",
       "    .dataframe tbody tr th:only-of-type {\n",
       "        vertical-align: middle;\n",
       "    }\n",
       "\n",
       "    .dataframe tbody tr th {\n",
       "        vertical-align: top;\n",
       "    }\n",
       "\n",
       "    .dataframe thead th {\n",
       "        text-align: right;\n",
       "    }\n",
       "</style>\n",
       "<table border=\"1\" class=\"dataframe\">\n",
       "  <thead>\n",
       "    <tr style=\"text-align: right;\">\n",
       "      <th></th>\n",
       "      <th>count</th>\n",
       "      <th>unique</th>\n",
       "      <th>top</th>\n",
       "      <th>freq</th>\n",
       "    </tr>\n",
       "  </thead>\n",
       "  <tbody>\n",
       "    <tr>\n",
       "      <th>participant_id</th>\n",
       "      <td>94477</td>\n",
       "      <td>21</td>\n",
       "      <td>49445</td>\n",
       "      <td>4968</td>\n",
       "    </tr>\n",
       "  </tbody>\n",
       "</table>\n",
       "</div>"
      ],
      "text/plain": [
       "                count unique    top  freq\n",
       "participant_id  94477     21  49445  4968"
      ]
     },
     "metadata": {},
     "output_type": "display_data"
    }
   ],
   "source": [
    "display(train_data[\"participant_id\"].astype(str).describe().to_frame().T)"
   ]
  },
  {
   "cell_type": "markdown",
   "id": "052c863b",
   "metadata": {
    "papermill": {
     "duration": 0.014981,
     "end_time": "2024-08-28T04:21:01.338874",
     "exception": false,
     "start_time": "2024-08-28T04:21:01.323893",
     "status": "completed"
    },
    "tags": []
   },
   "source": [
    "# <font color='289C4E'>4. Define Utilties/Preprocessing class <font><a class='anchor' id='utilis'></a> [↑](#top)\n",
    "    \n",
    "    \n",
    "Currently, this notebook is referencing an aggregated dataset!\n",
    "    \n",
    "For future work, I would like to pre-process the data here and potentially look into data augmentation to create more data! I'm mainly using this notebook to test what type of model modifications improve classification accuracy"
   ]
  },
  {
   "cell_type": "code",
   "execution_count": 10,
   "id": "37d46e1b",
   "metadata": {
    "execution": {
     "iopub.execute_input": "2024-08-28T04:21:01.371268Z",
     "iopub.status.busy": "2024-08-28T04:21:01.370487Z",
     "iopub.status.idle": "2024-08-28T04:21:01.385087Z",
     "shell.execute_reply": "2024-08-28T04:21:01.383965Z"
    },
    "papermill": {
     "duration": 0.033769,
     "end_time": "2024-08-28T04:21:01.387736",
     "exception": false,
     "start_time": "2024-08-28T04:21:01.353967",
     "status": "completed"
    },
    "tags": []
   },
   "outputs": [],
   "source": [
    "class Utilties:\n",
    "    def __init__(self):\n",
    "        self.aggregation_data_path = AGGREGATED_DATA_PATH\n",
    "        self.data_path = DATA_PATH\n",
    "        self.is_training = True\n",
    "        self.num_classes = 250\n",
    "        self.rows_per_frame = 543 \n",
    "        \n",
    "    def load_relevant_data_subset_with_imputation(self, pq_path):\n",
    "        data_columns = ['x', 'y', 'z']\n",
    "        data = pd.read_parquet(pq_path, columns=data_columns)\n",
    "        data.replace(np.nan, 0, inplace=True)\n",
    "        n_frames = int(len(data) / self.rows_per_frame)\n",
    "        data = data.values.reshape(n_frames, self.rows_per_frame, len(data_columns))\n",
    "        return data.astype(np.float32)\n",
    "\n",
    "    def load_relevant_data_subset(self, pq_path):\n",
    "        data_columns = ['x', 'y', 'z']\n",
    "        data = pd.read_parquet('/kaggle/input/asl-signs/' + pq_path, columns=data_columns)\n",
    "        n_frames = int(len(data) / self.rows_per_frame)\n",
    "        data = data.values.reshape(n_frames, self.rows_per_frame, len(data_columns))\n",
    "        return data.astype(np.float32)\n",
    "\n",
    "    def read_dict(self, file_path):\n",
    "        path = os.path.expanduser(file_path)\n",
    "        with open(path, \"r\") as f:\n",
    "            dic = json.load(f)\n",
    "        return dic\n",
    "    \n",
    "    def load_data(self):\n",
    "        train = pd.read_csv(f\"{self.aggregation_data_path}train.csv\")\n",
    "        label_index = self.read_dict(f\"{self.data_path}sign_to_prediction_index_map.json\")\n",
    "        index_label = dict([(label_index[key], key) for key in label_index])\n",
    "        train[\"label\"] = train[\"sign\"].map(lambda sign: label_index[sign])\n",
    "        return train\n",
    "        "
   ]
  },
  {
   "cell_type": "markdown",
   "id": "f000c419",
   "metadata": {
    "papermill": {
     "duration": 0.014338,
     "end_time": "2024-08-28T04:21:01.417864",
     "exception": false,
     "start_time": "2024-08-28T04:21:01.403526",
     "status": "completed"
    },
    "tags": []
   },
   "source": [
    "# <font color='289C4E'>5. Define Model(s) <font><a class='anchor' id='models'></a> [↑](#top)\n",
    "    \n",
    "The following class contains 10 different model architectures that we will train and test. each model is a small variation/adjustment of the previous model\n",
    "   \n",
    "The main motiviation for this is I wanted to test out differing hyperparameters, arhceituceres and layers but wanted to keep the orignial models for comparision to track if the changes I am making are improving or decreasing classification"
   ]
  },
  {
   "cell_type": "code",
   "execution_count": 11,
   "id": "d18cbb76",
   "metadata": {
    "execution": {
     "iopub.execute_input": "2024-08-28T04:21:01.449639Z",
     "iopub.status.busy": "2024-08-28T04:21:01.449124Z",
     "iopub.status.idle": "2024-08-28T04:21:01.543166Z",
     "shell.execute_reply": "2024-08-28T04:21:01.542190Z"
    },
    "papermill": {
     "duration": 0.113471,
     "end_time": "2024-08-28T04:21:01.545905",
     "exception": false,
     "start_time": "2024-08-28T04:21:01.432434",
     "status": "completed"
    },
    "tags": []
   },
   "outputs": [],
   "source": [
    "class Model:\n",
    "    def __init__(self, is_training):\n",
    "        self.utilties = Utilties()\n",
    "        self.train_df = self.utilties.load_data()\n",
    "        self.model = None\n",
    "        self.epochs = None\n",
    "        self.is_training = is_training\n",
    "        \n",
    "    def find_pre_processed(self):\n",
    "        try:\n",
    "            x_ = np.load('/kaggle/working/preprocessed_x.npy')\n",
    "            y_ = np.load('/kaggle/working/preprocessed_y.npy')\n",
    "            print(\"found preprocessed_x.npy\")\n",
    "            print('found preprocessed_y.npy')\n",
    "        except Exception as e: \n",
    "            print(\"prepocessed files not found\", e)\n",
    "            x_ = np.array([])\n",
    "            y_ = np.array([])\n",
    "        return x_,y_\n",
    "        \n",
    "    '''\n",
    "    load preprocessed sets\n",
    "    this gave us valiation accuracy of ~60% and accuarcy of %70\n",
    "    '''\n",
    "    def preprocess(self):\n",
    "        if self.is_training:\n",
    "            ## atempt to fetch saved version if available\n",
    "            X,y = self.find_pre_processed()\n",
    "            if X.size == 0 and y.size == 0:\n",
    "                xs = []\n",
    "                ys = []\n",
    "                num_frames = np.zeros(len(self.train_df))\n",
    "                for i in tqdm(range(len(self.train_df))):\n",
    "                    path = f\"{DATA_PATH}{self.train_df.iloc[i].path}\"\n",
    "                    if i % 500 == 0:\n",
    "                        print('preprocessing ith datafile: ', i)\n",
    "                    data = self.utilties.load_relevant_data_subset_with_imputation(path)\n",
    "                    ## Mean Aggregation\n",
    "                    xs.append(np.mean(data, axis=0))\n",
    "                    ys.append(self.train_df.iloc[i].label)\n",
    "                    num_frames[i] = data.shape[0]\n",
    "                ## Save number of frames of each training sample for data analysis\n",
    "                X = np.array(xs)\n",
    "                y = np.array(ys)\n",
    "                np.save('preprocessed_x',X)\n",
    "                np.save('preprocessed_y',y)\n",
    "                \n",
    "        else:\n",
    "            X = np.load(f\"{self.utilties.aggregation_data_path}X.npy\")\n",
    "            y = np.load(f\"{self.utilties.aggregation_data_path}y.npy\")\n",
    "        print('x here: ', X)\n",
    "        print('y: ', y)\n",
    "        return X, y\n",
    "    \n",
    "    \n",
    "    '''\n",
    "    \n",
    "    apply data augmentation to training data to generate more data\n",
    "    \n",
    "    '''\n",
    "    def augment(self):\n",
    "        # Reshape the data into a 3D array\n",
    "        image_array = self.train_df.pivot_table(values='z', index='x', columns='y').values\n",
    "\n",
    "        # Define an augmentation pipeline\n",
    "        seq = iaa.Sequential([\n",
    "            iaa.Affine(rotate=(-45, 45)),\n",
    "            iaa.Fliplr(),\n",
    "            iaa.GaussianBlur(sigma=(0, 3.0)),\n",
    "            iaa.Crop(px=(0, 16)),\n",
    "            iaa.Resize({\"height\": 224, \"width\": 224})\n",
    "        ])\n",
    "        \n",
    "        # Apply the augmentation pipeline\n",
    "        augmented_images = []\n",
    "        for image in image_array:\n",
    "            pil_image = Image.fromarray(image.astype('uint8'))\n",
    "            augmented_pil_image = seq.augment_image(pil_image)\n",
    "            augmented_image = np.asarray(augmented_pil_image)\n",
    "            augmented_images.append(augmented_image)\n",
    "\n",
    "        # Save the augmented data to a new dataframe\n",
    "        augmented_df = pd.DataFrame({'image_data': augmented_images})\n",
    "        augmented_df.to_csv('augmented_image_data.csv', index=False)\n",
    "        return augmented_df\n",
    "\n",
    "    \n",
    "\n",
    "    '''\n",
    "    approach 1: base model approach - 4 dense layers with relu\n",
    "    '''\n",
    "    def compose(self):\n",
    "        inputs = tf.keras.Input((543, 3), dtype=tf.float32)\n",
    "        vector = tf.keras.layers.Dense(128, activation=\"relu\")(inputs)\n",
    "        vector = tf.keras.layers.Dense(64, activation=\"relu\")(vector)\n",
    "        vector = tf.keras.layers.Dense(32, activation=\"relu\")(vector)\n",
    "        vector = tf.keras.layers.Dense(16, activation=\"relu\")(vector)\n",
    "        vector = tf.keras.layers.Dropout(0.1)(vector)\n",
    "        vector = tf.keras.layers.Flatten()(vector)\n",
    "        output = tf.keras.layers.Dense(250, activation=\"softmax\")(vector)\n",
    "        model = tf.keras.Model(inputs=inputs, outputs=output)\n",
    "        model.compile(\n",
    "            loss=tf.keras.losses.SparseCategoricalCrossentropy(), \n",
    "            optimizer=tf.keras.optimizers.Adam(lr=0.000333),\n",
    "            metrics=[\"accuracy\"]\n",
    "        )\n",
    "        return model\n",
    "    \n",
    "    '''\n",
    "    approach 2: adding more layers and maxpooling\n",
    "    '''\n",
    "    def compose_2(self):\n",
    "        model = models.Sequential()\n",
    "        model.add(layers.Conv1D(64, 3, activation='relu', input_shape=(543, 3)))\n",
    "        model.add(layers.MaxPooling1D(pool_size=2))\n",
    "        model.add(layers.Conv1D(128, 3, activation='relu'))\n",
    "        model.add(layers.MaxPooling1D(pool_size=2))\n",
    "        model.add(layers.Conv1D(256, 3, activation='relu'))\n",
    "        model.add(layers.MaxPooling1D(pool_size=2))\n",
    "        model.add(layers.Conv1D(512, 3, activation='relu'))\n",
    "        model.add(layers.MaxPooling1D(pool_size=2))\n",
    "        model.add(layers.Flatten())\n",
    "        model.add(layers.Dense(512, activation='relu'))\n",
    "        model.add(layers.Dropout(0.5))\n",
    "        model.add(layers.Dense(256, activation='relu'))\n",
    "        model.add(layers.Dropout(0.5))\n",
    "        model.add(layers.Dense(250, activation='softmax'))\n",
    "\n",
    "        model.compile(optimizer=tf.keras.optimizers.Adam(lr=0.000333),\n",
    "                      loss=tf.keras.losses.SparseCategoricalCrossentropy(),\n",
    "                      metrics=['accuracy'])\n",
    "        return model\n",
    "\n",
    "    '''\n",
    "    approach 3: modification of model 1, using reLU leaky activation function\n",
    "    '''\n",
    "    def compose_3(self):\n",
    "        inputs = tf.keras.Input((543, 3), dtype=tf.float32)\n",
    "        vector = tf.keras.layers.Dense(128)(inputs)\n",
    "        vector = LeakyReLU(alpha=0.1)(vector)\n",
    "        vector = tf.keras.layers.Dense(64)(vector)\n",
    "        vector = LeakyReLU(alpha=0.1)(vector)\n",
    "        vector = tf.keras.layers.Dense(32)(vector)\n",
    "        vector = LeakyReLU(alpha=0.1)(vector)\n",
    "        vector = tf.keras.layers.Dense(16)(vector)\n",
    "        vector = LeakyReLU(alpha=0.1)(vector)\n",
    "        vector = tf.keras.layers.Dropout(0.1)(vector)\n",
    "        vector = tf.keras.layers.Flatten()(vector)\n",
    "        output = tf.keras.layers.Dense(250, activation=\"softmax\")(vector)\n",
    "\n",
    "        model = tf.keras.Model(inputs=inputs, outputs=output)\n",
    "        model.compile(\n",
    "            loss=tf.keras.losses.SparseCategoricalCrossentropy(), \n",
    "            metrics=[\"accuracy\"]\n",
    "        )\n",
    "        return model\n",
    "    \n",
    "    '''\n",
    "    approach 4: add dropout layers after each dense layer to prevent overfitting\n",
    "    '''\n",
    "    def compose_4(self):\n",
    "        inputs = tf.keras.Input((543, 3), dtype=tf.float32)\n",
    "        vector = tf.keras.layers.Dense(128, activation=\"relu\")(inputs)\n",
    "        vector = tf.keras.layers.Dropout(0.05)(vector)\n",
    "        vector = tf.keras.layers.Dense(64, activation=\"relu\")(vector)\n",
    "        vector = tf.keras.layers.Dropout(0.05)(vector)\n",
    "        vector = tf.keras.layers.Dense(32, activation=\"relu\")(vector)\n",
    "        vector = tf.keras.layers.Dropout(0.05)(vector)\n",
    "        vector = tf.keras.layers.Dense(16, activation=\"relu\")(vector)\n",
    "        vector = tf.keras.layers.Dropout(0.05)(vector)\n",
    "        vector = tf.keras.layers.Flatten()(vector)\n",
    "        output = tf.keras.layers.Dense(250, activation=\"softmax\")(vector)\n",
    "        model = tf.keras.Model(inputs=inputs, outputs=output)\n",
    "        model.compile(\n",
    "            loss=tf.keras.losses.SparseCategoricalCrossentropy(), \n",
    "            metrics=[\"accuracy\"]\n",
    "        )\n",
    "        return model\n",
    "    \n",
    "    \n",
    "    '''\n",
    "    approach 6: dropout and ReLU leaky\n",
    "    '''\n",
    "    def compose_6(self):\n",
    "        inputs = tf.keras.Input((543, 3), dtype=tf.float32)\n",
    "        vector = tf.keras.layers.Dense(128, activation=tf.keras.layers.LeakyReLU(alpha=0.2))(inputs)\n",
    "        vector = tf.keras.layers.Dense(64, activation=tf.keras.layers.LeakyReLU(alpha=0.2))(vector)\n",
    "        vector = tf.keras.layers.Dense(32, activation=tf.keras.layers.LeakyReLU(alpha=0.2))(vector)\n",
    "        vector = tf.keras.layers.Dense(16, activation=tf.keras.layers.LeakyReLU(alpha=0.2))(vector)\n",
    "        vector = tf.keras.layers.Dropout(0.05)(vector)\n",
    "        vector = tf.keras.layers.Flatten()(vector)\n",
    "        output = tf.keras.layers.Dense(250, activation=\"softmax\")(vector)\n",
    "        model = tf.keras.Model(inputs=inputs, outputs=output)\n",
    "        model.compile(\n",
    "            loss=tf.keras.losses.SparseCategoricalCrossentropy(), \n",
    "            metrics=[\"accuracy\"]\n",
    "        )\n",
    "        return model\n",
    "    \n",
    "    \n",
    "        \n",
    "    '''\n",
    "    approach 7: add batch normalization and use gelu activation function\n",
    "    '''\n",
    "    def compose_7(self):\n",
    "        inputs = tf.keras.Input((543, 3), dtype=tf.float32)\n",
    "        x = tf.keras.layers.Dense(128)(inputs)\n",
    "        x = tf.keras.layers.BatchNormalization()(x)\n",
    "        x = tf.keras.layers.Activation(\"gelu\")(x)\n",
    "        x = tf.keras.layers.Dropout(0.05)(x)\n",
    "        x = tf.keras.layers.Dense(64)(inputs)\n",
    "        x = tf.keras.layers.BatchNormalization()(x)\n",
    "        x = tf.keras.layers.Activation(\"gelu\")(x)\n",
    "        x = tf.keras.layers.Dropout(0.2)(x)\n",
    "        x = tf.keras.layers.Flatten()(x)\n",
    "        output = tf.keras.layers.Dense(250, activation=\"softmax\")(x)\n",
    "        model = tf.keras.Model(inputs=inputs, outputs=output)\n",
    "        model.compile(\n",
    "            loss=tf.keras.losses.SparseCategoricalCrossentropy(), \n",
    "            metrics=[\"accuracy\"]\n",
    "        )\n",
    "        return model\n",
    "    \n",
    "            \n",
    "    '''\n",
    "    approach 8: use convolutional layers\n",
    "    '''\n",
    "    def compose_8(self):\n",
    "        inputs = tf.keras.Input((543, 3), dtype=tf.float32)\n",
    "        x = tf.keras.layers.Conv1D(32, kernel_size=3, activation=\"relu\")(inputs)\n",
    "        x = tf.keras.layers.MaxPooling1D(pool_size=2)(x)\n",
    "        x = tf.keras.layers.Conv1D(64, kernel_size=3, activation=\"relu\")(x)\n",
    "        x = tf.keras.layers.MaxPooling1D(pool_size=2)(x)\n",
    "        x = tf.keras.layers.Conv1D(128, kernel_size=3, activation=\"relu\")(x)\n",
    "        x = tf.keras.layers.MaxPooling1D(pool_size=2)(x)\n",
    "        x = tf.keras.layers.Flatten()(x)\n",
    "        x = tf.keras.layers.Dense(128, activation=\"relu\")(x)\n",
    "        x = tf.keras.layers.Dense(64, activation=\"relu\")(x)\n",
    "        x = tf.keras.layers.Dropout(0.1)(x)\n",
    "        output = tf.keras.layers.Dense(250, activation=\"softmax\")(x)\n",
    "        model = tf.keras.Model(inputs=inputs, outputs=output)\n",
    "        model.compile(\n",
    "            loss=tf.keras.losses.SparseCategoricalCrossentropy(), \n",
    "            optimizer=tf.keras.optimizers.Adam(lr=0.000333),\n",
    "            metrics=[\"accuracy\"]\n",
    "        )\n",
    "        return model\n",
    "    \n",
    "    \n",
    "    '''\n",
    "    approach 9: convolutional with leaky reLU\n",
    "    '''\n",
    "    def compose_9(self):\n",
    "        inputs = tf.keras.Input((543, 3), dtype=tf.float32)\n",
    "        x = tf.keras.layers.Conv1D(32, kernel_size=3, activation=tf.keras.layers.LeakyReLU(alpha=0.2))(inputs)\n",
    "        x = tf.keras.layers.MaxPooling1D(pool_size=2)(x)\n",
    "        x = tf.keras.layers.Conv1D(64, kernel_size=3, activation=tf.keras.layers.LeakyReLU(alpha=0.2))(x)\n",
    "        x = tf.keras.layers.MaxPooling1D(pool_size=2)(x)\n",
    "        x = tf.keras.layers.Conv1D(128, kernel_size=3, activation=tf.keras.layers.LeakyReLU(alpha=0.2))(x)\n",
    "        x = tf.keras.layers.MaxPooling1D(pool_size=2)(x)\n",
    "        x = tf.keras.layers.Flatten()(x)\n",
    "        x = tf.keras.layers.Dense(128, activation=tf.keras.layers.LeakyReLU(alpha=0.2))(x)\n",
    "        x = tf.keras.layers.Dense(64, activation=tf.keras.layers.LeakyReLU(alpha=0.2))(x)\n",
    "        x = tf.keras.layers.Dropout(0.1)(x)\n",
    "        output = tf.keras.layers.Dense(250, activation=\"softmax\")(x)\n",
    "        model = tf.keras.Model(inputs=inputs, outputs=output)\n",
    "        model.compile(\n",
    "            loss=tf.keras.losses.SparseCategoricalCrossentropy(), \n",
    "            optimizer=tf.keras.optimizers.Adam(lr=0.000333),\n",
    "            metrics=[\"accuracy\"]\n",
    "        )\n",
    "        return model\n",
    "    \n",
    "    '''\n",
    "    approach 10: convolutional with leaky reLU, reduce number of layers to reduce complexity to avoid overfitting\n",
    "    '''\n",
    "    def compose_10(self):\n",
    "        inputs = tf.keras.Input((543, 3), dtype=tf.float32)\n",
    "        x = tf.keras.layers.Conv1D(32, kernel_size=3, activation=tf.keras.layers.LeakyReLU(alpha=0.2))(inputs)\n",
    "        x = tf.keras.layers.MaxPooling1D(pool_size=2)(x)\n",
    "        x = tf.keras.layers.Conv1D(64, kernel_size=3, activation=tf.keras.layers.LeakyReLU(alpha=0.2))(x)\n",
    "        x = tf.keras.layers.MaxPooling1D(pool_size=2)(x)\n",
    "        x = tf.keras.layers.Flatten()(x)\n",
    "        x = tf.keras.layers.Dense(128, activation=tf.keras.layers.LeakyReLU(alpha=0.2))(x)\n",
    "        x = tf.keras.layers.Dropout(0.1)(x)\n",
    "        output = tf.keras.layers.Dense(250, activation=\"softmax\")(x)\n",
    "        model = tf.keras.Model(inputs=inputs, outputs=output)\n",
    "        model.compile(\n",
    "            loss=tf.keras.losses.SparseCategoricalCrossentropy(), \n",
    "            optimizer=tf.keras.optimizers.Adam(lr=0.000333),\n",
    "            metrics=[\"accuracy\"]\n",
    "        )\n",
    "        return model\n",
    "    \n",
    "    def train_helper(self, X, y, model, batch_size):\n",
    "        X_train, X_val, y_train, y_val = train_test_split(X, y, test_size=0.2, random_state=42, stratify=y)\n",
    "        del X, y\n",
    "        gc.collect()\n",
    "        callbacks = [\n",
    "            tf.keras.callbacks.ModelCheckpoint('model_checkpoint.h5', save_best_only=True, restore_best_weights=True, monitor=\"val_accuracy\", mode=\"max\"),\n",
    "            tf.keras.callbacks.History(),\n",
    "            tf.keras.callbacks.EarlyStopping(patience=20, restore_best_weights=True, verbose=1),\n",
    "            tf.keras.callbacks.ReduceLROnPlateau(patience=2, factor=0.8, verbose=1)\n",
    "        ]\n",
    "        history = model.fit(X_train, y_train, epochs=self.epochs, validation_data=(X_val, y_val), batch_size=batch_size, callbacks=callbacks)\n",
    "        return history\n",
    "    \n",
    "    def train(self, X, y, model, epochs, batch_size):\n",
    "        self.epochs = epochs\n",
    "        model = self.train_helper(X, y, model, batch_size)\n",
    "        return model       \n",
    "    \n",
    "    '''\n",
    "    save model with given filename\n",
    "    '''\n",
    "    def save(self, model, filename):\n",
    "        with open(filename, 'wb') as file:  \n",
    "            pickle.dump(model, file)\n",
    "            \n",
    "    '''\n",
    "    check if model has already been trained/saved, if so take it from output directory\n",
    "    '''\n",
    "    def load(self, epochs):\n",
    "        loaded_model = None\n",
    "        try:\n",
    "            # check if existing trained model already exists\n",
    "            file_name = f\"/kaggle/working/trained_model_{epochs}_epochs.pkl\"\n",
    "            with open(file_name, 'rb') as file:  \n",
    "                print(\"found pre-existing model for \", epochs, ' epochs ! ')\n",
    "                loaded_model = pickle.load(file)\n",
    "        except:\n",
    "            print('model not found')\n",
    "        return loaded_model"
   ]
  },
  {
   "cell_type": "markdown",
   "id": "9f9e2bcc",
   "metadata": {
    "papermill": {
     "duration": 0.01465,
     "end_time": "2024-08-28T04:21:01.575441",
     "exception": false,
     "start_time": "2024-08-28T04:21:01.560791",
     "status": "completed"
    },
    "tags": []
   },
   "source": [
    "# <font color='289C4E'>6. Define Evaluation class <font><a class='anchor' id='evaluation_class'></a> [↑](#top)\n",
    "    \n",
    "    \n",
    "This is a helper class utlized to plot model accuracy and validation during the evlauation step after training"
   ]
  },
  {
   "cell_type": "code",
   "execution_count": 12,
   "id": "0d973dbf",
   "metadata": {
    "execution": {
     "iopub.execute_input": "2024-08-28T04:21:01.607717Z",
     "iopub.status.busy": "2024-08-28T04:21:01.607241Z",
     "iopub.status.idle": "2024-08-28T04:21:01.623390Z",
     "shell.execute_reply": "2024-08-28T04:21:01.622042Z"
    },
    "papermill": {
     "duration": 0.035105,
     "end_time": "2024-08-28T04:21:01.625959",
     "exception": false,
     "start_time": "2024-08-28T04:21:01.590854",
     "status": "completed"
    },
    "tags": []
   },
   "outputs": [],
   "source": [
    "class Evaluate:\n",
    "    '''\n",
    "    for each model history, plot accuracy and loss graphs\n",
    "    '''\n",
    "    def plot_valdiation_multiple_models(self, histories):\n",
    "        fig, axs = plt.subplots(len(histories), 2, figsize=(12, 6*len(histories)))\n",
    "        for i, history in enumerate(histories):\n",
    "            # plot training and validation accuracy\n",
    "            axs[i, 0].plot(history.history['accuracy'])\n",
    "            axs[i, 0].plot(history.history['val_accuracy'])\n",
    "            axs[i, 0].set_title('Model ' + str(i+1) + ' Accuracy')\n",
    "            axs[i, 0].legend(['train', 'val'], loc='upper left')\n",
    "\n",
    "            # plot training and validation loss\n",
    "            axs[i, 1].plot(history.history['loss'])\n",
    "            axs[i, 1].plot(history.history['val_loss'])\n",
    "            axs[i, 1].set_title('Model ' + str(i+1) + ' Loss')\n",
    "            axs[i, 1].legend(['train', 'val'], loc='upper left')\n",
    "        plt.show()\n",
    "        \n",
    "    '''\n",
    "    plot training and validation accuracy plots for all models on one graph\n",
    "    '''\n",
    "    def plot_validation_cumlative(self, histories):\n",
    "        model_names = ['model_' + str(i+1) for i,_ in enumerate(histories)]  # list of model names for legend\n",
    "\n",
    "        # plot training and validation accuracy for each model\n",
    "        plt.figure(figsize=(8, 6))\n",
    "        for i, history in enumerate(histories):\n",
    "            plt.plot(history.history['accuracy'], color='C'+str(i))\n",
    "            plt.plot(history.history['val_accuracy'], label=model_names[i] + ' validation', color='C'+str(i), linestyle='dashed')\n",
    "\n",
    "        # set plot title and labels\n",
    "        plt.title('Training and Validation Accuracy')\n",
    "        plt.xlabel('Epochs')\n",
    "        plt.ylabel('Accuracy')\n",
    "        plt.legend(loc='lower right')\n",
    "\n",
    "        # show the plot\n",
    "        plt.show()\n",
    "        \n",
    "    def decoder(self, x):\n",
    "        return sign_prediction_index_map.get(x)\n",
    "    \n",
    "    \n",
    "    def get_dataset_signs(self, train_df):\n",
    "        pass\n",
    "        \n",
    "    "
   ]
  },
  {
   "cell_type": "markdown",
   "id": "73eb67db",
   "metadata": {
    "papermill": {
     "duration": 0.014699,
     "end_time": "2024-08-28T04:21:01.655476",
     "exception": false,
     "start_time": "2024-08-28T04:21:01.640777",
     "status": "completed"
    },
    "tags": []
   },
   "source": [
    "# <font color='289C4E'>7. Train models <font><a class='anchor' id='train'></a> [↑](#top)\n",
    "    \n",
    "Here, we will go through each of the 10 tensorflow models defined in the above Models class, train them on speecified epochs, and save the model and its history\n",
    "    \n",
    "    \n"
   ]
  },
  {
   "cell_type": "code",
   "execution_count": 13,
   "id": "af24f743",
   "metadata": {
    "execution": {
     "iopub.execute_input": "2024-08-28T04:21:01.687343Z",
     "iopub.status.busy": "2024-08-28T04:21:01.686465Z",
     "iopub.status.idle": "2024-08-28T05:18:14.362492Z",
     "shell.execute_reply": "2024-08-28T05:18:14.361505Z"
    },
    "papermill": {
     "duration": 3432.695222,
     "end_time": "2024-08-28T05:18:14.365243",
     "exception": false,
     "start_time": "2024-08-28T04:21:01.670021",
     "status": "completed"
    },
    "tags": []
   },
   "outputs": [
    {
     "name": "stdout",
     "output_type": "stream",
     "text": [
      "prepocessed files not found [Errno 2] No such file or directory: '/kaggle/working/preprocessed_x.npy'\n"
     ]
    },
    {
     "name": "stderr",
     "output_type": "stream",
     "text": [
      "  0%|          | 4/94477 [00:00<46:57, 33.53it/s]"
     ]
    },
    {
     "name": "stdout",
     "output_type": "stream",
     "text": [
      "preprocessing ith datafile:  0\n"
     ]
    },
    {
     "name": "stderr",
     "output_type": "stream",
     "text": [
      "  1%|          | 506/94477 [00:11<38:16, 40.91it/s]"
     ]
    },
    {
     "name": "stdout",
     "output_type": "stream",
     "text": [
      "preprocessing ith datafile:  500\n"
     ]
    },
    {
     "name": "stderr",
     "output_type": "stream",
     "text": [
      "  1%|          | 1008/94477 [00:23<35:19, 44.09it/s]"
     ]
    },
    {
     "name": "stdout",
     "output_type": "stream",
     "text": [
      "preprocessing ith datafile:  1000\n"
     ]
    },
    {
     "name": "stderr",
     "output_type": "stream",
     "text": [
      "  2%|▏         | 1509/94477 [00:34<33:51, 45.77it/s]"
     ]
    },
    {
     "name": "stdout",
     "output_type": "stream",
     "text": [
      "preprocessing ith datafile:  1500\n"
     ]
    },
    {
     "name": "stderr",
     "output_type": "stream",
     "text": [
      "  2%|▏         | 2006/94477 [00:46<34:17, 44.94it/s]"
     ]
    },
    {
     "name": "stdout",
     "output_type": "stream",
     "text": [
      "preprocessing ith datafile:  2000\n"
     ]
    },
    {
     "name": "stderr",
     "output_type": "stream",
     "text": [
      "  3%|▎         | 2504/94477 [00:57<34:16, 44.71it/s]"
     ]
    },
    {
     "name": "stdout",
     "output_type": "stream",
     "text": [
      "preprocessing ith datafile:  2500\n"
     ]
    },
    {
     "name": "stderr",
     "output_type": "stream",
     "text": [
      "  3%|▎         | 3007/94477 [01:08<31:27, 48.45it/s]"
     ]
    },
    {
     "name": "stdout",
     "output_type": "stream",
     "text": [
      "preprocessing ith datafile:  3000\n"
     ]
    },
    {
     "name": "stderr",
     "output_type": "stream",
     "text": [
      "  4%|▎         | 3508/94477 [01:19<31:09, 48.66it/s]"
     ]
    },
    {
     "name": "stdout",
     "output_type": "stream",
     "text": [
      "preprocessing ith datafile:  3500\n"
     ]
    },
    {
     "name": "stderr",
     "output_type": "stream",
     "text": [
      "  4%|▍         | 4007/94477 [01:30<34:32, 43.66it/s]"
     ]
    },
    {
     "name": "stdout",
     "output_type": "stream",
     "text": [
      "preprocessing ith datafile:  4000\n"
     ]
    },
    {
     "name": "stderr",
     "output_type": "stream",
     "text": [
      "  5%|▍         | 4506/94477 [01:41<35:45, 41.93it/s]"
     ]
    },
    {
     "name": "stdout",
     "output_type": "stream",
     "text": [
      "preprocessing ith datafile:  4500\n"
     ]
    },
    {
     "name": "stderr",
     "output_type": "stream",
     "text": [
      "  5%|▌         | 5008/94477 [01:53<30:45, 48.49it/s]"
     ]
    },
    {
     "name": "stdout",
     "output_type": "stream",
     "text": [
      "preprocessing ith datafile:  5000\n"
     ]
    },
    {
     "name": "stderr",
     "output_type": "stream",
     "text": [
      "  6%|▌         | 5507/94477 [02:04<32:23, 45.79it/s]"
     ]
    },
    {
     "name": "stdout",
     "output_type": "stream",
     "text": [
      "preprocessing ith datafile:  5500\n"
     ]
    },
    {
     "name": "stderr",
     "output_type": "stream",
     "text": [
      "  6%|▋         | 6007/94477 [02:16<35:17, 41.78it/s]"
     ]
    },
    {
     "name": "stdout",
     "output_type": "stream",
     "text": [
      "preprocessing ith datafile:  6000\n"
     ]
    },
    {
     "name": "stderr",
     "output_type": "stream",
     "text": [
      "  7%|▋         | 6505/94477 [02:27<30:32, 47.99it/s]"
     ]
    },
    {
     "name": "stdout",
     "output_type": "stream",
     "text": [
      "preprocessing ith datafile:  6500\n"
     ]
    },
    {
     "name": "stderr",
     "output_type": "stream",
     "text": [
      "  7%|▋         | 7008/94477 [02:38<30:13, 48.23it/s]"
     ]
    },
    {
     "name": "stdout",
     "output_type": "stream",
     "text": [
      "preprocessing ith datafile:  7000\n"
     ]
    },
    {
     "name": "stderr",
     "output_type": "stream",
     "text": [
      "  8%|▊         | 7506/94477 [02:49<33:21, 43.44it/s]"
     ]
    },
    {
     "name": "stdout",
     "output_type": "stream",
     "text": [
      "preprocessing ith datafile:  7500\n"
     ]
    },
    {
     "name": "stderr",
     "output_type": "stream",
     "text": [
      "  8%|▊         | 8005/94477 [02:59<27:52, 51.72it/s]"
     ]
    },
    {
     "name": "stdout",
     "output_type": "stream",
     "text": [
      "preprocessing ith datafile:  8000\n"
     ]
    },
    {
     "name": "stderr",
     "output_type": "stream",
     "text": [
      "  9%|▉         | 8507/94477 [03:10<32:23, 44.24it/s]"
     ]
    },
    {
     "name": "stdout",
     "output_type": "stream",
     "text": [
      "preprocessing ith datafile:  8500\n"
     ]
    },
    {
     "name": "stderr",
     "output_type": "stream",
     "text": [
      " 10%|▉         | 9004/94477 [03:20<31:57, 44.57it/s]"
     ]
    },
    {
     "name": "stdout",
     "output_type": "stream",
     "text": [
      "preprocessing ith datafile:  9000\n"
     ]
    },
    {
     "name": "stderr",
     "output_type": "stream",
     "text": [
      " 10%|█         | 9507/94477 [03:31<31:08, 45.47it/s]"
     ]
    },
    {
     "name": "stdout",
     "output_type": "stream",
     "text": [
      "preprocessing ith datafile:  9500\n"
     ]
    },
    {
     "name": "stderr",
     "output_type": "stream",
     "text": [
      " 11%|█         | 10006/94477 [03:42<25:54, 54.33it/s]"
     ]
    },
    {
     "name": "stdout",
     "output_type": "stream",
     "text": [
      "preprocessing ith datafile:  10000\n"
     ]
    },
    {
     "name": "stderr",
     "output_type": "stream",
     "text": [
      " 11%|█         | 10503/94477 [03:53<33:27, 41.83it/s]"
     ]
    },
    {
     "name": "stdout",
     "output_type": "stream",
     "text": [
      "preprocessing ith datafile:  10500\n"
     ]
    },
    {
     "name": "stderr",
     "output_type": "stream",
     "text": [
      " 12%|█▏        | 11005/94477 [04:04<33:43, 41.25it/s]"
     ]
    },
    {
     "name": "stdout",
     "output_type": "stream",
     "text": [
      "preprocessing ith datafile:  11000\n"
     ]
    },
    {
     "name": "stderr",
     "output_type": "stream",
     "text": [
      " 12%|█▏        | 11510/94477 [04:14<24:30, 56.43it/s]"
     ]
    },
    {
     "name": "stdout",
     "output_type": "stream",
     "text": [
      "preprocessing ith datafile:  11500\n"
     ]
    },
    {
     "name": "stderr",
     "output_type": "stream",
     "text": [
      " 13%|█▎        | 12004/94477 [04:25<31:51, 43.15it/s]"
     ]
    },
    {
     "name": "stdout",
     "output_type": "stream",
     "text": [
      "preprocessing ith datafile:  12000\n"
     ]
    },
    {
     "name": "stderr",
     "output_type": "stream",
     "text": [
      " 13%|█▎        | 12508/94477 [04:36<30:21, 44.99it/s]"
     ]
    },
    {
     "name": "stdout",
     "output_type": "stream",
     "text": [
      "preprocessing ith datafile:  12500\n"
     ]
    },
    {
     "name": "stderr",
     "output_type": "stream",
     "text": [
      " 14%|█▍        | 13008/94477 [04:47<32:24, 41.89it/s]"
     ]
    },
    {
     "name": "stdout",
     "output_type": "stream",
     "text": [
      "preprocessing ith datafile:  13000\n"
     ]
    },
    {
     "name": "stderr",
     "output_type": "stream",
     "text": [
      " 14%|█▍        | 13506/94477 [04:58<31:05, 43.40it/s]"
     ]
    },
    {
     "name": "stdout",
     "output_type": "stream",
     "text": [
      "preprocessing ith datafile:  13500\n"
     ]
    },
    {
     "name": "stderr",
     "output_type": "stream",
     "text": [
      " 15%|█▍        | 14010/94477 [05:09<25:56, 51.71it/s]"
     ]
    },
    {
     "name": "stdout",
     "output_type": "stream",
     "text": [
      "preprocessing ith datafile:  14000\n"
     ]
    },
    {
     "name": "stderr",
     "output_type": "stream",
     "text": [
      " 15%|█▌        | 14505/94477 [05:20<27:56, 47.70it/s]"
     ]
    },
    {
     "name": "stdout",
     "output_type": "stream",
     "text": [
      "preprocessing ith datafile:  14500\n"
     ]
    },
    {
     "name": "stderr",
     "output_type": "stream",
     "text": [
      " 16%|█▌        | 15007/94477 [05:30<27:34, 48.04it/s]"
     ]
    },
    {
     "name": "stdout",
     "output_type": "stream",
     "text": [
      "preprocessing ith datafile:  15000\n"
     ]
    },
    {
     "name": "stderr",
     "output_type": "stream",
     "text": [
      " 16%|█▋        | 15506/94477 [05:41<31:00, 42.45it/s]"
     ]
    },
    {
     "name": "stdout",
     "output_type": "stream",
     "text": [
      "preprocessing ith datafile:  15500\n"
     ]
    },
    {
     "name": "stderr",
     "output_type": "stream",
     "text": [
      " 17%|█▋        | 16004/94477 [05:52<33:49, 38.66it/s]"
     ]
    },
    {
     "name": "stdout",
     "output_type": "stream",
     "text": [
      "preprocessing ith datafile:  16000\n"
     ]
    },
    {
     "name": "stderr",
     "output_type": "stream",
     "text": [
      " 17%|█▋        | 16509/94477 [06:02<26:37, 48.80it/s]"
     ]
    },
    {
     "name": "stdout",
     "output_type": "stream",
     "text": [
      "preprocessing ith datafile:  16500\n"
     ]
    },
    {
     "name": "stderr",
     "output_type": "stream",
     "text": [
      " 18%|█▊        | 17006/94477 [06:13<28:53, 44.69it/s]"
     ]
    },
    {
     "name": "stdout",
     "output_type": "stream",
     "text": [
      "preprocessing ith datafile:  17000\n"
     ]
    },
    {
     "name": "stderr",
     "output_type": "stream",
     "text": [
      " 19%|█▊        | 17508/94477 [06:24<25:16, 50.76it/s]"
     ]
    },
    {
     "name": "stdout",
     "output_type": "stream",
     "text": [
      "preprocessing ith datafile:  17500\n"
     ]
    },
    {
     "name": "stderr",
     "output_type": "stream",
     "text": [
      " 19%|█▉        | 18010/94477 [06:35<26:42, 47.71it/s]"
     ]
    },
    {
     "name": "stdout",
     "output_type": "stream",
     "text": [
      "preprocessing ith datafile:  18000\n"
     ]
    },
    {
     "name": "stderr",
     "output_type": "stream",
     "text": [
      " 20%|█▉        | 18509/94477 [06:46<25:47, 49.10it/s]"
     ]
    },
    {
     "name": "stdout",
     "output_type": "stream",
     "text": [
      "preprocessing ith datafile:  18500\n"
     ]
    },
    {
     "name": "stderr",
     "output_type": "stream",
     "text": [
      " 20%|██        | 19007/94477 [06:57<26:38, 47.20it/s]"
     ]
    },
    {
     "name": "stdout",
     "output_type": "stream",
     "text": [
      "preprocessing ith datafile:  19000\n"
     ]
    },
    {
     "name": "stderr",
     "output_type": "stream",
     "text": [
      " 21%|██        | 19509/94477 [07:07<23:24, 53.36it/s]"
     ]
    },
    {
     "name": "stdout",
     "output_type": "stream",
     "text": [
      "preprocessing ith datafile:  19500\n"
     ]
    },
    {
     "name": "stderr",
     "output_type": "stream",
     "text": [
      " 21%|██        | 20006/94477 [07:17<23:37, 52.54it/s]"
     ]
    },
    {
     "name": "stdout",
     "output_type": "stream",
     "text": [
      "preprocessing ith datafile:  20000\n"
     ]
    },
    {
     "name": "stderr",
     "output_type": "stream",
     "text": [
      " 22%|██▏       | 20509/94477 [07:28<26:45, 46.07it/s]"
     ]
    },
    {
     "name": "stdout",
     "output_type": "stream",
     "text": [
      "preprocessing ith datafile:  20500\n"
     ]
    },
    {
     "name": "stderr",
     "output_type": "stream",
     "text": [
      " 22%|██▏       | 21010/94477 [07:39<25:56, 47.20it/s]"
     ]
    },
    {
     "name": "stdout",
     "output_type": "stream",
     "text": [
      "preprocessing ith datafile:  21000\n"
     ]
    },
    {
     "name": "stderr",
     "output_type": "stream",
     "text": [
      " 23%|██▎       | 21505/94477 [07:50<24:45, 49.11it/s]"
     ]
    },
    {
     "name": "stdout",
     "output_type": "stream",
     "text": [
      "preprocessing ith datafile:  21500\n"
     ]
    },
    {
     "name": "stderr",
     "output_type": "stream",
     "text": [
      " 23%|██▎       | 22008/94477 [08:01<25:33, 47.26it/s]"
     ]
    },
    {
     "name": "stdout",
     "output_type": "stream",
     "text": [
      "preprocessing ith datafile:  22000\n"
     ]
    },
    {
     "name": "stderr",
     "output_type": "stream",
     "text": [
      " 24%|██▍       | 22508/94477 [08:12<25:33, 46.94it/s]"
     ]
    },
    {
     "name": "stdout",
     "output_type": "stream",
     "text": [
      "preprocessing ith datafile:  22500\n"
     ]
    },
    {
     "name": "stderr",
     "output_type": "stream",
     "text": [
      " 24%|██▍       | 23010/94477 [08:22<26:12, 45.45it/s]"
     ]
    },
    {
     "name": "stdout",
     "output_type": "stream",
     "text": [
      "preprocessing ith datafile:  23000\n"
     ]
    },
    {
     "name": "stderr",
     "output_type": "stream",
     "text": [
      " 25%|██▍       | 23505/94477 [08:33<28:28, 41.53it/s]"
     ]
    },
    {
     "name": "stdout",
     "output_type": "stream",
     "text": [
      "preprocessing ith datafile:  23500\n"
     ]
    },
    {
     "name": "stderr",
     "output_type": "stream",
     "text": [
      " 25%|██▌       | 24007/94477 [08:44<25:18, 46.40it/s]"
     ]
    },
    {
     "name": "stdout",
     "output_type": "stream",
     "text": [
      "preprocessing ith datafile:  24000\n"
     ]
    },
    {
     "name": "stderr",
     "output_type": "stream",
     "text": [
      " 26%|██▌       | 24509/94477 [08:54<24:57, 46.71it/s]"
     ]
    },
    {
     "name": "stdout",
     "output_type": "stream",
     "text": [
      "preprocessing ith datafile:  24500\n"
     ]
    },
    {
     "name": "stderr",
     "output_type": "stream",
     "text": [
      " 26%|██▋       | 25008/94477 [09:05<22:28, 51.53it/s]"
     ]
    },
    {
     "name": "stdout",
     "output_type": "stream",
     "text": [
      "preprocessing ith datafile:  25000\n"
     ]
    },
    {
     "name": "stderr",
     "output_type": "stream",
     "text": [
      " 27%|██▋       | 25506/94477 [09:15<27:07, 42.39it/s]"
     ]
    },
    {
     "name": "stdout",
     "output_type": "stream",
     "text": [
      "preprocessing ith datafile:  25500\n"
     ]
    },
    {
     "name": "stderr",
     "output_type": "stream",
     "text": [
      " 28%|██▊       | 26008/94477 [09:26<21:15, 53.67it/s]"
     ]
    },
    {
     "name": "stdout",
     "output_type": "stream",
     "text": [
      "preprocessing ith datafile:  26000\n"
     ]
    },
    {
     "name": "stderr",
     "output_type": "stream",
     "text": [
      " 28%|██▊       | 26506/94477 [09:37<25:07, 45.08it/s]"
     ]
    },
    {
     "name": "stdout",
     "output_type": "stream",
     "text": [
      "preprocessing ith datafile:  26500\n"
     ]
    },
    {
     "name": "stderr",
     "output_type": "stream",
     "text": [
      " 29%|██▊       | 27010/94477 [09:47<23:14, 48.37it/s]"
     ]
    },
    {
     "name": "stdout",
     "output_type": "stream",
     "text": [
      "preprocessing ith datafile:  27000\n"
     ]
    },
    {
     "name": "stderr",
     "output_type": "stream",
     "text": [
      " 29%|██▉       | 27507/94477 [09:58<24:26, 45.66it/s]"
     ]
    },
    {
     "name": "stdout",
     "output_type": "stream",
     "text": [
      "preprocessing ith datafile:  27500\n"
     ]
    },
    {
     "name": "stderr",
     "output_type": "stream",
     "text": [
      " 30%|██▉       | 28008/94477 [10:09<22:51, 48.46it/s]"
     ]
    },
    {
     "name": "stdout",
     "output_type": "stream",
     "text": [
      "preprocessing ith datafile:  28000\n"
     ]
    },
    {
     "name": "stderr",
     "output_type": "stream",
     "text": [
      " 30%|███       | 28507/94477 [10:19<21:49, 50.36it/s]"
     ]
    },
    {
     "name": "stdout",
     "output_type": "stream",
     "text": [
      "preprocessing ith datafile:  28500\n"
     ]
    },
    {
     "name": "stderr",
     "output_type": "stream",
     "text": [
      " 31%|███       | 29009/94477 [10:30<22:28, 48.54it/s]"
     ]
    },
    {
     "name": "stdout",
     "output_type": "stream",
     "text": [
      "preprocessing ith datafile:  29000\n"
     ]
    },
    {
     "name": "stderr",
     "output_type": "stream",
     "text": [
      " 31%|███       | 29507/94477 [10:40<21:53, 49.45it/s]"
     ]
    },
    {
     "name": "stdout",
     "output_type": "stream",
     "text": [
      "preprocessing ith datafile:  29500\n"
     ]
    },
    {
     "name": "stderr",
     "output_type": "stream",
     "text": [
      " 32%|███▏      | 30008/94477 [10:50<21:39, 49.61it/s]"
     ]
    },
    {
     "name": "stdout",
     "output_type": "stream",
     "text": [
      "preprocessing ith datafile:  30000\n"
     ]
    },
    {
     "name": "stderr",
     "output_type": "stream",
     "text": [
      " 32%|███▏      | 30507/94477 [11:01<21:30, 49.57it/s]"
     ]
    },
    {
     "name": "stdout",
     "output_type": "stream",
     "text": [
      "preprocessing ith datafile:  30500\n"
     ]
    },
    {
     "name": "stderr",
     "output_type": "stream",
     "text": [
      " 33%|███▎      | 31004/94477 [11:12<22:08, 47.77it/s]"
     ]
    },
    {
     "name": "stdout",
     "output_type": "stream",
     "text": [
      "preprocessing ith datafile:  31000\n"
     ]
    },
    {
     "name": "stderr",
     "output_type": "stream",
     "text": [
      " 33%|███▎      | 31504/94477 [11:22<24:39, 42.58it/s]"
     ]
    },
    {
     "name": "stdout",
     "output_type": "stream",
     "text": [
      "preprocessing ith datafile:  31500\n"
     ]
    },
    {
     "name": "stderr",
     "output_type": "stream",
     "text": [
      " 34%|███▍      | 32009/94477 [11:33<20:39, 50.40it/s]"
     ]
    },
    {
     "name": "stdout",
     "output_type": "stream",
     "text": [
      "preprocessing ith datafile:  32000\n"
     ]
    },
    {
     "name": "stderr",
     "output_type": "stream",
     "text": [
      " 34%|███▍      | 32509/94477 [11:43<20:09, 51.22it/s]"
     ]
    },
    {
     "name": "stdout",
     "output_type": "stream",
     "text": [
      "preprocessing ith datafile:  32500\n"
     ]
    },
    {
     "name": "stderr",
     "output_type": "stream",
     "text": [
      " 35%|███▍      | 33008/94477 [11:54<23:06, 44.33it/s]"
     ]
    },
    {
     "name": "stdout",
     "output_type": "stream",
     "text": [
      "preprocessing ith datafile:  33000\n"
     ]
    },
    {
     "name": "stderr",
     "output_type": "stream",
     "text": [
      " 35%|███▌      | 33508/94477 [12:04<20:53, 48.64it/s]"
     ]
    },
    {
     "name": "stdout",
     "output_type": "stream",
     "text": [
      "preprocessing ith datafile:  33500\n"
     ]
    },
    {
     "name": "stderr",
     "output_type": "stream",
     "text": [
      " 36%|███▌      | 34006/94477 [12:14<22:25, 44.94it/s]"
     ]
    },
    {
     "name": "stdout",
     "output_type": "stream",
     "text": [
      "preprocessing ith datafile:  34000\n"
     ]
    },
    {
     "name": "stderr",
     "output_type": "stream",
     "text": [
      " 37%|███▋      | 34505/94477 [12:25<21:22, 46.76it/s]"
     ]
    },
    {
     "name": "stdout",
     "output_type": "stream",
     "text": [
      "preprocessing ith datafile:  34500\n"
     ]
    },
    {
     "name": "stderr",
     "output_type": "stream",
     "text": [
      " 37%|███▋      | 35006/94477 [12:36<20:57, 47.31it/s]"
     ]
    },
    {
     "name": "stdout",
     "output_type": "stream",
     "text": [
      "preprocessing ith datafile:  35000\n"
     ]
    },
    {
     "name": "stderr",
     "output_type": "stream",
     "text": [
      " 38%|███▊      | 35504/94477 [12:46<20:07, 48.84it/s]"
     ]
    },
    {
     "name": "stdout",
     "output_type": "stream",
     "text": [
      "preprocessing ith datafile:  35500\n"
     ]
    },
    {
     "name": "stderr",
     "output_type": "stream",
     "text": [
      " 38%|███▊      | 36005/94477 [12:57<21:32, 45.23it/s]"
     ]
    },
    {
     "name": "stdout",
     "output_type": "stream",
     "text": [
      "preprocessing ith datafile:  36000\n"
     ]
    },
    {
     "name": "stderr",
     "output_type": "stream",
     "text": [
      " 39%|███▊      | 36510/94477 [13:07<20:41, 46.71it/s]"
     ]
    },
    {
     "name": "stdout",
     "output_type": "stream",
     "text": [
      "preprocessing ith datafile:  36500\n"
     ]
    },
    {
     "name": "stderr",
     "output_type": "stream",
     "text": [
      " 39%|███▉      | 37004/94477 [13:18<20:42, 46.27it/s]"
     ]
    },
    {
     "name": "stdout",
     "output_type": "stream",
     "text": [
      "preprocessing ith datafile:  37000\n"
     ]
    },
    {
     "name": "stderr",
     "output_type": "stream",
     "text": [
      " 40%|███▉      | 37508/94477 [13:28<19:07, 49.66it/s]"
     ]
    },
    {
     "name": "stdout",
     "output_type": "stream",
     "text": [
      "preprocessing ith datafile:  37500\n"
     ]
    },
    {
     "name": "stderr",
     "output_type": "stream",
     "text": [
      " 40%|████      | 38008/94477 [13:39<20:56, 44.95it/s]"
     ]
    },
    {
     "name": "stdout",
     "output_type": "stream",
     "text": [
      "preprocessing ith datafile:  38000\n"
     ]
    },
    {
     "name": "stderr",
     "output_type": "stream",
     "text": [
      " 41%|████      | 38505/94477 [13:49<18:11, 51.26it/s]"
     ]
    },
    {
     "name": "stdout",
     "output_type": "stream",
     "text": [
      "preprocessing ith datafile:  38500\n"
     ]
    },
    {
     "name": "stderr",
     "output_type": "stream",
     "text": [
      " 41%|████▏     | 39007/94477 [13:59<18:31, 49.90it/s]"
     ]
    },
    {
     "name": "stdout",
     "output_type": "stream",
     "text": [
      "preprocessing ith datafile:  39000\n"
     ]
    },
    {
     "name": "stderr",
     "output_type": "stream",
     "text": [
      " 42%|████▏     | 39504/94477 [14:09<19:14, 47.62it/s]"
     ]
    },
    {
     "name": "stdout",
     "output_type": "stream",
     "text": [
      "preprocessing ith datafile:  39500\n"
     ]
    },
    {
     "name": "stderr",
     "output_type": "stream",
     "text": [
      " 42%|████▏     | 40008/94477 [14:20<17:30, 51.86it/s]"
     ]
    },
    {
     "name": "stdout",
     "output_type": "stream",
     "text": [
      "preprocessing ith datafile:  40000\n"
     ]
    },
    {
     "name": "stderr",
     "output_type": "stream",
     "text": [
      " 43%|████▎     | 40503/94477 [14:31<21:45, 41.33it/s]"
     ]
    },
    {
     "name": "stdout",
     "output_type": "stream",
     "text": [
      "preprocessing ith datafile:  40500\n"
     ]
    },
    {
     "name": "stderr",
     "output_type": "stream",
     "text": [
      " 43%|████▎     | 41010/94477 [14:41<17:43, 50.25it/s]"
     ]
    },
    {
     "name": "stdout",
     "output_type": "stream",
     "text": [
      "preprocessing ith datafile:  41000\n"
     ]
    },
    {
     "name": "stderr",
     "output_type": "stream",
     "text": [
      " 44%|████▍     | 41503/94477 [14:51<20:44, 42.58it/s]"
     ]
    },
    {
     "name": "stdout",
     "output_type": "stream",
     "text": [
      "preprocessing ith datafile:  41500\n"
     ]
    },
    {
     "name": "stderr",
     "output_type": "stream",
     "text": [
      " 44%|████▍     | 42007/94477 [15:02<17:16, 50.60it/s]"
     ]
    },
    {
     "name": "stdout",
     "output_type": "stream",
     "text": [
      "preprocessing ith datafile:  42000\n"
     ]
    },
    {
     "name": "stderr",
     "output_type": "stream",
     "text": [
      " 45%|████▍     | 42507/94477 [15:13<17:56, 48.27it/s]"
     ]
    },
    {
     "name": "stdout",
     "output_type": "stream",
     "text": [
      "preprocessing ith datafile:  42500\n"
     ]
    },
    {
     "name": "stderr",
     "output_type": "stream",
     "text": [
      " 46%|████▌     | 43005/94477 [15:23<20:00, 42.88it/s]"
     ]
    },
    {
     "name": "stdout",
     "output_type": "stream",
     "text": [
      "preprocessing ith datafile:  43000\n"
     ]
    },
    {
     "name": "stderr",
     "output_type": "stream",
     "text": [
      " 46%|████▌     | 43508/94477 [15:34<18:27, 46.02it/s]"
     ]
    },
    {
     "name": "stdout",
     "output_type": "stream",
     "text": [
      "preprocessing ith datafile:  43500\n"
     ]
    },
    {
     "name": "stderr",
     "output_type": "stream",
     "text": [
      " 47%|████▋     | 44009/94477 [15:44<16:04, 52.35it/s]"
     ]
    },
    {
     "name": "stdout",
     "output_type": "stream",
     "text": [
      "preprocessing ith datafile:  44000\n"
     ]
    },
    {
     "name": "stderr",
     "output_type": "stream",
     "text": [
      " 47%|████▋     | 44507/94477 [15:55<16:44, 49.76it/s]"
     ]
    },
    {
     "name": "stdout",
     "output_type": "stream",
     "text": [
      "preprocessing ith datafile:  44500\n"
     ]
    },
    {
     "name": "stderr",
     "output_type": "stream",
     "text": [
      " 48%|████▊     | 45005/94477 [16:05<17:07, 48.13it/s]"
     ]
    },
    {
     "name": "stdout",
     "output_type": "stream",
     "text": [
      "preprocessing ith datafile:  45000\n"
     ]
    },
    {
     "name": "stderr",
     "output_type": "stream",
     "text": [
      " 48%|████▊     | 45507/94477 [16:16<18:18, 44.58it/s]"
     ]
    },
    {
     "name": "stdout",
     "output_type": "stream",
     "text": [
      "preprocessing ith datafile:  45500\n"
     ]
    },
    {
     "name": "stderr",
     "output_type": "stream",
     "text": [
      " 49%|████▊     | 46008/94477 [16:26<16:52, 47.89it/s]"
     ]
    },
    {
     "name": "stdout",
     "output_type": "stream",
     "text": [
      "preprocessing ith datafile:  46000\n"
     ]
    },
    {
     "name": "stderr",
     "output_type": "stream",
     "text": [
      " 49%|████▉     | 46505/94477 [16:37<17:56, 44.55it/s]"
     ]
    },
    {
     "name": "stdout",
     "output_type": "stream",
     "text": [
      "preprocessing ith datafile:  46500\n"
     ]
    },
    {
     "name": "stderr",
     "output_type": "stream",
     "text": [
      " 50%|████▉     | 47007/94477 [16:47<15:19, 51.65it/s]"
     ]
    },
    {
     "name": "stdout",
     "output_type": "stream",
     "text": [
      "preprocessing ith datafile:  47000\n"
     ]
    },
    {
     "name": "stderr",
     "output_type": "stream",
     "text": [
      " 50%|█████     | 47506/94477 [16:58<17:47, 44.00it/s]"
     ]
    },
    {
     "name": "stdout",
     "output_type": "stream",
     "text": [
      "preprocessing ith datafile:  47500\n"
     ]
    },
    {
     "name": "stderr",
     "output_type": "stream",
     "text": [
      " 51%|█████     | 48004/94477 [17:08<16:08, 48.01it/s]"
     ]
    },
    {
     "name": "stdout",
     "output_type": "stream",
     "text": [
      "preprocessing ith datafile:  48000\n"
     ]
    },
    {
     "name": "stderr",
     "output_type": "stream",
     "text": [
      " 51%|█████▏    | 48506/94477 [17:18<16:02, 47.79it/s]"
     ]
    },
    {
     "name": "stdout",
     "output_type": "stream",
     "text": [
      "preprocessing ith datafile:  48500\n"
     ]
    },
    {
     "name": "stderr",
     "output_type": "stream",
     "text": [
      " 52%|█████▏    | 49009/94477 [17:28<14:16, 53.12it/s]"
     ]
    },
    {
     "name": "stdout",
     "output_type": "stream",
     "text": [
      "preprocessing ith datafile:  49000\n"
     ]
    },
    {
     "name": "stderr",
     "output_type": "stream",
     "text": [
      " 52%|█████▏    | 49506/94477 [17:39<17:26, 42.99it/s]"
     ]
    },
    {
     "name": "stdout",
     "output_type": "stream",
     "text": [
      "preprocessing ith datafile:  49500\n"
     ]
    },
    {
     "name": "stderr",
     "output_type": "stream",
     "text": [
      " 53%|█████▎    | 50008/94477 [17:49<15:37, 47.42it/s]"
     ]
    },
    {
     "name": "stdout",
     "output_type": "stream",
     "text": [
      "preprocessing ith datafile:  50000\n"
     ]
    },
    {
     "name": "stderr",
     "output_type": "stream",
     "text": [
      " 53%|█████▎    | 50509/94477 [18:00<14:25, 50.77it/s]"
     ]
    },
    {
     "name": "stdout",
     "output_type": "stream",
     "text": [
      "preprocessing ith datafile:  50500\n"
     ]
    },
    {
     "name": "stderr",
     "output_type": "stream",
     "text": [
      " 54%|█████▍    | 51009/94477 [18:11<15:15, 47.47it/s]"
     ]
    },
    {
     "name": "stdout",
     "output_type": "stream",
     "text": [
      "preprocessing ith datafile:  51000\n"
     ]
    },
    {
     "name": "stderr",
     "output_type": "stream",
     "text": [
      " 55%|█████▍    | 51502/94477 [18:21<13:10, 54.34it/s]"
     ]
    },
    {
     "name": "stdout",
     "output_type": "stream",
     "text": [
      "preprocessing ith datafile:  51500\n"
     ]
    },
    {
     "name": "stderr",
     "output_type": "stream",
     "text": [
      " 55%|█████▌    | 52006/94477 [18:31<14:34, 48.57it/s]"
     ]
    },
    {
     "name": "stdout",
     "output_type": "stream",
     "text": [
      "preprocessing ith datafile:  52000\n"
     ]
    },
    {
     "name": "stderr",
     "output_type": "stream",
     "text": [
      " 56%|█████▌    | 52505/94477 [18:42<15:42, 44.55it/s]"
     ]
    },
    {
     "name": "stdout",
     "output_type": "stream",
     "text": [
      "preprocessing ith datafile:  52500\n"
     ]
    },
    {
     "name": "stderr",
     "output_type": "stream",
     "text": [
      " 56%|█████▌    | 53005/94477 [18:52<12:44, 54.27it/s]"
     ]
    },
    {
     "name": "stdout",
     "output_type": "stream",
     "text": [
      "preprocessing ith datafile:  53000\n"
     ]
    },
    {
     "name": "stderr",
     "output_type": "stream",
     "text": [
      " 57%|█████▋    | 53507/94477 [19:03<13:12, 51.67it/s]"
     ]
    },
    {
     "name": "stdout",
     "output_type": "stream",
     "text": [
      "preprocessing ith datafile:  53500\n"
     ]
    },
    {
     "name": "stderr",
     "output_type": "stream",
     "text": [
      " 57%|█████▋    | 54005/94477 [19:13<13:52, 48.62it/s]"
     ]
    },
    {
     "name": "stdout",
     "output_type": "stream",
     "text": [
      "preprocessing ith datafile:  54000\n"
     ]
    },
    {
     "name": "stderr",
     "output_type": "stream",
     "text": [
      " 58%|█████▊    | 54508/94477 [19:24<14:28, 46.02it/s]"
     ]
    },
    {
     "name": "stdout",
     "output_type": "stream",
     "text": [
      "preprocessing ith datafile:  54500\n"
     ]
    },
    {
     "name": "stderr",
     "output_type": "stream",
     "text": [
      " 58%|█████▊    | 55005/94477 [19:35<15:25, 42.64it/s]"
     ]
    },
    {
     "name": "stdout",
     "output_type": "stream",
     "text": [
      "preprocessing ith datafile:  55000\n"
     ]
    },
    {
     "name": "stderr",
     "output_type": "stream",
     "text": [
      " 59%|█████▊    | 55505/94477 [19:45<16:26, 39.52it/s]"
     ]
    },
    {
     "name": "stdout",
     "output_type": "stream",
     "text": [
      "preprocessing ith datafile:  55500\n"
     ]
    },
    {
     "name": "stderr",
     "output_type": "stream",
     "text": [
      " 59%|█████▉    | 56009/94477 [19:55<12:29, 51.30it/s]"
     ]
    },
    {
     "name": "stdout",
     "output_type": "stream",
     "text": [
      "preprocessing ith datafile:  56000\n"
     ]
    },
    {
     "name": "stderr",
     "output_type": "stream",
     "text": [
      " 60%|█████▉    | 56505/94477 [20:06<12:22, 51.16it/s]"
     ]
    },
    {
     "name": "stdout",
     "output_type": "stream",
     "text": [
      "preprocessing ith datafile:  56500\n"
     ]
    },
    {
     "name": "stderr",
     "output_type": "stream",
     "text": [
      " 60%|██████    | 57007/94477 [20:17<14:26, 43.22it/s]"
     ]
    },
    {
     "name": "stdout",
     "output_type": "stream",
     "text": [
      "preprocessing ith datafile:  57000\n"
     ]
    },
    {
     "name": "stderr",
     "output_type": "stream",
     "text": [
      " 61%|██████    | 57506/94477 [20:27<11:54, 51.76it/s]"
     ]
    },
    {
     "name": "stdout",
     "output_type": "stream",
     "text": [
      "preprocessing ith datafile:  57500\n"
     ]
    },
    {
     "name": "stderr",
     "output_type": "stream",
     "text": [
      " 61%|██████▏   | 58008/94477 [20:38<11:31, 52.71it/s]"
     ]
    },
    {
     "name": "stdout",
     "output_type": "stream",
     "text": [
      "preprocessing ith datafile:  58000\n"
     ]
    },
    {
     "name": "stderr",
     "output_type": "stream",
     "text": [
      " 62%|██████▏   | 58508/94477 [20:48<11:20, 52.83it/s]"
     ]
    },
    {
     "name": "stdout",
     "output_type": "stream",
     "text": [
      "preprocessing ith datafile:  58500\n"
     ]
    },
    {
     "name": "stderr",
     "output_type": "stream",
     "text": [
      " 62%|██████▏   | 59006/94477 [20:59<11:44, 50.33it/s]"
     ]
    },
    {
     "name": "stdout",
     "output_type": "stream",
     "text": [
      "preprocessing ith datafile:  59000\n"
     ]
    },
    {
     "name": "stderr",
     "output_type": "stream",
     "text": [
      " 63%|██████▎   | 59510/94477 [21:09<10:30, 55.45it/s]"
     ]
    },
    {
     "name": "stdout",
     "output_type": "stream",
     "text": [
      "preprocessing ith datafile:  59500\n"
     ]
    },
    {
     "name": "stderr",
     "output_type": "stream",
     "text": [
      " 64%|██████▎   | 60006/94477 [21:20<11:11, 51.31it/s]"
     ]
    },
    {
     "name": "stdout",
     "output_type": "stream",
     "text": [
      "preprocessing ith datafile:  60000\n"
     ]
    },
    {
     "name": "stderr",
     "output_type": "stream",
     "text": [
      " 64%|██████▍   | 60509/94477 [21:30<13:03, 43.37it/s]"
     ]
    },
    {
     "name": "stdout",
     "output_type": "stream",
     "text": [
      "preprocessing ith datafile:  60500\n"
     ]
    },
    {
     "name": "stderr",
     "output_type": "stream",
     "text": [
      " 65%|██████▍   | 61006/94477 [21:41<11:06, 50.19it/s]"
     ]
    },
    {
     "name": "stdout",
     "output_type": "stream",
     "text": [
      "preprocessing ith datafile:  61000\n"
     ]
    },
    {
     "name": "stderr",
     "output_type": "stream",
     "text": [
      " 65%|██████▌   | 61505/94477 [21:51<12:37, 43.51it/s]"
     ]
    },
    {
     "name": "stdout",
     "output_type": "stream",
     "text": [
      "preprocessing ith datafile:  61500\n"
     ]
    },
    {
     "name": "stderr",
     "output_type": "stream",
     "text": [
      " 66%|██████▌   | 62003/94477 [22:02<11:24, 47.41it/s]"
     ]
    },
    {
     "name": "stdout",
     "output_type": "stream",
     "text": [
      "preprocessing ith datafile:  62000\n"
     ]
    },
    {
     "name": "stderr",
     "output_type": "stream",
     "text": [
      " 66%|██████▌   | 62507/94477 [22:13<10:57, 48.60it/s]"
     ]
    },
    {
     "name": "stdout",
     "output_type": "stream",
     "text": [
      "preprocessing ith datafile:  62500\n"
     ]
    },
    {
     "name": "stderr",
     "output_type": "stream",
     "text": [
      " 67%|██████▋   | 63008/94477 [22:23<11:30, 45.57it/s]"
     ]
    },
    {
     "name": "stdout",
     "output_type": "stream",
     "text": [
      "preprocessing ith datafile:  63000\n"
     ]
    },
    {
     "name": "stderr",
     "output_type": "stream",
     "text": [
      " 67%|██████▋   | 63504/94477 [22:34<10:56, 47.21it/s]"
     ]
    },
    {
     "name": "stdout",
     "output_type": "stream",
     "text": [
      "preprocessing ith datafile:  63500\n"
     ]
    },
    {
     "name": "stderr",
     "output_type": "stream",
     "text": [
      " 68%|██████▊   | 64007/94477 [22:44<09:34, 53.06it/s]"
     ]
    },
    {
     "name": "stdout",
     "output_type": "stream",
     "text": [
      "preprocessing ith datafile:  64000\n"
     ]
    },
    {
     "name": "stderr",
     "output_type": "stream",
     "text": [
      " 68%|██████▊   | 64505/94477 [22:55<10:47, 46.27it/s]"
     ]
    },
    {
     "name": "stdout",
     "output_type": "stream",
     "text": [
      "preprocessing ith datafile:  64500\n"
     ]
    },
    {
     "name": "stderr",
     "output_type": "stream",
     "text": [
      " 69%|██████▉   | 65006/94477 [23:06<10:07, 48.47it/s]"
     ]
    },
    {
     "name": "stdout",
     "output_type": "stream",
     "text": [
      "preprocessing ith datafile:  65000\n"
     ]
    },
    {
     "name": "stderr",
     "output_type": "stream",
     "text": [
      " 69%|██████▉   | 65507/94477 [23:17<10:33, 45.75it/s]"
     ]
    },
    {
     "name": "stdout",
     "output_type": "stream",
     "text": [
      "preprocessing ith datafile:  65500\n"
     ]
    },
    {
     "name": "stderr",
     "output_type": "stream",
     "text": [
      " 70%|██████▉   | 66010/94477 [23:27<09:35, 49.50it/s]"
     ]
    },
    {
     "name": "stdout",
     "output_type": "stream",
     "text": [
      "preprocessing ith datafile:  66000\n"
     ]
    },
    {
     "name": "stderr",
     "output_type": "stream",
     "text": [
      " 70%|███████   | 66504/94477 [23:38<10:27, 44.59it/s]"
     ]
    },
    {
     "name": "stdout",
     "output_type": "stream",
     "text": [
      "preprocessing ith datafile:  66500\n"
     ]
    },
    {
     "name": "stderr",
     "output_type": "stream",
     "text": [
      " 71%|███████   | 67007/94477 [23:49<09:13, 49.66it/s]"
     ]
    },
    {
     "name": "stdout",
     "output_type": "stream",
     "text": [
      "preprocessing ith datafile:  67000\n"
     ]
    },
    {
     "name": "stderr",
     "output_type": "stream",
     "text": [
      " 71%|███████▏  | 67510/94477 [23:59<08:50, 50.80it/s]"
     ]
    },
    {
     "name": "stdout",
     "output_type": "stream",
     "text": [
      "preprocessing ith datafile:  67500\n"
     ]
    },
    {
     "name": "stderr",
     "output_type": "stream",
     "text": [
      " 72%|███████▏  | 68004/94477 [24:10<09:56, 44.38it/s]"
     ]
    },
    {
     "name": "stdout",
     "output_type": "stream",
     "text": [
      "preprocessing ith datafile:  68000\n"
     ]
    },
    {
     "name": "stderr",
     "output_type": "stream",
     "text": [
      " 73%|███████▎  | 68505/94477 [24:20<09:05, 47.62it/s]"
     ]
    },
    {
     "name": "stdout",
     "output_type": "stream",
     "text": [
      "preprocessing ith datafile:  68500\n"
     ]
    },
    {
     "name": "stderr",
     "output_type": "stream",
     "text": [
      " 73%|███████▎  | 69008/94477 [24:31<08:43, 48.63it/s]"
     ]
    },
    {
     "name": "stdout",
     "output_type": "stream",
     "text": [
      "preprocessing ith datafile:  69000\n"
     ]
    },
    {
     "name": "stderr",
     "output_type": "stream",
     "text": [
      " 74%|███████▎  | 69508/94477 [24:41<08:43, 47.70it/s]"
     ]
    },
    {
     "name": "stdout",
     "output_type": "stream",
     "text": [
      "preprocessing ith datafile:  69500\n"
     ]
    },
    {
     "name": "stderr",
     "output_type": "stream",
     "text": [
      " 74%|███████▍  | 70010/94477 [24:52<08:12, 49.63it/s]"
     ]
    },
    {
     "name": "stdout",
     "output_type": "stream",
     "text": [
      "preprocessing ith datafile:  70000\n"
     ]
    },
    {
     "name": "stderr",
     "output_type": "stream",
     "text": [
      " 75%|███████▍  | 70504/94477 [25:03<09:52, 40.43it/s]"
     ]
    },
    {
     "name": "stdout",
     "output_type": "stream",
     "text": [
      "preprocessing ith datafile:  70500\n"
     ]
    },
    {
     "name": "stderr",
     "output_type": "stream",
     "text": [
      " 75%|███████▌  | 71010/94477 [25:14<08:14, 47.45it/s]"
     ]
    },
    {
     "name": "stdout",
     "output_type": "stream",
     "text": [
      "preprocessing ith datafile:  71000\n"
     ]
    },
    {
     "name": "stderr",
     "output_type": "stream",
     "text": [
      " 76%|███████▌  | 71509/94477 [25:25<08:33, 44.70it/s]"
     ]
    },
    {
     "name": "stdout",
     "output_type": "stream",
     "text": [
      "preprocessing ith datafile:  71500\n"
     ]
    },
    {
     "name": "stderr",
     "output_type": "stream",
     "text": [
      " 76%|███████▌  | 72007/94477 [25:36<10:11, 36.76it/s]"
     ]
    },
    {
     "name": "stdout",
     "output_type": "stream",
     "text": [
      "preprocessing ith datafile:  72000\n"
     ]
    },
    {
     "name": "stderr",
     "output_type": "stream",
     "text": [
      " 77%|███████▋  | 72507/94477 [25:46<06:21, 57.55it/s]"
     ]
    },
    {
     "name": "stdout",
     "output_type": "stream",
     "text": [
      "preprocessing ith datafile:  72500\n"
     ]
    },
    {
     "name": "stderr",
     "output_type": "stream",
     "text": [
      " 77%|███████▋  | 73008/94477 [25:57<08:26, 42.42it/s]"
     ]
    },
    {
     "name": "stdout",
     "output_type": "stream",
     "text": [
      "preprocessing ith datafile:  73000\n"
     ]
    },
    {
     "name": "stderr",
     "output_type": "stream",
     "text": [
      " 78%|███████▊  | 73504/94477 [26:08<08:17, 42.12it/s]"
     ]
    },
    {
     "name": "stdout",
     "output_type": "stream",
     "text": [
      "preprocessing ith datafile:  73500\n"
     ]
    },
    {
     "name": "stderr",
     "output_type": "stream",
     "text": [
      " 78%|███████▊  | 74009/94477 [26:19<07:43, 44.20it/s]"
     ]
    },
    {
     "name": "stdout",
     "output_type": "stream",
     "text": [
      "preprocessing ith datafile:  74000\n"
     ]
    },
    {
     "name": "stderr",
     "output_type": "stream",
     "text": [
      " 79%|███████▉  | 74508/94477 [26:30<08:03, 41.26it/s]"
     ]
    },
    {
     "name": "stdout",
     "output_type": "stream",
     "text": [
      "preprocessing ith datafile:  74500\n"
     ]
    },
    {
     "name": "stderr",
     "output_type": "stream",
     "text": [
      " 79%|███████▉  | 75008/94477 [26:42<06:19, 51.26it/s]"
     ]
    },
    {
     "name": "stdout",
     "output_type": "stream",
     "text": [
      "preprocessing ith datafile:  75000\n"
     ]
    },
    {
     "name": "stderr",
     "output_type": "stream",
     "text": [
      " 80%|███████▉  | 75510/94477 [26:52<06:18, 50.13it/s]"
     ]
    },
    {
     "name": "stdout",
     "output_type": "stream",
     "text": [
      "preprocessing ith datafile:  75500\n"
     ]
    },
    {
     "name": "stderr",
     "output_type": "stream",
     "text": [
      " 80%|████████  | 76007/94477 [27:03<06:29, 47.44it/s]"
     ]
    },
    {
     "name": "stdout",
     "output_type": "stream",
     "text": [
      "preprocessing ith datafile:  76000\n"
     ]
    },
    {
     "name": "stderr",
     "output_type": "stream",
     "text": [
      " 81%|████████  | 76508/94477 [27:13<05:43, 52.38it/s]"
     ]
    },
    {
     "name": "stdout",
     "output_type": "stream",
     "text": [
      "preprocessing ith datafile:  76500\n"
     ]
    },
    {
     "name": "stderr",
     "output_type": "stream",
     "text": [
      " 82%|████████▏ | 77010/94477 [27:24<05:41, 51.16it/s]"
     ]
    },
    {
     "name": "stdout",
     "output_type": "stream",
     "text": [
      "preprocessing ith datafile:  77000\n"
     ]
    },
    {
     "name": "stderr",
     "output_type": "stream",
     "text": [
      " 82%|████████▏ | 77504/94477 [27:35<07:23, 38.26it/s]"
     ]
    },
    {
     "name": "stdout",
     "output_type": "stream",
     "text": [
      "preprocessing ith datafile:  77500\n"
     ]
    },
    {
     "name": "stderr",
     "output_type": "stream",
     "text": [
      " 83%|████████▎ | 78008/94477 [27:46<05:47, 47.45it/s]"
     ]
    },
    {
     "name": "stdout",
     "output_type": "stream",
     "text": [
      "preprocessing ith datafile:  78000\n"
     ]
    },
    {
     "name": "stderr",
     "output_type": "stream",
     "text": [
      " 83%|████████▎ | 78507/94477 [27:57<05:44, 46.36it/s]"
     ]
    },
    {
     "name": "stdout",
     "output_type": "stream",
     "text": [
      "preprocessing ith datafile:  78500\n"
     ]
    },
    {
     "name": "stderr",
     "output_type": "stream",
     "text": [
      " 84%|████████▎ | 79009/94477 [28:07<05:55, 43.46it/s]"
     ]
    },
    {
     "name": "stdout",
     "output_type": "stream",
     "text": [
      "preprocessing ith datafile:  79000\n"
     ]
    },
    {
     "name": "stderr",
     "output_type": "stream",
     "text": [
      " 84%|████████▍ | 79504/94477 [28:18<05:44, 43.52it/s]"
     ]
    },
    {
     "name": "stdout",
     "output_type": "stream",
     "text": [
      "preprocessing ith datafile:  79500\n"
     ]
    },
    {
     "name": "stderr",
     "output_type": "stream",
     "text": [
      " 85%|████████▍ | 80007/94477 [28:29<05:22, 44.87it/s]"
     ]
    },
    {
     "name": "stdout",
     "output_type": "stream",
     "text": [
      "preprocessing ith datafile:  80000\n"
     ]
    },
    {
     "name": "stderr",
     "output_type": "stream",
     "text": [
      " 85%|████████▌ | 80504/94477 [28:40<05:21, 43.46it/s]"
     ]
    },
    {
     "name": "stdout",
     "output_type": "stream",
     "text": [
      "preprocessing ith datafile:  80500\n"
     ]
    },
    {
     "name": "stderr",
     "output_type": "stream",
     "text": [
      " 86%|████████▌ | 81007/94477 [28:51<04:57, 45.23it/s]"
     ]
    },
    {
     "name": "stdout",
     "output_type": "stream",
     "text": [
      "preprocessing ith datafile:  81000\n"
     ]
    },
    {
     "name": "stderr",
     "output_type": "stream",
     "text": [
      " 86%|████████▋ | 81507/94477 [29:02<04:45, 45.46it/s]"
     ]
    },
    {
     "name": "stdout",
     "output_type": "stream",
     "text": [
      "preprocessing ith datafile:  81500\n"
     ]
    },
    {
     "name": "stderr",
     "output_type": "stream",
     "text": [
      " 87%|████████▋ | 82007/94477 [29:13<04:16, 48.64it/s]"
     ]
    },
    {
     "name": "stdout",
     "output_type": "stream",
     "text": [
      "preprocessing ith datafile:  82000\n"
     ]
    },
    {
     "name": "stderr",
     "output_type": "stream",
     "text": [
      " 87%|████████▋ | 82507/94477 [29:23<04:24, 45.22it/s]"
     ]
    },
    {
     "name": "stdout",
     "output_type": "stream",
     "text": [
      "preprocessing ith datafile:  82500\n"
     ]
    },
    {
     "name": "stderr",
     "output_type": "stream",
     "text": [
      " 88%|████████▊ | 83006/94477 [29:34<03:56, 48.52it/s]"
     ]
    },
    {
     "name": "stdout",
     "output_type": "stream",
     "text": [
      "preprocessing ith datafile:  83000\n"
     ]
    },
    {
     "name": "stderr",
     "output_type": "stream",
     "text": [
      " 88%|████████▊ | 83508/94477 [29:45<03:31, 51.84it/s]"
     ]
    },
    {
     "name": "stdout",
     "output_type": "stream",
     "text": [
      "preprocessing ith datafile:  83500\n"
     ]
    },
    {
     "name": "stderr",
     "output_type": "stream",
     "text": [
      " 89%|████████▉ | 84005/94477 [29:55<03:22, 51.60it/s]"
     ]
    },
    {
     "name": "stdout",
     "output_type": "stream",
     "text": [
      "preprocessing ith datafile:  84000\n"
     ]
    },
    {
     "name": "stderr",
     "output_type": "stream",
     "text": [
      " 89%|████████▉ | 84510/94477 [30:06<03:37, 45.74it/s]"
     ]
    },
    {
     "name": "stdout",
     "output_type": "stream",
     "text": [
      "preprocessing ith datafile:  84500\n"
     ]
    },
    {
     "name": "stderr",
     "output_type": "stream",
     "text": [
      " 90%|████████▉ | 85008/94477 [30:17<03:33, 44.40it/s]"
     ]
    },
    {
     "name": "stdout",
     "output_type": "stream",
     "text": [
      "preprocessing ith datafile:  85000\n"
     ]
    },
    {
     "name": "stderr",
     "output_type": "stream",
     "text": [
      " 91%|█████████ | 85507/94477 [30:28<03:06, 48.11it/s]"
     ]
    },
    {
     "name": "stdout",
     "output_type": "stream",
     "text": [
      "preprocessing ith datafile:  85500\n"
     ]
    },
    {
     "name": "stderr",
     "output_type": "stream",
     "text": [
      " 91%|█████████ | 86006/94477 [30:40<03:26, 40.99it/s]"
     ]
    },
    {
     "name": "stdout",
     "output_type": "stream",
     "text": [
      "preprocessing ith datafile:  86000\n"
     ]
    },
    {
     "name": "stderr",
     "output_type": "stream",
     "text": [
      " 92%|█████████▏| 86505/94477 [30:51<03:04, 43.28it/s]"
     ]
    },
    {
     "name": "stdout",
     "output_type": "stream",
     "text": [
      "preprocessing ith datafile:  86500\n"
     ]
    },
    {
     "name": "stderr",
     "output_type": "stream",
     "text": [
      " 92%|█████████▏| 87005/94477 [31:03<03:08, 39.69it/s]"
     ]
    },
    {
     "name": "stdout",
     "output_type": "stream",
     "text": [
      "preprocessing ith datafile:  87000\n"
     ]
    },
    {
     "name": "stderr",
     "output_type": "stream",
     "text": [
      " 93%|█████████▎| 87508/94477 [31:14<02:34, 44.97it/s]"
     ]
    },
    {
     "name": "stdout",
     "output_type": "stream",
     "text": [
      "preprocessing ith datafile:  87500\n"
     ]
    },
    {
     "name": "stderr",
     "output_type": "stream",
     "text": [
      " 93%|█████████▎| 88004/94477 [31:25<02:34, 41.79it/s]"
     ]
    },
    {
     "name": "stdout",
     "output_type": "stream",
     "text": [
      "preprocessing ith datafile:  88000\n"
     ]
    },
    {
     "name": "stderr",
     "output_type": "stream",
     "text": [
      " 94%|█████████▎| 88507/94477 [31:36<02:02, 48.83it/s]"
     ]
    },
    {
     "name": "stdout",
     "output_type": "stream",
     "text": [
      "preprocessing ith datafile:  88500\n"
     ]
    },
    {
     "name": "stderr",
     "output_type": "stream",
     "text": [
      " 94%|█████████▍| 89006/94477 [31:47<02:01, 45.08it/s]"
     ]
    },
    {
     "name": "stdout",
     "output_type": "stream",
     "text": [
      "preprocessing ith datafile:  89000\n"
     ]
    },
    {
     "name": "stderr",
     "output_type": "stream",
     "text": [
      " 95%|█████████▍| 89508/94477 [31:58<01:52, 44.34it/s]"
     ]
    },
    {
     "name": "stdout",
     "output_type": "stream",
     "text": [
      "preprocessing ith datafile:  89500\n"
     ]
    },
    {
     "name": "stderr",
     "output_type": "stream",
     "text": [
      " 95%|█████████▌| 90005/94477 [32:08<01:55, 38.56it/s]"
     ]
    },
    {
     "name": "stdout",
     "output_type": "stream",
     "text": [
      "preprocessing ith datafile:  90000\n"
     ]
    },
    {
     "name": "stderr",
     "output_type": "stream",
     "text": [
      " 96%|█████████▌| 90509/94477 [32:19<01:11, 55.71it/s]"
     ]
    },
    {
     "name": "stdout",
     "output_type": "stream",
     "text": [
      "preprocessing ith datafile:  90500\n"
     ]
    },
    {
     "name": "stderr",
     "output_type": "stream",
     "text": [
      " 96%|█████████▋| 91007/94477 [32:30<01:17, 44.79it/s]"
     ]
    },
    {
     "name": "stdout",
     "output_type": "stream",
     "text": [
      "preprocessing ith datafile:  91000\n"
     ]
    },
    {
     "name": "stderr",
     "output_type": "stream",
     "text": [
      " 97%|█████████▋| 91504/94477 [32:41<01:02, 47.65it/s]"
     ]
    },
    {
     "name": "stdout",
     "output_type": "stream",
     "text": [
      "preprocessing ith datafile:  91500\n"
     ]
    },
    {
     "name": "stderr",
     "output_type": "stream",
     "text": [
      " 97%|█████████▋| 92005/94477 [32:51<00:50, 49.41it/s]"
     ]
    },
    {
     "name": "stdout",
     "output_type": "stream",
     "text": [
      "preprocessing ith datafile:  92000\n"
     ]
    },
    {
     "name": "stderr",
     "output_type": "stream",
     "text": [
      " 98%|█████████▊| 92506/94477 [33:02<00:40, 49.22it/s]"
     ]
    },
    {
     "name": "stdout",
     "output_type": "stream",
     "text": [
      "preprocessing ith datafile:  92500\n"
     ]
    },
    {
     "name": "stderr",
     "output_type": "stream",
     "text": [
      " 98%|█████████▊| 93004/94477 [33:12<00:38, 38.18it/s]"
     ]
    },
    {
     "name": "stdout",
     "output_type": "stream",
     "text": [
      "preprocessing ith datafile:  93000\n"
     ]
    },
    {
     "name": "stderr",
     "output_type": "stream",
     "text": [
      " 99%|█████████▉| 93506/94477 [33:23<00:20, 46.69it/s]"
     ]
    },
    {
     "name": "stdout",
     "output_type": "stream",
     "text": [
      "preprocessing ith datafile:  93500\n"
     ]
    },
    {
     "name": "stderr",
     "output_type": "stream",
     "text": [
      "100%|█████████▉| 94005/94477 [33:35<00:09, 48.27it/s]"
     ]
    },
    {
     "name": "stdout",
     "output_type": "stream",
     "text": [
      "preprocessing ith datafile:  94000\n"
     ]
    },
    {
     "name": "stderr",
     "output_type": "stream",
     "text": [
      "100%|██████████| 94477/94477 [33:45<00:00, 46.65it/s]\n"
     ]
    },
    {
     "name": "stdout",
     "output_type": "stream",
     "text": [
      "x here:  [[[ 0.52765715  0.37799075 -0.03728105]\n",
      "  [ 0.5251776   0.3464021  -0.06119015]\n",
      "  [ 0.52835715  0.3561508  -0.0347196 ]\n",
      "  ...\n",
      "  [ 0.13420019  0.21228456 -0.03837654]\n",
      "  [ 0.14469755  0.20351398 -0.0434552 ]\n",
      "  [ 0.15583248  0.19811937 -0.04688056]]\n",
      "\n",
      " [[ 0.56010526  0.5072882  -0.05165111]\n",
      "  [ 0.5527518   0.46723697 -0.07367232]\n",
      "  [ 0.5539145   0.48089406 -0.04462063]\n",
      "  ...\n",
      "  [ 0.05285492  0.11605947 -0.01730338]\n",
      "  [ 0.06151751  0.11655395 -0.01873624]\n",
      "  [ 0.06911661  0.11730912 -0.01933736]]\n",
      "\n",
      " [[ 0.4211941   0.4509534  -0.0542616 ]\n",
      "  [ 0.4149809   0.40822628 -0.07477555]\n",
      "  [ 0.41923973  0.4248634  -0.04694982]\n",
      "  ...\n",
      "  [ 0.          0.          0.        ]\n",
      "  [ 0.          0.          0.        ]\n",
      "  [ 0.          0.          0.        ]]\n",
      "\n",
      " ...\n",
      "\n",
      " [[ 0.5111345   0.45825803 -0.03927014]\n",
      "  [ 0.5085241   0.42190665 -0.07742088]\n",
      "  [ 0.5089503   0.43250006 -0.04032401]\n",
      "  ...\n",
      "  [ 0.37470642  0.40586954 -0.04665324]\n",
      "  [ 0.38366532  0.39592457 -0.03716206]\n",
      "  [ 0.38599375  0.39320356 -0.02790262]]\n",
      "\n",
      " [[ 0.466285    0.49635282 -0.03799575]\n",
      "  [ 0.46103606  0.46487314 -0.05938021]\n",
      "  [ 0.4625555   0.47636777 -0.03431759]\n",
      "  ...\n",
      "  [ 0.05827671  0.1369388  -0.01792354]\n",
      "  [ 0.06542867  0.13607429 -0.01701066]\n",
      "  [ 0.07052667  0.13511434 -0.01620824]]\n",
      "\n",
      " [[ 0.43818358  0.34290773 -0.05256486]\n",
      "  [ 0.4321533   0.29800463 -0.06837797]\n",
      "  [ 0.43549144  0.3165417  -0.04366653]\n",
      "  ...\n",
      "  [ 0.          0.          0.        ]\n",
      "  [ 0.          0.          0.        ]\n",
      "  [ 0.          0.          0.        ]]]\n",
      "y:  [ 25 232  48 ...  86 188 105]\n",
      "data shape:  (94477, 543, 3)\n",
      "Epoch 1/150\n",
      "591/591 [==============================] - 16s 11ms/step - loss: 5.5219 - accuracy: 0.0037 - val_loss: 5.5207 - val_accuracy: 0.0044 - lr: 0.0010\n",
      "Epoch 2/150\n",
      "591/591 [==============================] - 6s 10ms/step - loss: 5.4144 - accuracy: 0.0072 - val_loss: 5.2531 - val_accuracy: 0.0111 - lr: 0.0010\n",
      "Epoch 3/150\n",
      "591/591 [==============================] - 6s 10ms/step - loss: 5.1614 - accuracy: 0.0162 - val_loss: 5.0393 - val_accuracy: 0.0247 - lr: 0.0010\n",
      "Epoch 4/150\n",
      "591/591 [==============================] - 6s 10ms/step - loss: 4.9567 - accuracy: 0.0265 - val_loss: 4.8158 - val_accuracy: 0.0351 - lr: 0.0010\n",
      "Epoch 5/150\n",
      "591/591 [==============================] - 6s 9ms/step - loss: 4.7333 - accuracy: 0.0418 - val_loss: 4.6371 - val_accuracy: 0.0530 - lr: 0.0010\n",
      "Epoch 6/150\n",
      "591/591 [==============================] - 6s 10ms/step - loss: 4.5147 - accuracy: 0.0597 - val_loss: 4.3866 - val_accuracy: 0.0733 - lr: 0.0010\n",
      "Epoch 7/150\n",
      "591/591 [==============================] - 6s 10ms/step - loss: 4.3594 - accuracy: 0.0738 - val_loss: 4.2330 - val_accuracy: 0.0924 - lr: 0.0010\n",
      "Epoch 8/150\n",
      "591/591 [==============================] - 6s 10ms/step - loss: 4.2307 - accuracy: 0.0878 - val_loss: 4.1009 - val_accuracy: 0.1077 - lr: 0.0010\n",
      "Epoch 9/150\n",
      "591/591 [==============================] - 6s 10ms/step - loss: 4.0794 - accuracy: 0.1068 - val_loss: 3.9529 - val_accuracy: 0.1271 - lr: 0.0010\n",
      "Epoch 10/150\n",
      "591/591 [==============================] - 6s 10ms/step - loss: 3.9370 - accuracy: 0.1249 - val_loss: 3.8549 - val_accuracy: 0.1418 - lr: 0.0010\n",
      "Epoch 11/150\n",
      "591/591 [==============================] - 6s 10ms/step - loss: 3.8058 - accuracy: 0.1441 - val_loss: 3.7266 - val_accuracy: 0.1603 - lr: 0.0010\n",
      "Epoch 12/150\n",
      "591/591 [==============================] - 6s 10ms/step - loss: 3.6849 - accuracy: 0.1619 - val_loss: 3.5781 - val_accuracy: 0.1853 - lr: 0.0010\n",
      "Epoch 13/150\n",
      "591/591 [==============================] - 6s 10ms/step - loss: 3.5607 - accuracy: 0.1851 - val_loss: 3.4499 - val_accuracy: 0.2110 - lr: 0.0010\n",
      "Epoch 14/150\n",
      "591/591 [==============================] - 6s 9ms/step - loss: 3.4583 - accuracy: 0.1984 - val_loss: 3.3525 - val_accuracy: 0.2252 - lr: 0.0010\n",
      "Epoch 15/150\n",
      "591/591 [==============================] - 6s 10ms/step - loss: 3.3774 - accuracy: 0.2131 - val_loss: 3.2786 - val_accuracy: 0.2401 - lr: 0.0010\n",
      "Epoch 16/150\n",
      "591/591 [==============================] - 6s 10ms/step - loss: 3.3062 - accuracy: 0.2250 - val_loss: 3.2322 - val_accuracy: 0.2480 - lr: 0.0010\n",
      "Epoch 17/150\n",
      "591/591 [==============================] - 6s 10ms/step - loss: 3.2584 - accuracy: 0.2344 - val_loss: 3.1851 - val_accuracy: 0.2558 - lr: 0.0010\n",
      "Epoch 18/150\n",
      "591/591 [==============================] - 6s 10ms/step - loss: 3.2076 - accuracy: 0.2453 - val_loss: 3.1407 - val_accuracy: 0.2637 - lr: 0.0010\n",
      "Epoch 19/150\n",
      "591/591 [==============================] - 6s 10ms/step - loss: 3.1654 - accuracy: 0.2514 - val_loss: 3.0867 - val_accuracy: 0.2743 - lr: 0.0010\n",
      "Epoch 20/150\n",
      "591/591 [==============================] - 6s 9ms/step - loss: 3.1186 - accuracy: 0.2576 - val_loss: 3.0652 - val_accuracy: 0.2771 - lr: 0.0010\n",
      "Epoch 21/150\n",
      "591/591 [==============================] - 6s 10ms/step - loss: 3.0866 - accuracy: 0.2641 - val_loss: 3.0642 - val_accuracy: 0.2759 - lr: 0.0010\n",
      "Epoch 22/150\n",
      "591/591 [==============================] - 6s 10ms/step - loss: 3.0469 - accuracy: 0.2711 - val_loss: 2.9984 - val_accuracy: 0.2894 - lr: 0.0010\n",
      "Epoch 23/150\n",
      "591/591 [==============================] - 6s 10ms/step - loss: 3.0084 - accuracy: 0.2766 - val_loss: 2.9545 - val_accuracy: 0.2969 - lr: 0.0010\n",
      "Epoch 24/150\n",
      "591/591 [==============================] - 6s 10ms/step - loss: 2.9649 - accuracy: 0.2859 - val_loss: 2.9465 - val_accuracy: 0.3005 - lr: 0.0010\n",
      "Epoch 25/150\n",
      "591/591 [==============================] - 6s 10ms/step - loss: 2.9323 - accuracy: 0.2930 - val_loss: 2.8714 - val_accuracy: 0.3167 - lr: 0.0010\n",
      "Epoch 26/150\n",
      "591/591 [==============================] - 6s 10ms/step - loss: 2.8984 - accuracy: 0.2979 - val_loss: 2.8488 - val_accuracy: 0.3184 - lr: 0.0010\n",
      "Epoch 27/150\n",
      "591/591 [==============================] - 6s 10ms/step - loss: 2.8696 - accuracy: 0.3027 - val_loss: 2.8599 - val_accuracy: 0.3193 - lr: 0.0010\n",
      "Epoch 28/150\n",
      "591/591 [==============================] - 6s 10ms/step - loss: 2.8396 - accuracy: 0.3098 - val_loss: 2.8072 - val_accuracy: 0.3287 - lr: 0.0010\n",
      "Epoch 29/150\n",
      "591/591 [==============================] - 6s 9ms/step - loss: 2.8100 - accuracy: 0.3164 - val_loss: 2.8173 - val_accuracy: 0.3255 - lr: 0.0010\n",
      "Epoch 30/150\n",
      "591/591 [==============================] - 6s 10ms/step - loss: 2.7881 - accuracy: 0.3211 - val_loss: 2.7620 - val_accuracy: 0.3382 - lr: 0.0010\n",
      "Epoch 31/150\n",
      "591/591 [==============================] - 6s 10ms/step - loss: 2.7665 - accuracy: 0.3231 - val_loss: 2.7347 - val_accuracy: 0.3409 - lr: 0.0010\n",
      "Epoch 32/150\n",
      "591/591 [==============================] - 6s 10ms/step - loss: 2.7399 - accuracy: 0.3296 - val_loss: 2.7954 - val_accuracy: 0.3295 - lr: 0.0010\n",
      "Epoch 33/150\n",
      "591/591 [==============================] - 6s 10ms/step - loss: 2.7328 - accuracy: 0.3291 - val_loss: 2.6844 - val_accuracy: 0.3523 - lr: 0.0010\n",
      "Epoch 34/150\n",
      "591/591 [==============================] - 6s 10ms/step - loss: 2.7119 - accuracy: 0.3350 - val_loss: 2.7101 - val_accuracy: 0.3430 - lr: 0.0010\n",
      "Epoch 35/150\n",
      "586/591 [============================>.] - ETA: 0s - loss: 2.6956 - accuracy: 0.3381\n",
      "Epoch 35: ReduceLROnPlateau reducing learning rate to 0.000800000037997961.\n",
      "591/591 [==============================] - 6s 9ms/step - loss: 2.6954 - accuracy: 0.3381 - val_loss: 2.7358 - val_accuracy: 0.3410 - lr: 0.0010\n",
      "Epoch 36/150\n",
      "591/591 [==============================] - 6s 10ms/step - loss: 2.6564 - accuracy: 0.3459 - val_loss: 2.6462 - val_accuracy: 0.3642 - lr: 8.0000e-04\n",
      "Epoch 37/150\n",
      "591/591 [==============================] - 6s 10ms/step - loss: 2.6416 - accuracy: 0.3494 - val_loss: 2.6296 - val_accuracy: 0.3662 - lr: 8.0000e-04\n",
      "Epoch 38/150\n",
      "591/591 [==============================] - 6s 10ms/step - loss: 2.6257 - accuracy: 0.3511 - val_loss: 2.6118 - val_accuracy: 0.3694 - lr: 8.0000e-04\n",
      "Epoch 39/150\n",
      "591/591 [==============================] - 6s 10ms/step - loss: 2.6181 - accuracy: 0.3522 - val_loss: 2.6127 - val_accuracy: 0.3726 - lr: 8.0000e-04\n",
      "Epoch 40/150\n",
      "591/591 [==============================] - 6s 10ms/step - loss: 2.6069 - accuracy: 0.3545 - val_loss: 2.6044 - val_accuracy: 0.3721 - lr: 8.0000e-04\n",
      "Epoch 41/150\n",
      "591/591 [==============================] - 6s 9ms/step - loss: 2.6016 - accuracy: 0.3573 - val_loss: 2.6079 - val_accuracy: 0.3699 - lr: 8.0000e-04\n",
      "Epoch 42/150\n",
      "591/591 [==============================] - 6s 9ms/step - loss: 2.5859 - accuracy: 0.3619 - val_loss: 2.5807 - val_accuracy: 0.3766 - lr: 8.0000e-04\n",
      "Epoch 43/150\n",
      "591/591 [==============================] - 6s 9ms/step - loss: 2.5805 - accuracy: 0.3595 - val_loss: 2.5883 - val_accuracy: 0.3752 - lr: 8.0000e-04\n",
      "Epoch 44/150\n",
      "591/591 [==============================] - 6s 10ms/step - loss: 2.5704 - accuracy: 0.3630 - val_loss: 2.5768 - val_accuracy: 0.3772 - lr: 8.0000e-04\n",
      "Epoch 45/150\n",
      "591/591 [==============================] - 6s 9ms/step - loss: 2.5642 - accuracy: 0.3608 - val_loss: 2.6020 - val_accuracy: 0.3697 - lr: 8.0000e-04\n",
      "Epoch 46/150\n",
      "591/591 [==============================] - 6s 10ms/step - loss: 2.5512 - accuracy: 0.3657 - val_loss: 2.5726 - val_accuracy: 0.3756 - lr: 8.0000e-04\n",
      "Epoch 47/150\n",
      "591/591 [==============================] - 6s 9ms/step - loss: 2.5442 - accuracy: 0.3690 - val_loss: 2.6050 - val_accuracy: 0.3699 - lr: 8.0000e-04\n",
      "Epoch 48/150\n",
      "591/591 [==============================] - 6s 9ms/step - loss: 2.5389 - accuracy: 0.3688 - val_loss: 2.5509 - val_accuracy: 0.3828 - lr: 8.0000e-04\n",
      "Epoch 49/150\n",
      "591/591 [==============================] - 6s 10ms/step - loss: 2.5279 - accuracy: 0.3715 - val_loss: 2.6018 - val_accuracy: 0.3701 - lr: 8.0000e-04\n",
      "Epoch 50/150\n",
      "590/591 [============================>.] - ETA: 0s - loss: 2.5245 - accuracy: 0.3707\n",
      "Epoch 50: ReduceLROnPlateau reducing learning rate to 0.0006400000303983689.\n",
      "591/591 [==============================] - 6s 9ms/step - loss: 2.5246 - accuracy: 0.3707 - val_loss: 2.5605 - val_accuracy: 0.3784 - lr: 8.0000e-04\n",
      "Epoch 51/150\n",
      "591/591 [==============================] - 6s 10ms/step - loss: 2.4936 - accuracy: 0.3785 - val_loss: 2.5423 - val_accuracy: 0.3850 - lr: 6.4000e-04\n",
      "Epoch 52/150\n",
      "591/591 [==============================] - 6s 10ms/step - loss: 2.4832 - accuracy: 0.3797 - val_loss: 2.5216 - val_accuracy: 0.3864 - lr: 6.4000e-04\n",
      "Epoch 53/150\n",
      "591/591 [==============================] - 6s 9ms/step - loss: 2.4771 - accuracy: 0.3802 - val_loss: 2.5551 - val_accuracy: 0.3817 - lr: 6.4000e-04\n",
      "Epoch 54/150\n",
      "589/591 [============================>.] - ETA: 0s - loss: 2.4820 - accuracy: 0.3804\n",
      "Epoch 54: ReduceLROnPlateau reducing learning rate to 0.0005120000336319208.\n",
      "591/591 [==============================] - 6s 10ms/step - loss: 2.4819 - accuracy: 0.3803 - val_loss: 2.5293 - val_accuracy: 0.3848 - lr: 6.4000e-04\n",
      "Epoch 55/150\n",
      "591/591 [==============================] - 6s 10ms/step - loss: 2.4513 - accuracy: 0.3864 - val_loss: 2.5154 - val_accuracy: 0.3921 - lr: 5.1200e-04\n",
      "Epoch 56/150\n",
      "591/591 [==============================] - 6s 10ms/step - loss: 2.4466 - accuracy: 0.3889 - val_loss: 2.5065 - val_accuracy: 0.3923 - lr: 5.1200e-04\n",
      "Epoch 57/150\n",
      "591/591 [==============================] - 6s 10ms/step - loss: 2.4376 - accuracy: 0.3880 - val_loss: 2.4960 - val_accuracy: 0.3956 - lr: 5.1200e-04\n",
      "Epoch 58/150\n",
      "591/591 [==============================] - 6s 10ms/step - loss: 2.4362 - accuracy: 0.3910 - val_loss: 2.4950 - val_accuracy: 0.3967 - lr: 5.1200e-04\n",
      "Epoch 59/150\n",
      "591/591 [==============================] - 6s 9ms/step - loss: 2.4286 - accuracy: 0.3914 - val_loss: 2.4954 - val_accuracy: 0.3966 - lr: 5.1200e-04\n",
      "Epoch 60/150\n",
      "586/591 [============================>.] - ETA: 0s - loss: 2.4287 - accuracy: 0.3916\n",
      "Epoch 60: ReduceLROnPlateau reducing learning rate to 0.00040960004553198815.\n",
      "591/591 [==============================] - 6s 10ms/step - loss: 2.4288 - accuracy: 0.3918 - val_loss: 2.5069 - val_accuracy: 0.3906 - lr: 5.1200e-04\n",
      "Epoch 61/150\n",
      "591/591 [==============================] - 6s 10ms/step - loss: 2.4129 - accuracy: 0.3950 - val_loss: 2.4833 - val_accuracy: 0.3997 - lr: 4.0960e-04\n",
      "Epoch 62/150\n",
      "591/591 [==============================] - 6s 9ms/step - loss: 2.4070 - accuracy: 0.3950 - val_loss: 2.4937 - val_accuracy: 0.3963 - lr: 4.0960e-04\n",
      "Epoch 63/150\n",
      "586/591 [============================>.] - ETA: 0s - loss: 2.4031 - accuracy: 0.3954\n",
      "Epoch 63: ReduceLROnPlateau reducing learning rate to 0.00032768002711236477.\n",
      "591/591 [==============================] - 6s 10ms/step - loss: 2.4036 - accuracy: 0.3952 - val_loss: 2.4910 - val_accuracy: 0.3977 - lr: 4.0960e-04\n",
      "Epoch 64/150\n",
      "591/591 [==============================] - 6s 10ms/step - loss: 2.3836 - accuracy: 0.3996 - val_loss: 2.4660 - val_accuracy: 0.4038 - lr: 3.2768e-04\n",
      "Epoch 65/150\n",
      "591/591 [==============================] - 6s 9ms/step - loss: 2.3784 - accuracy: 0.4015 - val_loss: 2.4817 - val_accuracy: 0.4002 - lr: 3.2768e-04\n",
      "Epoch 66/150\n",
      "591/591 [==============================] - 5s 9ms/step - loss: 2.3764 - accuracy: 0.4018 - val_loss: 2.4560 - val_accuracy: 0.4048 - lr: 3.2768e-04\n",
      "Epoch 67/150\n",
      "591/591 [==============================] - 5s 9ms/step - loss: 2.3746 - accuracy: 0.4012 - val_loss: 2.4564 - val_accuracy: 0.4041 - lr: 3.2768e-04\n",
      "Epoch 68/150\n",
      "586/591 [============================>.] - ETA: 0s - loss: 2.3669 - accuracy: 0.4038\n",
      "Epoch 68: ReduceLROnPlateau reducing learning rate to 0.0002621440216898918.\n",
      "591/591 [==============================] - 6s 9ms/step - loss: 2.3663 - accuracy: 0.4039 - val_loss: 2.4572 - val_accuracy: 0.4038 - lr: 3.2768e-04\n",
      "Epoch 69/150\n",
      "591/591 [==============================] - 6s 9ms/step - loss: 2.3560 - accuracy: 0.4070 - val_loss: 2.4472 - val_accuracy: 0.4086 - lr: 2.6214e-04\n",
      "Epoch 70/150\n",
      "591/591 [==============================] - 6s 9ms/step - loss: 2.3521 - accuracy: 0.4085 - val_loss: 2.4425 - val_accuracy: 0.4091 - lr: 2.6214e-04\n",
      "Epoch 71/150\n",
      "591/591 [==============================] - 6s 10ms/step - loss: 2.3498 - accuracy: 0.4082 - val_loss: 2.4445 - val_accuracy: 0.4074 - lr: 2.6214e-04\n",
      "Epoch 72/150\n",
      "590/591 [============================>.] - ETA: 0s - loss: 2.3510 - accuracy: 0.4066\n",
      "Epoch 72: ReduceLROnPlateau reducing learning rate to 0.00020971521735191345.\n",
      "591/591 [==============================] - 6s 10ms/step - loss: 2.3512 - accuracy: 0.4066 - val_loss: 2.4458 - val_accuracy: 0.4098 - lr: 2.6214e-04\n",
      "Epoch 73/150\n",
      "591/591 [==============================] - 6s 10ms/step - loss: 2.3370 - accuracy: 0.4104 - val_loss: 2.4432 - val_accuracy: 0.4118 - lr: 2.0972e-04\n",
      "Epoch 74/150\n",
      "591/591 [==============================] - 6s 9ms/step - loss: 2.3356 - accuracy: 0.4119 - val_loss: 2.4328 - val_accuracy: 0.4116 - lr: 2.0972e-04\n",
      "Epoch 75/150\n",
      "591/591 [==============================] - 6s 9ms/step - loss: 2.3341 - accuracy: 0.4103 - val_loss: 2.4494 - val_accuracy: 0.4069 - lr: 2.0972e-04\n",
      "Epoch 76/150\n",
      "591/591 [==============================] - 6s 11ms/step - loss: 2.3292 - accuracy: 0.4124 - val_loss: 2.4314 - val_accuracy: 0.4119 - lr: 2.0972e-04\n",
      "Epoch 77/150\n",
      "591/591 [==============================] - 6s 10ms/step - loss: 2.3268 - accuracy: 0.4133 - val_loss: 2.4341 - val_accuracy: 0.4129 - lr: 2.0972e-04\n",
      "Epoch 78/150\n",
      "590/591 [============================>.] - ETA: 0s - loss: 2.3270 - accuracy: 0.4124\n",
      "Epoch 78: ReduceLROnPlateau reducing learning rate to 0.00016777217388153076.\n",
      "591/591 [==============================] - 6s 9ms/step - loss: 2.3269 - accuracy: 0.4125 - val_loss: 2.4392 - val_accuracy: 0.4095 - lr: 2.0972e-04\n",
      "Epoch 79/150\n",
      "591/591 [==============================] - 6s 9ms/step - loss: 2.3162 - accuracy: 0.4139 - val_loss: 2.4276 - val_accuracy: 0.4119 - lr: 1.6777e-04\n",
      "Epoch 80/150\n",
      "591/591 [==============================] - 6s 10ms/step - loss: 2.3151 - accuracy: 0.4140 - val_loss: 2.4287 - val_accuracy: 0.4147 - lr: 1.6777e-04\n",
      "Epoch 81/150\n",
      "590/591 [============================>.] - ETA: 0s - loss: 2.3126 - accuracy: 0.4151\n",
      "Epoch 81: ReduceLROnPlateau reducing learning rate to 0.00013421773910522462.\n",
      "591/591 [==============================] - 6s 9ms/step - loss: 2.3124 - accuracy: 0.4152 - val_loss: 2.4338 - val_accuracy: 0.4111 - lr: 1.6777e-04\n",
      "Epoch 82/150\n",
      "591/591 [==============================] - 6s 10ms/step - loss: 2.3042 - accuracy: 0.4174 - val_loss: 2.4196 - val_accuracy: 0.4153 - lr: 1.3422e-04\n",
      "Epoch 83/150\n",
      "591/591 [==============================] - 6s 10ms/step - loss: 2.3011 - accuracy: 0.4187 - val_loss: 2.4230 - val_accuracy: 0.4154 - lr: 1.3422e-04\n",
      "Epoch 84/150\n",
      "587/591 [============================>.] - ETA: 0s - loss: 2.3020 - accuracy: 0.4187\n",
      "Epoch 84: ReduceLROnPlateau reducing learning rate to 0.00010737419361248613.\n",
      "591/591 [==============================] - 6s 9ms/step - loss: 2.3019 - accuracy: 0.4187 - val_loss: 2.4241 - val_accuracy: 0.4141 - lr: 1.3422e-04\n",
      "Epoch 85/150\n",
      "591/591 [==============================] - 6s 9ms/step - loss: 2.2973 - accuracy: 0.4174 - val_loss: 2.4228 - val_accuracy: 0.4168 - lr: 1.0737e-04\n",
      "Epoch 86/150\n",
      "591/591 [==============================] - ETA: 0s - loss: 2.2956 - accuracy: 0.4189\n",
      "Epoch 86: ReduceLROnPlateau reducing learning rate to 8.589935605414213e-05.\n",
      "591/591 [==============================] - 6s 9ms/step - loss: 2.2956 - accuracy: 0.4189 - val_loss: 2.4213 - val_accuracy: 0.4166 - lr: 1.0737e-04\n",
      "Epoch 87/150\n",
      "591/591 [==============================] - 6s 9ms/step - loss: 2.2918 - accuracy: 0.4193 - val_loss: 2.4198 - val_accuracy: 0.4146 - lr: 8.5899e-05\n",
      "Epoch 88/150\n",
      "591/591 [==============================] - 6s 9ms/step - loss: 2.2887 - accuracy: 0.4220 - val_loss: 2.4188 - val_accuracy: 0.4158 - lr: 8.5899e-05\n",
      "Epoch 89/150\n",
      "591/591 [==============================] - 6s 9ms/step - loss: 2.2887 - accuracy: 0.4219 - val_loss: 2.4243 - val_accuracy: 0.4144 - lr: 8.5899e-05\n",
      "Epoch 90/150\n",
      "591/591 [==============================] - 6s 9ms/step - loss: 2.2909 - accuracy: 0.4210 - val_loss: 2.4152 - val_accuracy: 0.4160 - lr: 8.5899e-05\n",
      "Epoch 91/150\n",
      "591/591 [==============================] - 6s 9ms/step - loss: 2.2856 - accuracy: 0.4218 - val_loss: 2.4175 - val_accuracy: 0.4177 - lr: 8.5899e-05\n",
      "Epoch 92/150\n",
      "585/591 [============================>.] - ETA: 0s - loss: 2.2866 - accuracy: 0.4215\n",
      "Epoch 92: ReduceLROnPlateau reducing learning rate to 6.871948717162013e-05.\n",
      "591/591 [==============================] - 6s 9ms/step - loss: 2.2869 - accuracy: 0.4215 - val_loss: 2.4186 - val_accuracy: 0.4167 - lr: 8.5899e-05\n",
      "Epoch 93/150\n",
      "591/591 [==============================] - 6s 10ms/step - loss: 2.2812 - accuracy: 0.4234 - val_loss: 2.4132 - val_accuracy: 0.4162 - lr: 6.8719e-05\n",
      "Epoch 94/150\n",
      "591/591 [==============================] - 6s 9ms/step - loss: 2.2815 - accuracy: 0.4226 - val_loss: 2.4135 - val_accuracy: 0.4174 - lr: 6.8719e-05\n",
      "Epoch 95/150\n",
      "590/591 [============================>.] - ETA: 0s - loss: 2.2803 - accuracy: 0.4235\n",
      "Epoch 95: ReduceLROnPlateau reducing learning rate to 5.497558740898967e-05.\n",
      "591/591 [==============================] - 6s 9ms/step - loss: 2.2804 - accuracy: 0.4235 - val_loss: 2.4147 - val_accuracy: 0.4161 - lr: 6.8719e-05\n",
      "Epoch 96/150\n",
      "591/591 [==============================] - 6s 9ms/step - loss: 2.2766 - accuracy: 0.4242 - val_loss: 2.4125 - val_accuracy: 0.4171 - lr: 5.4976e-05\n",
      "Epoch 97/150\n",
      "591/591 [==============================] - 6s 9ms/step - loss: 2.2787 - accuracy: 0.4225 - val_loss: 2.4138 - val_accuracy: 0.4165 - lr: 5.4976e-05\n",
      "Epoch 98/150\n",
      "585/591 [============================>.] - ETA: 0s - loss: 2.2798 - accuracy: 0.4224\n",
      "Epoch 98: ReduceLROnPlateau reducing learning rate to 4.398046876303852e-05.\n",
      "591/591 [==============================] - 6s 10ms/step - loss: 2.2794 - accuracy: 0.4224 - val_loss: 2.4141 - val_accuracy: 0.4175 - lr: 5.4976e-05\n",
      "Epoch 99/150\n",
      "591/591 [==============================] - 6s 10ms/step - loss: 2.2746 - accuracy: 0.4235 - val_loss: 2.4103 - val_accuracy: 0.4197 - lr: 4.3980e-05\n",
      "Epoch 100/150\n",
      "591/591 [==============================] - 5s 9ms/step - loss: 2.2714 - accuracy: 0.4244 - val_loss: 2.4134 - val_accuracy: 0.4170 - lr: 4.3980e-05\n",
      "Epoch 101/150\n",
      "591/591 [==============================] - ETA: 0s - loss: 2.2728 - accuracy: 0.4234\n",
      "Epoch 101: ReduceLROnPlateau reducing learning rate to 3.518437442835421e-05.\n",
      "591/591 [==============================] - 5s 9ms/step - loss: 2.2728 - accuracy: 0.4234 - val_loss: 2.4121 - val_accuracy: 0.4182 - lr: 4.3980e-05\n",
      "Epoch 102/150\n",
      "591/591 [==============================] - 5s 9ms/step - loss: 2.2718 - accuracy: 0.4254 - val_loss: 2.4091 - val_accuracy: 0.4174 - lr: 3.5184e-05\n",
      "Epoch 103/150\n",
      "591/591 [==============================] - 6s 9ms/step - loss: 2.2716 - accuracy: 0.4264 - val_loss: 2.4138 - val_accuracy: 0.4181 - lr: 3.5184e-05\n",
      "Epoch 104/150\n",
      "590/591 [============================>.] - ETA: 0s - loss: 2.2675 - accuracy: 0.4278\n",
      "Epoch 104: ReduceLROnPlateau reducing learning rate to 2.8147498960606756e-05.\n",
      "591/591 [==============================] - 6s 9ms/step - loss: 2.2677 - accuracy: 0.4277 - val_loss: 2.4124 - val_accuracy: 0.4174 - lr: 3.5184e-05\n",
      "Epoch 105/150\n",
      "591/591 [==============================] - 5s 9ms/step - loss: 2.2665 - accuracy: 0.4244 - val_loss: 2.4076 - val_accuracy: 0.4191 - lr: 2.8147e-05\n",
      "Epoch 106/150\n",
      "591/591 [==============================] - 5s 9ms/step - loss: 2.2649 - accuracy: 0.4256 - val_loss: 2.4104 - val_accuracy: 0.4177 - lr: 2.8147e-05\n",
      "Epoch 107/150\n",
      "586/591 [============================>.] - ETA: 0s - loss: 2.2660 - accuracy: 0.4263\n",
      "Epoch 107: ReduceLROnPlateau reducing learning rate to 2.25179988774471e-05.\n",
      "591/591 [==============================] - 5s 9ms/step - loss: 2.2652 - accuracy: 0.4266 - val_loss: 2.4097 - val_accuracy: 0.4174 - lr: 2.8147e-05\n",
      "Epoch 108/150\n",
      "591/591 [==============================] - 5s 9ms/step - loss: 2.2644 - accuracy: 0.4256 - val_loss: 2.4063 - val_accuracy: 0.4192 - lr: 2.2518e-05\n",
      "Epoch 109/150\n",
      "591/591 [==============================] - 5s 9ms/step - loss: 2.2689 - accuracy: 0.4258 - val_loss: 2.4097 - val_accuracy: 0.4181 - lr: 2.2518e-05\n",
      "Epoch 110/150\n",
      "589/591 [============================>.] - ETA: 0s - loss: 2.2639 - accuracy: 0.4258\n",
      "Epoch 110: ReduceLROnPlateau reducing learning rate to 1.8014399392995985e-05.\n",
      "591/591 [==============================] - 6s 9ms/step - loss: 2.2640 - accuracy: 0.4257 - val_loss: 2.4082 - val_accuracy: 0.4190 - lr: 2.2518e-05\n",
      "Epoch 111/150\n",
      "591/591 [==============================] - 5s 9ms/step - loss: 2.2673 - accuracy: 0.4259 - val_loss: 2.4083 - val_accuracy: 0.4183 - lr: 1.8014e-05\n",
      "Epoch 112/150\n",
      "591/591 [==============================] - ETA: 0s - loss: 2.2617 - accuracy: 0.4280\n",
      "Epoch 112: ReduceLROnPlateau reducing learning rate to 1.4411519805435093e-05.\n",
      "591/591 [==============================] - 5s 9ms/step - loss: 2.2617 - accuracy: 0.4280 - val_loss: 2.4085 - val_accuracy: 0.4190 - lr: 1.8014e-05\n",
      "Epoch 113/150\n",
      "591/591 [==============================] - 5s 9ms/step - loss: 2.2629 - accuracy: 0.4286 - val_loss: 2.4078 - val_accuracy: 0.4190 - lr: 1.4412e-05\n",
      "Epoch 114/150\n",
      "590/591 [============================>.] - ETA: 0s - loss: 2.2598 - accuracy: 0.4280\n",
      "Epoch 114: ReduceLROnPlateau reducing learning rate to 1.1529216135386379e-05.\n",
      "591/591 [==============================] - 5s 9ms/step - loss: 2.2599 - accuracy: 0.4280 - val_loss: 2.4067 - val_accuracy: 0.4190 - lr: 1.4412e-05\n",
      "Epoch 115/150\n",
      "591/591 [==============================] - 5s 9ms/step - loss: 2.2623 - accuracy: 0.4276 - val_loss: 2.4071 - val_accuracy: 0.4193 - lr: 1.1529e-05\n",
      "Epoch 116/150\n",
      "588/591 [============================>.] - ETA: 0s - loss: 2.2615 - accuracy: 0.4258\n",
      "Epoch 116: ReduceLROnPlateau reducing learning rate to 9.223372762789951e-06.\n",
      "591/591 [==============================] - 6s 9ms/step - loss: 2.2612 - accuracy: 0.4260 - val_loss: 2.4072 - val_accuracy: 0.4183 - lr: 1.1529e-05\n",
      "Epoch 117/150\n",
      "591/591 [==============================] - 5s 9ms/step - loss: 2.2595 - accuracy: 0.4282 - val_loss: 2.4068 - val_accuracy: 0.4194 - lr: 9.2234e-06\n",
      "Epoch 118/150\n",
      "591/591 [==============================] - ETA: 0s - loss: 2.2590 - accuracy: 0.4264\n",
      "Epoch 118: ReduceLROnPlateau reducing learning rate to 7.378698501270265e-06.\n",
      "591/591 [==============================] - 5s 9ms/step - loss: 2.2590 - accuracy: 0.4264 - val_loss: 2.4075 - val_accuracy: 0.4186 - lr: 9.2234e-06\n",
      "Epoch 119/150\n",
      "591/591 [==============================] - 5s 9ms/step - loss: 2.2591 - accuracy: 0.4265 - val_loss: 2.4063 - val_accuracy: 0.4192 - lr: 7.3787e-06\n",
      "Epoch 120/150\n",
      "590/591 [============================>.] - ETA: 0s - loss: 2.2640 - accuracy: 0.4272\n",
      "Epoch 120: ReduceLROnPlateau reducing learning rate to 5.902958946535364e-06.\n",
      "591/591 [==============================] - 5s 9ms/step - loss: 2.2640 - accuracy: 0.4273 - val_loss: 2.4065 - val_accuracy: 0.4196 - lr: 7.3787e-06\n",
      "Epoch 121/150\n",
      "591/591 [==============================] - 5s 9ms/step - loss: 2.2628 - accuracy: 0.4265 - val_loss: 2.4064 - val_accuracy: 0.4190 - lr: 5.9030e-06\n",
      "Epoch 122/150\n",
      "585/591 [============================>.] - ETA: 0s - loss: 2.2611 - accuracy: 0.4277\n",
      "Epoch 122: ReduceLROnPlateau reducing learning rate to 4.7223671572282915e-06.\n",
      "591/591 [==============================] - 6s 10ms/step - loss: 2.2612 - accuracy: 0.4273 - val_loss: 2.4065 - val_accuracy: 0.4188 - lr: 5.9030e-06\n",
      "Epoch 123/150\n",
      "591/591 [==============================] - 5s 9ms/step - loss: 2.2618 - accuracy: 0.4253 - val_loss: 2.4066 - val_accuracy: 0.4193 - lr: 4.7224e-06\n",
      "Epoch 124/150\n",
      "591/591 [==============================] - 5s 9ms/step - loss: 2.2558 - accuracy: 0.4284 - val_loss: 2.4062 - val_accuracy: 0.4187 - lr: 4.7224e-06\n",
      "Epoch 125/150\n",
      "591/591 [==============================] - 5s 9ms/step - loss: 2.2577 - accuracy: 0.4277 - val_loss: 2.4067 - val_accuracy: 0.4191 - lr: 4.7224e-06\n",
      "Epoch 126/150\n",
      "586/591 [============================>.] - ETA: 0s - loss: 2.2567 - accuracy: 0.4302\n",
      "Epoch 126: ReduceLROnPlateau reducing learning rate to 3.7778936530230567e-06.\n",
      "591/591 [==============================] - 5s 9ms/step - loss: 2.2572 - accuracy: 0.4300 - val_loss: 2.4069 - val_accuracy: 0.4191 - lr: 4.7224e-06\n",
      "Epoch 127/150\n",
      "591/591 [==============================] - 5s 9ms/step - loss: 2.2603 - accuracy: 0.4267 - val_loss: 2.4068 - val_accuracy: 0.4188 - lr: 3.7779e-06\n",
      "Epoch 128/150\n",
      "587/591 [============================>.] - ETA: 0s - loss: 2.2536 - accuracy: 0.4290\n",
      "Epoch 128: ReduceLROnPlateau reducing learning rate to 3.0223149224184457e-06.\n",
      "591/591 [==============================] - 6s 9ms/step - loss: 2.2535 - accuracy: 0.4289 - val_loss: 2.4066 - val_accuracy: 0.4190 - lr: 3.7779e-06\n",
      "Epoch 129/150\n",
      "591/591 [==============================] - 5s 9ms/step - loss: 2.2589 - accuracy: 0.4274 - val_loss: 2.4063 - val_accuracy: 0.4192 - lr: 3.0223e-06\n",
      "Epoch 130/150\n",
      "585/591 [============================>.] - ETA: 0s - loss: 2.2598 - accuracy: 0.4276\n",
      "Epoch 130: ReduceLROnPlateau reducing learning rate to 2.4178520106943328e-06.\n",
      "591/591 [==============================] - 5s 9ms/step - loss: 2.2606 - accuracy: 0.4274 - val_loss: 2.4066 - val_accuracy: 0.4192 - lr: 3.0223e-06\n",
      "Epoch 131/150\n",
      "591/591 [==============================] - 5s 9ms/step - loss: 2.2587 - accuracy: 0.4279 - val_loss: 2.4062 - val_accuracy: 0.4196 - lr: 2.4179e-06\n",
      "Epoch 132/150\n",
      "591/591 [==============================] - ETA: 0s - loss: 2.2568 - accuracy: 0.4291\n",
      "Epoch 132: ReduceLROnPlateau reducing learning rate to 1.9342816813150422e-06.\n",
      "591/591 [==============================] - 5s 9ms/step - loss: 2.2568 - accuracy: 0.4291 - val_loss: 2.4063 - val_accuracy: 0.4195 - lr: 2.4179e-06\n",
      "Epoch 133/150\n",
      "591/591 [==============================] - 6s 9ms/step - loss: 2.2580 - accuracy: 0.4273 - val_loss: 2.4064 - val_accuracy: 0.4192 - lr: 1.9343e-06\n",
      "Epoch 134/150\n",
      "589/591 [============================>.] - ETA: 0s - loss: 2.2566 - accuracy: 0.4263\n",
      "Epoch 134: ReduceLROnPlateau reducing learning rate to 1.547425381431822e-06.\n",
      "591/591 [==============================] - 6s 9ms/step - loss: 2.2563 - accuracy: 0.4264 - val_loss: 2.4062 - val_accuracy: 0.4195 - lr: 1.9343e-06\n",
      "Epoch 135/150\n",
      "591/591 [==============================] - 5s 9ms/step - loss: 2.2541 - accuracy: 0.4272 - val_loss: 2.4063 - val_accuracy: 0.4193 - lr: 1.5474e-06\n",
      "Epoch 136/150\n",
      "585/591 [============================>.] - ETA: 0s - loss: 2.2591 - accuracy: 0.4270\n",
      "Epoch 136: ReduceLROnPlateau reducing learning rate to 1.2379403415252455e-06.\n",
      "591/591 [==============================] - 5s 9ms/step - loss: 2.2584 - accuracy: 0.4273 - val_loss: 2.4063 - val_accuracy: 0.4196 - lr: 1.5474e-06\n",
      "Epoch 137/150\n",
      "591/591 [==============================] - 5s 9ms/step - loss: 2.2600 - accuracy: 0.4278 - val_loss: 2.4062 - val_accuracy: 0.4195 - lr: 1.2379e-06\n",
      "Epoch 138/150\n",
      "585/591 [============================>.] - ETA: 0s - loss: 2.2559 - accuracy: 0.4290\n",
      "Epoch 138: ReduceLROnPlateau reducing learning rate to 9.903522368404083e-07.\n",
      "591/591 [==============================] - 5s 9ms/step - loss: 2.2568 - accuracy: 0.4287 - val_loss: 2.4062 - val_accuracy: 0.4194 - lr: 1.2379e-06\n",
      "Epoch 139/150\n",
      "591/591 [==============================] - 5s 9ms/step - loss: 2.2578 - accuracy: 0.4278 - val_loss: 2.4062 - val_accuracy: 0.4193 - lr: 9.9035e-07\n",
      "Epoch 140/150\n",
      "585/591 [============================>.] - ETA: 0s - loss: 2.2572 - accuracy: 0.4267\n",
      "Epoch 140: ReduceLROnPlateau reducing learning rate to 7.922817530925386e-07.\n",
      "591/591 [==============================] - 5s 9ms/step - loss: 2.2562 - accuracy: 0.4270 - val_loss: 2.4062 - val_accuracy: 0.4197 - lr: 9.9035e-07\n",
      "Epoch 141/150\n",
      "591/591 [==============================] - 5s 9ms/step - loss: 2.2552 - accuracy: 0.4289 - val_loss: 2.4063 - val_accuracy: 0.4198 - lr: 7.9228e-07\n",
      "Epoch 142/150\n",
      "588/591 [============================>.] - ETA: 0s - loss: 2.2568 - accuracy: 0.4281\n",
      "Epoch 142: ReduceLROnPlateau reducing learning rate to 6.338254024740309e-07.\n",
      "591/591 [==============================] - 5s 9ms/step - loss: 2.2563 - accuracy: 0.4283 - val_loss: 2.4063 - val_accuracy: 0.4196 - lr: 7.9228e-07\n",
      "Epoch 143/150\n",
      "591/591 [==============================] - 5s 9ms/step - loss: 2.2580 - accuracy: 0.4281 - val_loss: 2.4062 - val_accuracy: 0.4194 - lr: 6.3383e-07\n",
      "Epoch 144/150\n",
      "591/591 [==============================] - ETA: 0s - loss: 2.2582 - accuracy: 0.4270\n",
      "Epoch 144: ReduceLROnPlateau reducing learning rate to 5.070603037893307e-07.\n",
      "591/591 [==============================] - 5s 9ms/step - loss: 2.2582 - accuracy: 0.4270 - val_loss: 2.4062 - val_accuracy: 0.4193 - lr: 6.3383e-07\n",
      "Epoch 145/150\n",
      "591/591 [==============================] - 5s 9ms/step - loss: 2.2555 - accuracy: 0.4285 - val_loss: 2.4062 - val_accuracy: 0.4193 - lr: 5.0706e-07\n",
      "Epoch 146/150\n",
      "589/591 [============================>.] - ETA: 0s - loss: 2.2563 - accuracy: 0.4279\n",
      "Epoch 146: ReduceLROnPlateau reducing learning rate to 4.056482339365175e-07.\n",
      "591/591 [==============================] - 5s 9ms/step - loss: 2.2568 - accuracy: 0.4278 - val_loss: 2.4062 - val_accuracy: 0.4194 - lr: 5.0706e-07\n",
      "Epoch 147/150\n",
      "591/591 [==============================] - 5s 9ms/step - loss: 2.2567 - accuracy: 0.4267 - val_loss: 2.4063 - val_accuracy: 0.4193 - lr: 4.0565e-07\n",
      "Epoch 148/150\n",
      "590/591 [============================>.] - ETA: 0s - loss: 2.2594 - accuracy: 0.4284\n",
      "Epoch 148: ReduceLROnPlateau reducing learning rate to 3.24518578054267e-07.\n",
      "591/591 [==============================] - 5s 9ms/step - loss: 2.2594 - accuracy: 0.4284 - val_loss: 2.4062 - val_accuracy: 0.4195 - lr: 4.0565e-07\n",
      "Epoch 149/150\n",
      "591/591 [==============================] - 5s 9ms/step - loss: 2.2534 - accuracy: 0.4289 - val_loss: 2.4062 - val_accuracy: 0.4196 - lr: 3.2452e-07\n",
      "Epoch 150/150\n",
      "586/591 [============================>.] - ETA: 0s - loss: 2.2601 - accuracy: 0.4276\n",
      "Epoch 150: ReduceLROnPlateau reducing learning rate to 2.5961485334846656e-07.\n",
      "591/591 [==============================] - 5s 9ms/step - loss: 2.2602 - accuracy: 0.4276 - val_loss: 2.4062 - val_accuracy: 0.4195 - lr: 3.2452e-07\n",
      "Keras weights file (<HDF5 file \"variables.h5\" (mode r+)>) saving:\n",
      "...layers\n",
      "......conv1d\n",
      ".........vars\n",
      "............0\n",
      "............1\n",
      "......conv1d_1\n",
      ".........vars\n",
      "............0\n",
      "............1\n",
      "......conv1d_2\n",
      ".........vars\n",
      "............0\n",
      "............1\n",
      "......dense\n",
      ".........vars\n",
      "............0\n",
      "............1\n",
      "......dense_1\n",
      ".........vars\n",
      "............0\n",
      "............1\n",
      "......dense_2\n",
      ".........vars\n",
      "............0\n",
      "............1\n",
      "......dropout\n",
      ".........vars\n",
      "......flatten\n",
      ".........vars\n",
      "......input_layer\n",
      ".........vars\n",
      "......max_pooling1d\n",
      ".........vars\n",
      "......max_pooling1d_1\n",
      ".........vars\n",
      "......max_pooling1d_2\n",
      ".........vars\n",
      "...metrics\n",
      "......mean\n",
      ".........vars\n",
      "............0\n",
      "............1\n",
      "......mean_metric_wrapper\n",
      ".........vars\n",
      "............0\n",
      "............1\n",
      "...optimizer\n",
      "......vars\n",
      ".........0\n",
      ".........1\n",
      ".........10\n",
      ".........11\n",
      ".........12\n",
      ".........13\n",
      ".........14\n",
      ".........15\n",
      ".........16\n",
      ".........17\n",
      ".........18\n",
      ".........19\n",
      ".........2\n",
      ".........20\n",
      ".........21\n",
      ".........22\n",
      ".........23\n",
      ".........24\n",
      ".........3\n",
      ".........4\n",
      ".........5\n",
      ".........6\n",
      ".........7\n",
      ".........8\n",
      ".........9\n",
      "...vars\n",
      "Keras model archive saving:\n",
      "File Name                                             Modified             Size\n",
      "config.json                                    2024-08-28 05:08:59         5835\n",
      "variables.h5                                   2024-08-28 05:08:59     13695144\n",
      "metadata.json                                  2024-08-28 05:08:59           64\n",
      "Epoch 1/150\n",
      "591/591 [==============================] - 8s 10ms/step - loss: 5.4019 - accuracy: 0.0078 - val_loss: 5.1584 - val_accuracy: 0.0147 - lr: 0.0010\n",
      "Epoch 2/150\n",
      "591/591 [==============================] - 6s 9ms/step - loss: 4.8358 - accuracy: 0.0381 - val_loss: 4.4087 - val_accuracy: 0.0694 - lr: 0.0010\n",
      "Epoch 3/150\n",
      "591/591 [==============================] - 6s 9ms/step - loss: 4.2106 - accuracy: 0.0941 - val_loss: 3.8668 - val_accuracy: 0.1416 - lr: 0.0010\n",
      "Epoch 4/150\n",
      "591/591 [==============================] - 6s 9ms/step - loss: 3.7039 - accuracy: 0.1596 - val_loss: 3.4303 - val_accuracy: 0.2120 - lr: 0.0010\n",
      "Epoch 5/150\n",
      "591/591 [==============================] - 6s 10ms/step - loss: 3.3596 - accuracy: 0.2193 - val_loss: 3.1665 - val_accuracy: 0.2623 - lr: 0.0010\n",
      "Epoch 6/150\n",
      "591/591 [==============================] - 6s 9ms/step - loss: 3.1411 - accuracy: 0.2593 - val_loss: 3.0125 - val_accuracy: 0.2879 - lr: 0.0010\n",
      "Epoch 7/150\n",
      "591/591 [==============================] - 6s 10ms/step - loss: 2.9643 - accuracy: 0.2939 - val_loss: 2.9074 - val_accuracy: 0.3115 - lr: 0.0010\n",
      "Epoch 8/150\n",
      "591/591 [==============================] - 6s 9ms/step - loss: 2.8214 - accuracy: 0.3204 - val_loss: 2.7847 - val_accuracy: 0.3376 - lr: 0.0010\n",
      "Epoch 9/150\n",
      "591/591 [==============================] - 6s 10ms/step - loss: 2.7039 - accuracy: 0.3444 - val_loss: 2.6553 - val_accuracy: 0.3633 - lr: 0.0010\n",
      "Epoch 10/150\n",
      "591/591 [==============================] - 5s 9ms/step - loss: 2.6037 - accuracy: 0.3642 - val_loss: 2.5746 - val_accuracy: 0.3824 - lr: 0.0010\n",
      "Epoch 11/150\n",
      "591/591 [==============================] - 6s 10ms/step - loss: 2.5286 - accuracy: 0.3801 - val_loss: 2.4990 - val_accuracy: 0.3956 - lr: 0.0010\n",
      "Epoch 12/150\n",
      "591/591 [==============================] - 6s 9ms/step - loss: 2.4525 - accuracy: 0.3951 - val_loss: 2.4112 - val_accuracy: 0.4157 - lr: 0.0010\n",
      "Epoch 13/150\n",
      "591/591 [==============================] - 6s 9ms/step - loss: 2.3916 - accuracy: 0.4079 - val_loss: 2.4191 - val_accuracy: 0.4124 - lr: 0.0010\n",
      "Epoch 14/150\n",
      "591/591 [==============================] - 5s 9ms/step - loss: 2.3346 - accuracy: 0.4192 - val_loss: 2.3442 - val_accuracy: 0.4301 - lr: 0.0010\n",
      "Epoch 15/150\n",
      "591/591 [==============================] - 5s 9ms/step - loss: 2.2851 - accuracy: 0.4308 - val_loss: 2.3263 - val_accuracy: 0.4294 - lr: 0.0010\n",
      "Epoch 16/150\n",
      "591/591 [==============================] - 6s 9ms/step - loss: 2.2424 - accuracy: 0.4393 - val_loss: 2.2517 - val_accuracy: 0.4513 - lr: 0.0010\n",
      "Epoch 17/150\n",
      "591/591 [==============================] - 6s 10ms/step - loss: 2.1938 - accuracy: 0.4502 - val_loss: 2.2170 - val_accuracy: 0.4594 - lr: 0.0010\n",
      "Epoch 18/150\n",
      "591/591 [==============================] - 6s 9ms/step - loss: 2.1497 - accuracy: 0.4602 - val_loss: 2.1818 - val_accuracy: 0.4673 - lr: 0.0010\n",
      "Epoch 19/150\n",
      "591/591 [==============================] - 6s 9ms/step - loss: 2.1162 - accuracy: 0.4678 - val_loss: 2.1597 - val_accuracy: 0.4743 - lr: 0.0010\n",
      "Epoch 20/150\n",
      "591/591 [==============================] - 6s 9ms/step - loss: 2.0826 - accuracy: 0.4729 - val_loss: 2.1184 - val_accuracy: 0.4744 - lr: 0.0010\n",
      "Epoch 21/150\n",
      "591/591 [==============================] - 5s 9ms/step - loss: 2.0377 - accuracy: 0.4845 - val_loss: 2.1312 - val_accuracy: 0.4721 - lr: 0.0010\n",
      "Epoch 22/150\n",
      "591/591 [==============================] - 6s 9ms/step - loss: 2.0152 - accuracy: 0.4873 - val_loss: 2.0634 - val_accuracy: 0.4895 - lr: 0.0010\n",
      "Epoch 23/150\n",
      "591/591 [==============================] - 6s 9ms/step - loss: 1.9802 - accuracy: 0.4957 - val_loss: 2.0368 - val_accuracy: 0.4954 - lr: 0.0010\n",
      "Epoch 24/150\n",
      "591/591 [==============================] - 5s 9ms/step - loss: 1.9571 - accuracy: 0.4993 - val_loss: 2.0218 - val_accuracy: 0.4965 - lr: 0.0010\n",
      "Epoch 25/150\n",
      "591/591 [==============================] - 6s 9ms/step - loss: 1.9193 - accuracy: 0.5080 - val_loss: 2.0544 - val_accuracy: 0.4925 - lr: 0.0010\n",
      "Epoch 26/150\n",
      "591/591 [==============================] - 5s 9ms/step - loss: 1.9015 - accuracy: 0.5125 - val_loss: 1.9795 - val_accuracy: 0.5079 - lr: 0.0010\n",
      "Epoch 27/150\n",
      "591/591 [==============================] - 6s 9ms/step - loss: 1.8690 - accuracy: 0.5208 - val_loss: 1.9503 - val_accuracy: 0.5166 - lr: 0.0010\n",
      "Epoch 28/150\n",
      "591/591 [==============================] - 6s 9ms/step - loss: 1.8476 - accuracy: 0.5263 - val_loss: 1.9911 - val_accuracy: 0.5094 - lr: 0.0010\n",
      "Epoch 29/150\n",
      "588/591 [============================>.] - ETA: 0s - loss: 1.8217 - accuracy: 0.5317\n",
      "Epoch 29: ReduceLROnPlateau reducing learning rate to 0.000800000037997961.\n",
      "591/591 [==============================] - 5s 9ms/step - loss: 1.8217 - accuracy: 0.5317 - val_loss: 1.9507 - val_accuracy: 0.5165 - lr: 0.0010\n",
      "Epoch 30/150\n",
      "591/591 [==============================] - 6s 9ms/step - loss: 1.7524 - accuracy: 0.5486 - val_loss: 1.9039 - val_accuracy: 0.5287 - lr: 8.0000e-04\n",
      "Epoch 31/150\n",
      "591/591 [==============================] - 6s 9ms/step - loss: 1.7320 - accuracy: 0.5522 - val_loss: 1.9148 - val_accuracy: 0.5264 - lr: 8.0000e-04\n",
      "Epoch 32/150\n",
      "591/591 [==============================] - 5s 9ms/step - loss: 1.7092 - accuracy: 0.5577 - val_loss: 1.8947 - val_accuracy: 0.5271 - lr: 8.0000e-04\n",
      "Epoch 33/150\n",
      "591/591 [==============================] - 6s 9ms/step - loss: 1.7004 - accuracy: 0.5593 - val_loss: 1.8755 - val_accuracy: 0.5334 - lr: 8.0000e-04\n",
      "Epoch 34/150\n",
      "591/591 [==============================] - 6s 10ms/step - loss: 1.6777 - accuracy: 0.5629 - val_loss: 1.8658 - val_accuracy: 0.5374 - lr: 8.0000e-04\n",
      "Epoch 35/150\n",
      "591/591 [==============================] - 6s 9ms/step - loss: 1.6585 - accuracy: 0.5669 - val_loss: 1.8432 - val_accuracy: 0.5426 - lr: 8.0000e-04\n",
      "Epoch 36/150\n",
      "591/591 [==============================] - 6s 10ms/step - loss: 1.6361 - accuracy: 0.5723 - val_loss: 1.8207 - val_accuracy: 0.5479 - lr: 8.0000e-04\n",
      "Epoch 37/150\n",
      "591/591 [==============================] - 6s 9ms/step - loss: 1.6264 - accuracy: 0.5749 - val_loss: 1.8533 - val_accuracy: 0.5413 - lr: 8.0000e-04\n",
      "Epoch 38/150\n",
      "590/591 [============================>.] - ETA: 0s - loss: 1.6020 - accuracy: 0.5787\n",
      "Epoch 38: ReduceLROnPlateau reducing learning rate to 0.0006400000303983689.\n",
      "591/591 [==============================] - 5s 9ms/step - loss: 1.6020 - accuracy: 0.5786 - val_loss: 1.8454 - val_accuracy: 0.5442 - lr: 8.0000e-04\n",
      "Epoch 39/150\n",
      "591/591 [==============================] - 6s 10ms/step - loss: 1.5511 - accuracy: 0.5944 - val_loss: 1.7888 - val_accuracy: 0.5578 - lr: 6.4000e-04\n",
      "Epoch 40/150\n",
      "591/591 [==============================] - 5s 9ms/step - loss: 1.5330 - accuracy: 0.5969 - val_loss: 1.7961 - val_accuracy: 0.5551 - lr: 6.4000e-04\n",
      "Epoch 41/150\n",
      "591/591 [==============================] - 5s 9ms/step - loss: 1.5208 - accuracy: 0.5993 - val_loss: 1.7872 - val_accuracy: 0.5563 - lr: 6.4000e-04\n",
      "Epoch 42/150\n",
      "591/591 [==============================] - 5s 9ms/step - loss: 1.5090 - accuracy: 0.6037 - val_loss: 1.7876 - val_accuracy: 0.5565 - lr: 6.4000e-04\n",
      "Epoch 43/150\n",
      "591/591 [==============================] - 6s 9ms/step - loss: 1.4953 - accuracy: 0.6059 - val_loss: 1.7670 - val_accuracy: 0.5620 - lr: 6.4000e-04\n",
      "Epoch 44/150\n",
      "591/591 [==============================] - 6s 9ms/step - loss: 1.4807 - accuracy: 0.6072 - val_loss: 1.7776 - val_accuracy: 0.5650 - lr: 6.4000e-04\n",
      "Epoch 45/150\n",
      "591/591 [==============================] - 6s 10ms/step - loss: 1.4688 - accuracy: 0.6119 - val_loss: 1.7500 - val_accuracy: 0.5689 - lr: 6.4000e-04\n",
      "Epoch 46/150\n",
      "591/591 [==============================] - 5s 9ms/step - loss: 1.4548 - accuracy: 0.6150 - val_loss: 1.7873 - val_accuracy: 0.5655 - lr: 6.4000e-04\n",
      "Epoch 47/150\n",
      "591/591 [==============================] - ETA: 0s - loss: 1.4461 - accuracy: 0.6166\n",
      "Epoch 47: ReduceLROnPlateau reducing learning rate to 0.0005120000336319208.\n",
      "591/591 [==============================] - 5s 9ms/step - loss: 1.4461 - accuracy: 0.6166 - val_loss: 1.7555 - val_accuracy: 0.5684 - lr: 6.4000e-04\n",
      "Epoch 48/150\n",
      "591/591 [==============================] - 5s 9ms/step - loss: 1.3960 - accuracy: 0.6306 - val_loss: 1.7350 - val_accuracy: 0.5750 - lr: 5.1200e-04\n",
      "Epoch 49/150\n",
      "591/591 [==============================] - 6s 9ms/step - loss: 1.3843 - accuracy: 0.6317 - val_loss: 1.7388 - val_accuracy: 0.5714 - lr: 5.1200e-04\n",
      "Epoch 50/150\n",
      "591/591 [==============================] - 6s 9ms/step - loss: 1.3781 - accuracy: 0.6324 - val_loss: 1.7322 - val_accuracy: 0.5755 - lr: 5.1200e-04\n",
      "Epoch 51/150\n",
      "591/591 [==============================] - 6s 9ms/step - loss: 1.3636 - accuracy: 0.6378 - val_loss: 1.7633 - val_accuracy: 0.5691 - lr: 5.1200e-04\n",
      "Epoch 52/150\n",
      "591/591 [==============================] - 5s 9ms/step - loss: 1.3521 - accuracy: 0.6400 - val_loss: 1.7287 - val_accuracy: 0.5747 - lr: 5.1200e-04\n",
      "Epoch 53/150\n",
      "591/591 [==============================] - 6s 9ms/step - loss: 1.3463 - accuracy: 0.6398 - val_loss: 1.7335 - val_accuracy: 0.5762 - lr: 5.1200e-04\n",
      "Epoch 54/150\n",
      "588/591 [============================>.] - ETA: 0s - loss: 1.3308 - accuracy: 0.6448\n",
      "Epoch 54: ReduceLROnPlateau reducing learning rate to 0.00040960004553198815.\n",
      "591/591 [==============================] - 5s 9ms/step - loss: 1.3308 - accuracy: 0.6448 - val_loss: 1.7392 - val_accuracy: 0.5742 - lr: 5.1200e-04\n",
      "Epoch 55/150\n",
      "591/591 [==============================] - 6s 9ms/step - loss: 1.2949 - accuracy: 0.6550 - val_loss: 1.7295 - val_accuracy: 0.5825 - lr: 4.0960e-04\n",
      "Epoch 56/150\n",
      "591/591 [==============================] - 6s 9ms/step - loss: 1.2860 - accuracy: 0.6544 - val_loss: 1.7172 - val_accuracy: 0.5825 - lr: 4.0960e-04\n",
      "Epoch 57/150\n",
      "591/591 [==============================] - 5s 9ms/step - loss: 1.2768 - accuracy: 0.6577 - val_loss: 1.7292 - val_accuracy: 0.5802 - lr: 4.0960e-04\n",
      "Epoch 58/150\n",
      "591/591 [==============================] - 6s 9ms/step - loss: 1.2688 - accuracy: 0.6589 - val_loss: 1.7114 - val_accuracy: 0.5848 - lr: 4.0960e-04\n",
      "Epoch 59/150\n",
      "591/591 [==============================] - 5s 9ms/step - loss: 1.2635 - accuracy: 0.6607 - val_loss: 1.7148 - val_accuracy: 0.5827 - lr: 4.0960e-04\n",
      "Epoch 60/150\n",
      "586/591 [============================>.] - ETA: 0s - loss: 1.2504 - accuracy: 0.6637\n",
      "Epoch 60: ReduceLROnPlateau reducing learning rate to 0.00032768002711236477.\n",
      "591/591 [==============================] - 5s 9ms/step - loss: 1.2496 - accuracy: 0.6638 - val_loss: 1.7202 - val_accuracy: 0.5825 - lr: 4.0960e-04\n",
      "Epoch 61/150\n",
      "591/591 [==============================] - 6s 10ms/step - loss: 1.2221 - accuracy: 0.6724 - val_loss: 1.7074 - val_accuracy: 0.5878 - lr: 3.2768e-04\n",
      "Epoch 62/150\n",
      "591/591 [==============================] - 6s 10ms/step - loss: 1.2086 - accuracy: 0.6740 - val_loss: 1.6974 - val_accuracy: 0.5911 - lr: 3.2768e-04\n",
      "Epoch 63/150\n",
      "591/591 [==============================] - 5s 9ms/step - loss: 1.2046 - accuracy: 0.6742 - val_loss: 1.6925 - val_accuracy: 0.5869 - lr: 3.2768e-04\n",
      "Epoch 64/150\n",
      "591/591 [==============================] - 5s 9ms/step - loss: 1.1969 - accuracy: 0.6786 - val_loss: 1.6920 - val_accuracy: 0.5934 - lr: 3.2768e-04\n",
      "Epoch 65/150\n",
      "591/591 [==============================] - 5s 9ms/step - loss: 1.1912 - accuracy: 0.6786 - val_loss: 1.6991 - val_accuracy: 0.5890 - lr: 3.2768e-04\n",
      "Epoch 66/150\n",
      "589/591 [============================>.] - ETA: 0s - loss: 1.1811 - accuracy: 0.6819\n",
      "Epoch 66: ReduceLROnPlateau reducing learning rate to 0.0002621440216898918.\n",
      "591/591 [==============================] - 6s 9ms/step - loss: 1.1811 - accuracy: 0.6818 - val_loss: 1.7003 - val_accuracy: 0.5899 - lr: 3.2768e-04\n",
      "Epoch 67/150\n",
      "591/591 [==============================] - 6s 10ms/step - loss: 1.1498 - accuracy: 0.6883 - val_loss: 1.6805 - val_accuracy: 0.5948 - lr: 2.6214e-04\n",
      "Epoch 68/150\n",
      "591/591 [==============================] - 6s 10ms/step - loss: 1.1469 - accuracy: 0.6901 - val_loss: 1.6831 - val_accuracy: 0.5944 - lr: 2.6214e-04\n",
      "Epoch 69/150\n",
      "588/591 [============================>.] - ETA: 0s - loss: 1.1500 - accuracy: 0.6889\n",
      "Epoch 69: ReduceLROnPlateau reducing learning rate to 0.00020971521735191345.\n",
      "591/591 [==============================] - 6s 9ms/step - loss: 1.1497 - accuracy: 0.6890 - val_loss: 1.6988 - val_accuracy: 0.5927 - lr: 2.6214e-04\n",
      "Epoch 70/150\n",
      "591/591 [==============================] - 5s 9ms/step - loss: 1.1172 - accuracy: 0.6971 - val_loss: 1.6773 - val_accuracy: 0.5934 - lr: 2.0972e-04\n",
      "Epoch 71/150\n",
      "591/591 [==============================] - 6s 10ms/step - loss: 1.1175 - accuracy: 0.6975 - val_loss: 1.6751 - val_accuracy: 0.5956 - lr: 2.0972e-04\n",
      "Epoch 72/150\n",
      "591/591 [==============================] - 6s 9ms/step - loss: 1.1094 - accuracy: 0.6990 - val_loss: 1.6725 - val_accuracy: 0.5992 - lr: 2.0972e-04\n",
      "Epoch 73/150\n",
      "591/591 [==============================] - 6s 10ms/step - loss: 1.1012 - accuracy: 0.7010 - val_loss: 1.6749 - val_accuracy: 0.5973 - lr: 2.0972e-04\n",
      "Epoch 74/150\n",
      "585/591 [============================>.] - ETA: 0s - loss: 1.1024 - accuracy: 0.7026\n",
      "Epoch 74: ReduceLROnPlateau reducing learning rate to 0.00016777217388153076.\n",
      "591/591 [==============================] - 6s 9ms/step - loss: 1.1019 - accuracy: 0.7026 - val_loss: 1.6950 - val_accuracy: 0.5970 - lr: 2.0972e-04\n",
      "Epoch 75/150\n",
      "591/591 [==============================] - 5s 9ms/step - loss: 1.0792 - accuracy: 0.7090 - val_loss: 1.6737 - val_accuracy: 0.5991 - lr: 1.6777e-04\n",
      "Epoch 76/150\n",
      "588/591 [============================>.] - ETA: 0s - loss: 1.0762 - accuracy: 0.7076\n",
      "Epoch 76: ReduceLROnPlateau reducing learning rate to 0.00013421773910522462.\n",
      "591/591 [==============================] - 6s 9ms/step - loss: 1.0763 - accuracy: 0.7076 - val_loss: 1.6868 - val_accuracy: 0.5959 - lr: 1.6777e-04\n",
      "Epoch 77/150\n",
      "591/591 [==============================] - 5s 9ms/step - loss: 1.0590 - accuracy: 0.7141 - val_loss: 1.6718 - val_accuracy: 0.5988 - lr: 1.3422e-04\n",
      "Epoch 78/150\n",
      "591/591 [==============================] - 6s 9ms/step - loss: 1.0559 - accuracy: 0.7145 - val_loss: 1.6755 - val_accuracy: 0.6009 - lr: 1.3422e-04\n",
      "Epoch 79/150\n",
      "591/591 [==============================] - 6s 10ms/step - loss: 1.0552 - accuracy: 0.7138 - val_loss: 1.6707 - val_accuracy: 0.5991 - lr: 1.3422e-04\n",
      "Epoch 80/150\n",
      "591/591 [==============================] - 6s 10ms/step - loss: 1.0514 - accuracy: 0.7136 - val_loss: 1.6795 - val_accuracy: 0.5984 - lr: 1.3422e-04\n",
      "Epoch 81/150\n",
      "585/591 [============================>.] - ETA: 0s - loss: 1.0429 - accuracy: 0.7188\n",
      "Epoch 81: ReduceLROnPlateau reducing learning rate to 0.00010737419361248613.\n",
      "591/591 [==============================] - 6s 9ms/step - loss: 1.0428 - accuracy: 0.7187 - val_loss: 1.6794 - val_accuracy: 0.5992 - lr: 1.3422e-04\n",
      "Epoch 82/150\n",
      "591/591 [==============================] - 6s 9ms/step - loss: 1.0343 - accuracy: 0.7190 - val_loss: 1.6856 - val_accuracy: 0.5986 - lr: 1.0737e-04\n",
      "Epoch 83/150\n",
      "588/591 [============================>.] - ETA: 0s - loss: 1.0319 - accuracy: 0.7210\n",
      "Epoch 83: ReduceLROnPlateau reducing learning rate to 8.589935605414213e-05.\n",
      "591/591 [==============================] - 6s 9ms/step - loss: 1.0324 - accuracy: 0.7209 - val_loss: 1.6740 - val_accuracy: 0.6016 - lr: 1.0737e-04\n",
      "Epoch 84/150\n",
      "591/591 [==============================] - 6s 9ms/step - loss: 1.0187 - accuracy: 0.7224 - val_loss: 1.6771 - val_accuracy: 0.6034 - lr: 8.5899e-05\n",
      "Epoch 85/150\n",
      "585/591 [============================>.] - ETA: 0s - loss: 1.0167 - accuracy: 0.7238\n",
      "Epoch 85: ReduceLROnPlateau reducing learning rate to 6.871948717162013e-05.\n",
      "591/591 [==============================] - 6s 10ms/step - loss: 1.0169 - accuracy: 0.7236 - val_loss: 1.6766 - val_accuracy: 0.6013 - lr: 8.5899e-05\n",
      "Epoch 86/150\n",
      "591/591 [==============================] - 6s 9ms/step - loss: 1.0096 - accuracy: 0.7262 - val_loss: 1.6755 - val_accuracy: 0.6027 - lr: 6.8719e-05\n",
      "Epoch 87/150\n",
      "585/591 [============================>.] - ETA: 0s - loss: 1.0070 - accuracy: 0.7260\n",
      "Epoch 87: ReduceLROnPlateau reducing learning rate to 5.497558740898967e-05.\n",
      "591/591 [==============================] - 5s 9ms/step - loss: 1.0067 - accuracy: 0.7261 - val_loss: 1.6782 - val_accuracy: 0.6007 - lr: 6.8719e-05\n",
      "Epoch 88/150\n",
      "591/591 [==============================] - 6s 10ms/step - loss: 1.0006 - accuracy: 0.7292 - val_loss: 1.6715 - val_accuracy: 0.6042 - lr: 5.4976e-05\n",
      "Epoch 89/150\n",
      "587/591 [============================>.] - ETA: 0s - loss: 1.0000 - accuracy: 0.7286\n",
      "Epoch 89: ReduceLROnPlateau reducing learning rate to 4.398046876303852e-05.\n",
      "591/591 [==============================] - 6s 9ms/step - loss: 0.9995 - accuracy: 0.7288 - val_loss: 1.6797 - val_accuracy: 0.6038 - lr: 5.4976e-05\n",
      "Epoch 90/150\n",
      "591/591 [==============================] - 6s 9ms/step - loss: 0.9917 - accuracy: 0.7319 - val_loss: 1.6732 - val_accuracy: 0.6034 - lr: 4.3980e-05\n",
      "Epoch 91/150\n",
      "589/591 [============================>.] - ETA: 0s - loss: 0.9920 - accuracy: 0.7301\n",
      "Epoch 91: ReduceLROnPlateau reducing learning rate to 3.518437442835421e-05.\n",
      "591/591 [==============================] - 6s 9ms/step - loss: 0.9914 - accuracy: 0.7303 - val_loss: 1.6767 - val_accuracy: 0.6046 - lr: 4.3980e-05\n",
      "Epoch 92/150\n",
      "591/591 [==============================] - 6s 9ms/step - loss: 0.9865 - accuracy: 0.7321 - val_loss: 1.6752 - val_accuracy: 0.6039 - lr: 3.5184e-05\n",
      "Epoch 93/150\n",
      "590/591 [============================>.] - ETA: 0s - loss: 0.9840 - accuracy: 0.7323\n",
      "Epoch 93: ReduceLROnPlateau reducing learning rate to 2.8147498960606756e-05.\n",
      "591/591 [==============================] - 5s 9ms/step - loss: 0.9839 - accuracy: 0.7323 - val_loss: 1.6750 - val_accuracy: 0.6040 - lr: 3.5184e-05\n",
      "Epoch 94/150\n",
      "591/591 [==============================] - 6s 10ms/step - loss: 0.9832 - accuracy: 0.7322 - val_loss: 1.6755 - val_accuracy: 0.6049 - lr: 2.8147e-05\n",
      "Epoch 95/150\n",
      "589/591 [============================>.] - ETA: 0s - loss: 0.9798 - accuracy: 0.7328\n",
      "Epoch 95: ReduceLROnPlateau reducing learning rate to 2.25179988774471e-05.\n",
      "591/591 [==============================] - 5s 9ms/step - loss: 0.9796 - accuracy: 0.7328 - val_loss: 1.6749 - val_accuracy: 0.6033 - lr: 2.8147e-05\n",
      "Epoch 96/150\n",
      "591/591 [==============================] - 6s 10ms/step - loss: 0.9792 - accuracy: 0.7339 - val_loss: 1.6756 - val_accuracy: 0.6057 - lr: 2.2518e-05\n",
      "Epoch 97/150\n",
      "588/591 [============================>.] - ETA: 0s - loss: 0.9766 - accuracy: 0.7349\n",
      "Epoch 97: ReduceLROnPlateau reducing learning rate to 1.8014399392995985e-05.\n",
      "591/591 [==============================] - 5s 9ms/step - loss: 0.9763 - accuracy: 0.7349 - val_loss: 1.6762 - val_accuracy: 0.6056 - lr: 2.2518e-05\n",
      "Epoch 98/150\n",
      "591/591 [==============================] - 6s 9ms/step - loss: 0.9764 - accuracy: 0.7359 - val_loss: 1.6746 - val_accuracy: 0.6044 - lr: 1.8014e-05\n",
      "Epoch 99/150\n",
      "586/591 [============================>.] - ETA: 0s - loss: 0.9741 - accuracy: 0.7348Restoring model weights from the end of the best epoch: 79.\n",
      "\n",
      "Epoch 99: ReduceLROnPlateau reducing learning rate to 1.4411519805435093e-05.\n",
      "591/591 [==============================] - 6s 9ms/step - loss: 0.9740 - accuracy: 0.7347 - val_loss: 1.6742 - val_accuracy: 0.6044 - lr: 1.8014e-05\n",
      "Epoch 99: early stopping\n",
      "Keras weights file (<HDF5 file \"variables.h5\" (mode r+)>) saving:\n",
      "...layers\n",
      "......conv1d\n",
      ".........activation\n",
      "............vars\n",
      ".........vars\n",
      "............0\n",
      "............1\n",
      "......conv1d_1\n",
      ".........activation\n",
      "............vars\n",
      ".........vars\n",
      "............0\n",
      "............1\n",
      "......conv1d_2\n",
      ".........activation\n",
      "............vars\n",
      ".........vars\n",
      "............0\n",
      "............1\n",
      "......dense\n",
      ".........activation\n",
      "............vars\n",
      ".........vars\n",
      "............0\n",
      "............1\n",
      "......dense_1\n",
      ".........activation\n",
      "............vars\n",
      ".........vars\n",
      "............0\n",
      "............1\n",
      "......dense_2\n",
      ".........vars\n",
      "............0\n",
      "............1\n",
      "......dropout\n",
      ".........vars\n",
      "......flatten\n",
      ".........vars\n",
      "......input_layer\n",
      ".........vars\n",
      "......max_pooling1d\n",
      ".........vars\n",
      "......max_pooling1d_1\n",
      ".........vars\n",
      "......max_pooling1d_2\n",
      ".........vars\n",
      "...metrics\n",
      "......mean\n",
      ".........vars\n",
      "............0\n",
      "............1\n",
      "......mean_metric_wrapper\n",
      ".........vars\n",
      "............0\n",
      "............1\n",
      "...optimizer\n",
      "......vars\n",
      ".........0\n",
      ".........1\n",
      ".........10\n",
      ".........11\n",
      ".........12\n",
      ".........13\n",
      ".........14\n",
      ".........15\n",
      ".........16\n",
      ".........17\n",
      ".........18\n",
      ".........19\n",
      ".........2\n",
      ".........20\n",
      ".........21\n",
      ".........22\n",
      ".........23\n",
      ".........24\n",
      ".........3\n",
      ".........4\n",
      ".........5\n",
      ".........6\n",
      ".........7\n",
      ".........8\n",
      ".........9\n",
      "...vars\n",
      "Keras model archive saving:\n",
      "File Name                                             Modified             Size\n",
      "config.json                                    2024-08-28 05:18:14         6500\n",
      "variables.h5                                   2024-08-28 05:18:14     13703800\n",
      "metadata.json                                  2024-08-28 05:18:14           64\n"
     ]
    }
   ],
   "source": [
    "epochs = 150\n",
    "batch_size = 128\n",
    "model_histories = []\n",
    "is_training = True\n",
    "model_class = Model(is_training)\n",
    "X, y = model_class.preprocess()\n",
    "print('data shape: ', X.shape)\n",
    "\n",
    "# build list of models, each of these models builds tensorflow model for use\n",
    "# they'll be trained iteratived, saved and plotted in the next step\n",
    "# added notes above each one about their performance, just as a preview of its progression / for my own reference\n",
    "model_function_list = [\n",
    "    #model 1: base model approach, ~0.3509 accuracy, early stop at 46 epochs\n",
    "#     model_class.compose,  \n",
    "    \n",
    "#     # model 2: more layers approach, ~0.0044 acacuracy, early stop at epochs 49 epochs\n",
    "#     model_class.compose_2, \n",
    "    \n",
    "#     # model 3: change acitivation function to relu leaky approach: ~0.38 accuracy, 100 epochs\n",
    "#     model_class.compose_3, \n",
    "    \n",
    "#     # model 4: add dropout after each dense layer, ~0.36 accuracy plateau, 100 epochs\n",
    "#     model_class.compose_4, \n",
    "    \n",
    "#     # model 5: base model but change batch size to 64 instead of 128, ~0.35 accuracy, early stop\n",
    "#     model_class.compose,\n",
    "    \n",
    "#     # model 6: dropout and relu leaky, ~39% with 100 epochs\n",
    "#     model_class.compose_6, \n",
    "    \n",
    "#     # model 7: ~0.3628 at 100 epochs\n",
    "#     model_class.compose_7, \n",
    "    \n",
    "#     # model 8: add convolutional layers, ~0.4489 at 100 epochs\n",
    "#     model_class.compose_8, \n",
    "    \n",
    "#     # model 9: convolutional layers with ReLU leaky, ~61% accuracy 100 epochs\n",
    "    model_class.compose_8,\n",
    "    \n",
    "    # model 10: keep only 1 convolutional layer from prior run, ~62% 100 epochs\n",
    "    model_class.compose_9]\n",
    "\n",
    "for idx, compose_model_fn in enumerate(model_function_list):\n",
    "    # construct tensorflow model\n",
    "    model = compose_model_fn()\n",
    "    \n",
    "    # batch size is 128 for all expcept for experiment/model #5\n",
    "    batch_size = 64 if idx == 4 else batch_size\n",
    "    \n",
    "    # train model\n",
    "    model_history = model_class.train(X, y, model, epochs, batch_size)\n",
    "     \n",
    "    # save model in outputs so we dont have to retrain later\n",
    "    model_name = 'model_' + str(idx+1) + '_' + str(epochs) + '_epochs'\n",
    "    model_class.save(model_history, model_name)\n",
    "    \n",
    "    # save history for plotting\n",
    "    model_histories.append(model_history)"
   ]
  },
  {
   "cell_type": "markdown",
   "id": "307080a2",
   "metadata": {
    "papermill": {
     "duration": 3.399715,
     "end_time": "2024-08-28T05:18:21.105885",
     "exception": false,
     "start_time": "2024-08-28T05:18:17.706170",
     "status": "completed"
    },
    "tags": []
   },
   "source": [
    "# <font color='289C4E'>8. Evaluate models <font><a class='anchor' id='eval'></a> [↑](#top)\n",
    "    \n",
    "This step will plot validation accuracy vs training accuracy for each model, as well as loss\n",
    "    \n",
    "It will also plot a cummaltive plot of all the models together to compare their accuracy"
   ]
  },
  {
   "cell_type": "code",
   "execution_count": 14,
   "id": "c18fed9a",
   "metadata": {
    "execution": {
     "iopub.execute_input": "2024-08-28T05:18:27.808455Z",
     "iopub.status.busy": "2024-08-28T05:18:27.808026Z",
     "iopub.status.idle": "2024-08-28T05:18:28.745549Z",
     "shell.execute_reply": "2024-08-28T05:18:28.744461Z"
    },
    "papermill": {
     "duration": 4.317179,
     "end_time": "2024-08-28T05:18:28.748635",
     "exception": false,
     "start_time": "2024-08-28T05:18:24.431456",
     "status": "completed"
    },
    "tags": []
   },
   "outputs": [
    {
     "data": {
      "image/png": "[encoded data removed]",
      "text/plain": [
       "<Figure size 1200x1200 with 4 Axes>"
      ]
     },
     "metadata": {},
     "output_type": "display_data"
    },
    {
     "data": {
      "image/png": "[encoded data removed]",
      "text/plain": [
       "<Figure size 800x600 with 1 Axes>"
      ]
     },
     "metadata": {},
     "output_type": "display_data"
    }
   ],
   "source": [
    "eval_class = Evaluate()\n",
    "eval_class.plot_valdiation_multiple_models(model_histories)\n",
    "eval_class.plot_validation_cumlative(model_histories)"
   ]
  },
  {
   "cell_type": "markdown",
   "id": "94cba679",
   "metadata": {
    "papermill": {
     "duration": 3.396795,
     "end_time": "2024-08-28T05:18:35.478854",
     "exception": false,
     "start_time": "2024-08-28T05:18:32.082059",
     "status": "completed"
    },
    "tags": []
   },
   "source": [
    "# <font color='289C4E'> Create submission <font><a class='anchor' id='future_work'></a> [↑](#top)\n",
    "    "
   ]
  },
  {
   "cell_type": "code",
   "execution_count": 15,
   "id": "93691cb7",
   "metadata": {
    "execution": {
     "iopub.execute_input": "2024-08-28T05:18:42.325040Z",
     "iopub.status.busy": "2024-08-28T05:18:42.324059Z",
     "iopub.status.idle": "2024-08-28T05:18:42.443981Z",
     "shell.execute_reply": "2024-08-28T05:18:42.442881Z"
    },
    "papermill": {
     "duration": 3.526669,
     "end_time": "2024-08-28T05:18:42.446609",
     "exception": false,
     "start_time": "2024-08-28T05:18:38.919940",
     "status": "completed"
    },
    "tags": []
   },
   "outputs": [
    {
     "data": {
      "text/plain": [
       "<tf.Tensor: shape=(1, 3258), dtype=float32, numpy=\n",
       "array([[ 0.52765715,  0.37799075, -0.03728105, ...,  0.15039368,\n",
       "         0.0695638 ,  0.04059875]], dtype=float32)>"
      ]
     },
     "execution_count": 15,
     "metadata": {},
     "output_type": "execute_result"
    }
   ],
   "source": [
    "# https://www.kaggle.com/code/dschettler8845/gislr-learn-eda-baseline\n",
    "class PrepInputs(tf.keras.layers.Layer):\n",
    "    def __init__(self, face_idx_range=(0, 468), lh_idx_range=(468, 489), \n",
    "                 pose_idx_range=(489, 522), rh_idx_range=(522, 543)):\n",
    "        super(PrepInputs, self).__init__()\n",
    "        self.idx_ranges = [face_idx_range, lh_idx_range, pose_idx_range, rh_idx_range]\n",
    "        self.flat_feat_lens = [3*(_range[1]-_range[0]) for _range in self.idx_ranges]\n",
    "    \n",
    "    def call(self, x_in):\n",
    "        \n",
    "        # Split the single vector into 4\n",
    "        xs = [x_in[:, _range[0]:_range[1], :] for _range in self.idx_ranges]\n",
    "        \n",
    "        # Reshape based on specific number of keypoints\n",
    "        xs = [tf.reshape(_x, (-1, flat_feat_len)) for _x, flat_feat_len in zip(xs, self.flat_feat_lens)]\n",
    "        \n",
    "        # Drop empty rows - Empty rows are present in \n",
    "        #   --> pose, lh, rh\n",
    "        #   --> so we don't have to for face\n",
    "        xs[1:] = [\n",
    "            tf.boolean_mask(_x, tf.reduce_all(tf.logical_not(tf.math.is_nan(_x)), axis=1), axis=0)\n",
    "            for _x in xs[1:]\n",
    "        ]\n",
    "        \n",
    "        # Get means and stds\n",
    "        x_means = [tf.math.reduce_mean(_x, axis=0) for _x in xs]\n",
    "        x_stds  = [tf.math.reduce_std(_x,  axis=0) for _x in xs]\n",
    "        \n",
    "        x_out = tf.concat([*x_means, *x_stds], axis=0)\n",
    "        x_out = tf.where(tf.math.is_finite(x_out), x_out, tf.zeros_like(x_out))\n",
    "        return tf.expand_dims(x_out, axis=0)\n",
    "    \n",
    "PrepInputs()(model_class.utilties.load_relevant_data_subset(train_data.path[0]))"
   ]
  },
  {
   "cell_type": "code",
   "execution_count": 16,
   "id": "c1ac30dc",
   "metadata": {
    "execution": {
     "iopub.execute_input": "2024-08-28T05:18:49.194923Z",
     "iopub.status.busy": "2024-08-28T05:18:49.193981Z",
     "iopub.status.idle": "2024-08-28T05:18:49.738809Z",
     "shell.execute_reply": "2024-08-28T05:18:49.737419Z"
    },
    "papermill": {
     "duration": 3.857354,
     "end_time": "2024-08-28T05:18:49.741828",
     "exception": false,
     "start_time": "2024-08-28T05:18:45.884474",
     "status": "completed"
    },
    "tags": []
   },
   "outputs": [],
   "source": [
    "# https://www.kaggle.com/code/dschettler8845/gislr-learn-eda-baseline\n",
    "class TensorflowLiteModel(tf.Module):\n",
    "    \"\"\"\n",
    "    TensorFlow Lite model that takes input tensors and applies:\n",
    "        – a preprocessing model\n",
    "        – the ISLR model \n",
    "    \"\"\"\n",
    "\n",
    "    def __init__(self, islr_model):\n",
    "        \"\"\"\n",
    "        Initializes the TensorflowLiteModel with the specified preprocessing model and ISLR model.\n",
    "        \"\"\"\n",
    "        super(TensorflowLiteModel, self).__init__()\n",
    "\n",
    "        # Load the feature generation and main models\n",
    "        self.prep_inputs = PrepInputs()\n",
    "        self.islr_model   = islr_model\n",
    "    \n",
    "    @tf.function(input_signature=[tf.TensorSpec(shape=[None, 543, 3], dtype=tf.float32, name='inputs')])\n",
    "    def __call__(self, inputs):\n",
    "        \"\"\"\n",
    "        Applies the feature generation model and main model to the input tensors.\n",
    "\n",
    "        Args:\n",
    "            inputs: Input tensor with shape [batch_size, 543, 3].\n",
    "\n",
    "        Returns:\n",
    "            A dictionary with a single key 'outputs' and corresponding output tensor.\n",
    "        \"\"\"\n",
    "        x = self.prep_inputs(tf.cast(inputs, dtype=tf.float32))\n",
    "        outputs = self.islr_model(inputs)[0, :]\n",
    "        return {'outputs': outputs}\n",
    "\n",
    "tflite_keras_model = TensorflowLiteModel(islr_model=model)\n",
    "data_test = model_class.utilties.load_relevant_data_subset(train_data.path[0])\n",
    "demo_output = tflite_keras_model(model_class.utilties.load_relevant_data_subset(train_data.path[0]))[\"outputs\"]"
   ]
  },
  {
   "cell_type": "markdown",
   "id": "de35464f",
   "metadata": {
    "papermill": {
     "duration": 3.481751,
     "end_time": "2024-08-28T05:18:56.574326",
     "exception": false,
     "start_time": "2024-08-28T05:18:53.092575",
     "status": "completed"
    },
    "tags": []
   },
   "source": [
    "# <font color='289C4E'> Validate submission <font><a class='anchor' id='future_work'></a> [↑](#top)\n"
   ]
  },
  {
   "cell_type": "code",
   "execution_count": 17,
   "id": "faa16d65",
   "metadata": {
    "execution": {
     "iopub.execute_input": "2024-08-28T05:19:03.362176Z",
     "iopub.status.busy": "2024-08-28T05:19:03.361375Z",
     "iopub.status.idle": "2024-08-28T05:19:22.807910Z",
     "shell.execute_reply": "2024-08-28T05:19:22.806332Z"
    },
    "papermill": {
     "duration": 22.825225,
     "end_time": "2024-08-28T05:19:22.810818",
     "exception": false,
     "start_time": "2024-08-28T05:18:59.985593",
     "status": "completed"
    },
    "tags": []
   },
   "outputs": [
    {
     "name": "stdout",
     "output_type": "stream",
     "text": [
      "\tzip warning: name not matched: /kaggle/working/models/model.tflite\r\n",
      "\r\n",
      "zip error: Nothing to do! (submission.zip)\r\n",
      "Collecting tflite-runtime\r\n",
      "  Downloading tflite_runtime-2.11.0-cp37-cp37m-manylinux2014_x86_64.whl (2.5 MB)\r\n",
      "\u001b[2K     \u001b[90m━━━━━━━━━━━━━━━━━━━━━━━━━━━━━━━━━━━━━━━━\u001b[0m \u001b[32m2.5/2.5 MB\u001b[0m \u001b[31m22.4 MB/s\u001b[0m eta \u001b[36m0:00:00\u001b[0m\r\n",
      "\u001b[?25hRequirement already satisfied: numpy>=1.19.2 in /opt/conda/lib/python3.7/site-packages (from tflite-runtime) (1.21.6)\r\n",
      "Installing collected packages: tflite-runtime\r\n",
      "Successfully installed tflite-runtime-2.11.0\r\n",
      "\u001b[33mWARNING: Running pip as the 'root' user can result in broken permissions and conflicting behaviour with the system package manager. It is recommended to use a virtual environment instead: https://pip.pypa.io/warnings/venv\u001b[0m\u001b[33m\r\n",
      "\u001b[0m\n",
      "otuput:  [nan nan nan nan nan nan nan nan nan nan nan nan nan nan nan nan nan nan\n",
      " nan nan nan nan nan nan nan nan nan nan nan nan nan nan nan nan nan nan\n",
      " nan nan nan nan nan nan nan nan nan nan nan nan nan nan nan nan nan nan\n",
      " nan nan nan nan nan nan nan nan nan nan nan nan nan nan nan nan nan nan\n",
      " nan nan nan nan nan nan nan nan nan nan nan nan nan nan nan nan nan nan\n",
      " nan nan nan nan nan nan nan nan nan nan nan nan nan nan nan nan nan nan\n",
      " nan nan nan nan nan nan nan nan nan nan nan nan nan nan nan nan nan nan\n",
      " nan nan nan nan nan nan nan nan nan nan nan nan nan nan nan nan nan nan\n",
      " nan nan nan nan nan nan nan nan nan nan nan nan nan nan nan nan nan nan\n",
      " nan nan nan nan nan nan nan nan nan nan nan nan nan nan nan nan nan nan\n",
      " nan nan nan nan nan nan nan nan nan nan nan nan nan nan nan nan nan nan\n",
      " nan nan nan nan nan nan nan nan nan nan nan nan nan nan nan nan nan nan\n",
      " nan nan nan nan nan nan nan nan nan nan nan nan nan nan nan nan nan nan\n",
      " nan nan nan nan nan nan nan nan nan nan nan nan nan nan nan nan]\n",
      "prediction :  None\n",
      "ground truth :  blow\n",
      "\n",
      "otuput:  [nan nan nan nan nan nan nan nan nan nan nan nan nan nan nan nan nan nan\n",
      " nan nan nan nan nan nan nan nan nan nan nan nan nan nan nan nan nan nan\n",
      " nan nan nan nan nan nan nan nan nan nan nan nan nan nan nan nan nan nan\n",
      " nan nan nan nan nan nan nan nan nan nan nan nan nan nan nan nan nan nan\n",
      " nan nan nan nan nan nan nan nan nan nan nan nan nan nan nan nan nan nan\n",
      " nan nan nan nan nan nan nan nan nan nan nan nan nan nan nan nan nan nan\n",
      " nan nan nan nan nan nan nan nan nan nan nan nan nan nan nan nan nan nan\n",
      " nan nan nan nan nan nan nan nan nan nan nan nan nan nan nan nan nan nan\n",
      " nan nan nan nan nan nan nan nan nan nan nan nan nan nan nan nan nan nan\n",
      " nan nan nan nan nan nan nan nan nan nan nan nan nan nan nan nan nan nan\n",
      " nan nan nan nan nan nan nan nan nan nan nan nan nan nan nan nan nan nan\n",
      " nan nan nan nan nan nan nan nan nan nan nan nan nan nan nan nan nan nan\n",
      " nan nan nan nan nan nan nan nan nan nan nan nan nan nan nan nan nan nan\n",
      " nan nan nan nan nan nan nan nan nan nan nan nan nan nan nan nan]\n",
      "prediction :  None\n",
      "ground truth :  blow\n",
      "\n",
      "otuput:  [nan nan nan nan nan nan nan nan nan nan nan nan nan nan nan nan nan nan\n",
      " nan nan nan nan nan nan nan nan nan nan nan nan nan nan nan nan nan nan\n",
      " nan nan nan nan nan nan nan nan nan nan nan nan nan nan nan nan nan nan\n",
      " nan nan nan nan nan nan nan nan nan nan nan nan nan nan nan nan nan nan\n",
      " nan nan nan nan nan nan nan nan nan nan nan nan nan nan nan nan nan nan\n",
      " nan nan nan nan nan nan nan nan nan nan nan nan nan nan nan nan nan nan\n",
      " nan nan nan nan nan nan nan nan nan nan nan nan nan nan nan nan nan nan\n",
      " nan nan nan nan nan nan nan nan nan nan nan nan nan nan nan nan nan nan\n",
      " nan nan nan nan nan nan nan nan nan nan nan nan nan nan nan nan nan nan\n",
      " nan nan nan nan nan nan nan nan nan nan nan nan nan nan nan nan nan nan\n",
      " nan nan nan nan nan nan nan nan nan nan nan nan nan nan nan nan nan nan\n",
      " nan nan nan nan nan nan nan nan nan nan nan nan nan nan nan nan nan nan\n",
      " nan nan nan nan nan nan nan nan nan nan nan nan nan nan nan nan nan nan\n",
      " nan nan nan nan nan nan nan nan nan nan nan nan nan nan nan nan]\n",
      "prediction :  None\n",
      "ground truth :  blow\n",
      "\n",
      "otuput:  [nan nan nan nan nan nan nan nan nan nan nan nan nan nan nan nan nan nan\n",
      " nan nan nan nan nan nan nan nan nan nan nan nan nan nan nan nan nan nan\n",
      " nan nan nan nan nan nan nan nan nan nan nan nan nan nan nan nan nan nan\n",
      " nan nan nan nan nan nan nan nan nan nan nan nan nan nan nan nan nan nan\n",
      " nan nan nan nan nan nan nan nan nan nan nan nan nan nan nan nan nan nan\n",
      " nan nan nan nan nan nan nan nan nan nan nan nan nan nan nan nan nan nan\n",
      " nan nan nan nan nan nan nan nan nan nan nan nan nan nan nan nan nan nan\n",
      " nan nan nan nan nan nan nan nan nan nan nan nan nan nan nan nan nan nan\n",
      " nan nan nan nan nan nan nan nan nan nan nan nan nan nan nan nan nan nan\n",
      " nan nan nan nan nan nan nan nan nan nan nan nan nan nan nan nan nan nan\n",
      " nan nan nan nan nan nan nan nan nan nan nan nan nan nan nan nan nan nan\n",
      " nan nan nan nan nan nan nan nan nan nan nan nan nan nan nan nan nan nan\n",
      " nan nan nan nan nan nan nan nan nan nan nan nan nan nan nan nan nan nan\n",
      " nan nan nan nan nan nan nan nan nan nan nan nan nan nan nan nan]\n",
      "prediction :  None\n",
      "ground truth :  blow\n",
      "\n",
      "otuput:  [nan nan nan nan nan nan nan nan nan nan nan nan nan nan nan nan nan nan\n",
      " nan nan nan nan nan nan nan nan nan nan nan nan nan nan nan nan nan nan\n",
      " nan nan nan nan nan nan nan nan nan nan nan nan nan nan nan nan nan nan\n",
      " nan nan nan nan nan nan nan nan nan nan nan nan nan nan nan nan nan nan\n",
      " nan nan nan nan nan nan nan nan nan nan nan nan nan nan nan nan nan nan\n",
      " nan nan nan nan nan nan nan nan nan nan nan nan nan nan nan nan nan nan\n",
      " nan nan nan nan nan nan nan nan nan nan nan nan nan nan nan nan nan nan\n",
      " nan nan nan nan nan nan nan nan nan nan nan nan nan nan nan nan nan nan\n",
      " nan nan nan nan nan nan nan nan nan nan nan nan nan nan nan nan nan nan\n",
      " nan nan nan nan nan nan nan nan nan nan nan nan nan nan nan nan nan nan\n",
      " nan nan nan nan nan nan nan nan nan nan nan nan nan nan nan nan nan nan\n",
      " nan nan nan nan nan nan nan nan nan nan nan nan nan nan nan nan nan nan\n",
      " nan nan nan nan nan nan nan nan nan nan nan nan nan nan nan nan nan nan\n",
      " nan nan nan nan nan nan nan nan nan nan nan nan nan nan nan nan]\n",
      "prediction :  None\n",
      "ground truth :  blow\n",
      "\n",
      "otuput:  [nan nan nan nan nan nan nan nan nan nan nan nan nan nan nan nan nan nan\n",
      " nan nan nan nan nan nan nan nan nan nan nan nan nan nan nan nan nan nan\n",
      " nan nan nan nan nan nan nan nan nan nan nan nan nan nan nan nan nan nan\n",
      " nan nan nan nan nan nan nan nan nan nan nan nan nan nan nan nan nan nan\n",
      " nan nan nan nan nan nan nan nan nan nan nan nan nan nan nan nan nan nan\n",
      " nan nan nan nan nan nan nan nan nan nan nan nan nan nan nan nan nan nan\n",
      " nan nan nan nan nan nan nan nan nan nan nan nan nan nan nan nan nan nan\n",
      " nan nan nan nan nan nan nan nan nan nan nan nan nan nan nan nan nan nan\n",
      " nan nan nan nan nan nan nan nan nan nan nan nan nan nan nan nan nan nan\n",
      " nan nan nan nan nan nan nan nan nan nan nan nan nan nan nan nan nan nan\n",
      " nan nan nan nan nan nan nan nan nan nan nan nan nan nan nan nan nan nan\n",
      " nan nan nan nan nan nan nan nan nan nan nan nan nan nan nan nan nan nan\n",
      " nan nan nan nan nan nan nan nan nan nan nan nan nan nan nan nan nan nan\n",
      " nan nan nan nan nan nan nan nan nan nan nan nan nan nan nan nan]\n",
      "prediction :  None\n",
      "ground truth :  blow\n",
      "\n",
      "otuput:  [nan nan nan nan nan nan nan nan nan nan nan nan nan nan nan nan nan nan\n",
      " nan nan nan nan nan nan nan nan nan nan nan nan nan nan nan nan nan nan\n",
      " nan nan nan nan nan nan nan nan nan nan nan nan nan nan nan nan nan nan\n",
      " nan nan nan nan nan nan nan nan nan nan nan nan nan nan nan nan nan nan\n",
      " nan nan nan nan nan nan nan nan nan nan nan nan nan nan nan nan nan nan\n",
      " nan nan nan nan nan nan nan nan nan nan nan nan nan nan nan nan nan nan\n",
      " nan nan nan nan nan nan nan nan nan nan nan nan nan nan nan nan nan nan\n",
      " nan nan nan nan nan nan nan nan nan nan nan nan nan nan nan nan nan nan\n",
      " nan nan nan nan nan nan nan nan nan nan nan nan nan nan nan nan nan nan\n",
      " nan nan nan nan nan nan nan nan nan nan nan nan nan nan nan nan nan nan\n",
      " nan nan nan nan nan nan nan nan nan nan nan nan nan nan nan nan nan nan\n",
      " nan nan nan nan nan nan nan nan nan nan nan nan nan nan nan nan nan nan\n",
      " nan nan nan nan nan nan nan nan nan nan nan nan nan nan nan nan nan nan\n",
      " nan nan nan nan nan nan nan nan nan nan nan nan nan nan nan nan]\n",
      "prediction :  None\n",
      "ground truth :  blow\n",
      "\n",
      "otuput:  [nan nan nan nan nan nan nan nan nan nan nan nan nan nan nan nan nan nan\n",
      " nan nan nan nan nan nan nan nan nan nan nan nan nan nan nan nan nan nan\n",
      " nan nan nan nan nan nan nan nan nan nan nan nan nan nan nan nan nan nan\n",
      " nan nan nan nan nan nan nan nan nan nan nan nan nan nan nan nan nan nan\n",
      " nan nan nan nan nan nan nan nan nan nan nan nan nan nan nan nan nan nan\n",
      " nan nan nan nan nan nan nan nan nan nan nan nan nan nan nan nan nan nan\n",
      " nan nan nan nan nan nan nan nan nan nan nan nan nan nan nan nan nan nan\n",
      " nan nan nan nan nan nan nan nan nan nan nan nan nan nan nan nan nan nan\n",
      " nan nan nan nan nan nan nan nan nan nan nan nan nan nan nan nan nan nan\n",
      " nan nan nan nan nan nan nan nan nan nan nan nan nan nan nan nan nan nan\n",
      " nan nan nan nan nan nan nan nan nan nan nan nan nan nan nan nan nan nan\n",
      " nan nan nan nan nan nan nan nan nan nan nan nan nan nan nan nan nan nan\n",
      " nan nan nan nan nan nan nan nan nan nan nan nan nan nan nan nan nan nan\n",
      " nan nan nan nan nan nan nan nan nan nan nan nan nan nan nan nan]\n",
      "prediction :  None\n",
      "ground truth :  blow\n",
      "\n",
      "otuput:  [nan nan nan nan nan nan nan nan nan nan nan nan nan nan nan nan nan nan\n",
      " nan nan nan nan nan nan nan nan nan nan nan nan nan nan nan nan nan nan\n",
      " nan nan nan nan nan nan nan nan nan nan nan nan nan nan nan nan nan nan\n",
      " nan nan nan nan nan nan nan nan nan nan nan nan nan nan nan nan nan nan\n",
      " nan nan nan nan nan nan nan nan nan nan nan nan nan nan nan nan nan nan\n",
      " nan nan nan nan nan nan nan nan nan nan nan nan nan nan nan nan nan nan\n",
      " nan nan nan nan nan nan nan nan nan nan nan nan nan nan nan nan nan nan\n",
      " nan nan nan nan nan nan nan nan nan nan nan nan nan nan nan nan nan nan\n",
      " nan nan nan nan nan nan nan nan nan nan nan nan nan nan nan nan nan nan\n",
      " nan nan nan nan nan nan nan nan nan nan nan nan nan nan nan nan nan nan\n",
      " nan nan nan nan nan nan nan nan nan nan nan nan nan nan nan nan nan nan\n",
      " nan nan nan nan nan nan nan nan nan nan nan nan nan nan nan nan nan nan\n",
      " nan nan nan nan nan nan nan nan nan nan nan nan nan nan nan nan nan nan\n",
      " nan nan nan nan nan nan nan nan nan nan nan nan nan nan nan nan]\n",
      "prediction :  None\n",
      "ground truth :  blow\n"
     ]
    }
   ],
   "source": [
    "keras_model_converter = tf.lite.TFLiteConverter.from_keras_model(tflite_keras_model)\n",
    "tflite_model = keras_model_converter.convert()\n",
    "with open('/kaggle/working/model.tflite', 'wb') as f:\n",
    "    f.write(tflite_model)\n",
    "!zip submission.zip /kaggle/working/models/model.tflite\n",
    "\n",
    "!pip install tflite-runtime\n",
    "import tflite_runtime.interpreter as tflite\n",
    "\n",
    "interpreter = tflite.Interpreter(\"/kaggle/working/model.tflite\")\n",
    "found_signatures = list(interpreter.get_signature_list().keys())\n",
    "prediction_fn = interpreter.get_signature_runner(\"serving_default\")\n",
    "\n",
    "# output = prediction_fn(inputs=model_class.utilties.load_relevant_data_subset(train_data.path[0]))\n",
    "# sign = np.argmax(output[\"outputs\"])\n",
    "\n",
    "# print(\"prediction : \", eval_class.decoder(sign))\n",
    "# print(\"ground truth : \", train_data.sign[0])\n",
    "\n",
    "for path in train_data.path[1:10]:\n",
    "    output = prediction_fn(inputs=model_class.utilties.load_relevant_data_subset(path))\n",
    "    sign = np.argmax(output[\"outputs\"])\n",
    "    print('')\n",
    "    print('otuput: ', output[\"outputs\"])\n",
    "    print(\"prediction : \", eval_class.decoder(sign))\n",
    "    print(\"ground truth : \", train_data.sign[0])"
   ]
  },
  {
   "cell_type": "code",
   "execution_count": 18,
   "id": "19a8503f",
   "metadata": {
    "execution": {
     "iopub.execute_input": "2024-08-28T05:19:29.552777Z",
     "iopub.status.busy": "2024-08-28T05:19:29.551573Z",
     "iopub.status.idle": "2024-08-28T05:19:30.963167Z",
     "shell.execute_reply": "2024-08-28T05:19:30.961882Z"
    },
    "papermill": {
     "duration": 4.778155,
     "end_time": "2024-08-28T05:19:30.966147",
     "exception": false,
     "start_time": "2024-08-28T05:19:26.187992",
     "status": "completed"
    },
    "tags": []
   },
   "outputs": [
    {
     "name": "stdout",
     "output_type": "stream",
     "text": [
      "  adding: kaggle/working/model.tflite (deflated 7%)\r\n"
     ]
    }
   ],
   "source": [
    "submission_path = '/kaggle/working/model.tflite'\n",
    "!zip submission.zip $submission_path"
   ]
  },
  {
   "cell_type": "markdown",
   "id": "dfa232d9",
   "metadata": {
    "papermill": {
     "duration": 3.420245,
     "end_time": "2024-08-28T05:19:37.735437",
     "exception": false,
     "start_time": "2024-08-28T05:19:34.315192",
     "status": "completed"
    },
    "tags": []
   },
   "source": [
    "# <font color='289C4E'>Future work <font><a class='anchor' id='future_work'></a> [↑](#top)\n",
    "    \n",
    "    \n",
    "There is a lot more to do be done here in order to improve overall classification accuracy! some things that this notebook did not explore but would like to for future work:  \n",
    "- data augmentation to create more data\n",
    "- preprocessing data differently, handling NaN's differently\n",
    "- adding LSTM's to see how that affects accuracy"
   ]
  },
  {
   "cell_type": "markdown",
   "id": "c7306050",
   "metadata": {
    "papermill": {
     "duration": 3.50971,
     "end_time": "2024-08-28T05:19:44.656721",
     "exception": false,
     "start_time": "2024-08-28T05:19:41.147011",
     "status": "completed"
    },
    "tags": []
   },
   "source": [
    "# <font color='289C4E'>References <font><a class='anchor' id='references'></a> [↑](#top)\n",
    "    \n",
    "[🤟 GISLR 🤟 - 📚Learn – 🔭EDA – 🤖Baseline](https://www.kaggle.com/code/dschettler8845/gislr-learn-eda-baseline#background_information)\n",
    "    \n",
    "[Tips To Make Your Notebook Look Better]()\n",
    "    \n",
    "[Isolated Sign Language Aggregation Dataset](https://www.kaggle.com/datasets/lonnieqin/isolated-sign-language-aggregation-dataset?select=train.csv)"
   ]
  }
 ],
 "metadata": {
  "kaggle": {
   "accelerator": "gpu",
   "dataSources": [
    {
     "databundleVersionId": 5087314,
     "sourceId": 46105,
     "sourceType": "competition"
    },
    {
     "datasetId": 2941209,
     "sourceId": 5065715,
     "sourceType": "datasetVersion"
    }
   ],
   "dockerImageVersionId": 30407,
   "isGpuEnabled": true,
   "isInternetEnabled": true,
   "language": "python",
   "sourceType": "notebook"
  },
  "kernelspec": {
   "display_name": "Python 3",
   "language": "python",
   "name": "python3"
  },
  "language_info": {
   "codemirror_mode": {
    "name": "ipython",
    "version": 3
   },
   "file_extension": ".py",
   "mimetype": "text/x-python",
   "name": "python",
   "nbconvert_exporter": "python",
   "pygments_lexer": "ipython3",
   "version": "3.7.12"
  },
  "papermill": {
   "default_parameters": {},
   "duration": 3563.871335,
   "end_time": "2024-08-28T05:19:51.016700",
   "environment_variables": {},
   "exception": null,
   "input_path": "__notebook__.ipynb",
   "output_path": "__notebook__.ipynb",
   "parameters": {},
   "start_time": "2024-08-28T04:20:27.145365",
   "version": "2.4.0"
  }
 },
 "nbformat": 4,
 "nbformat_minor": 5
}
